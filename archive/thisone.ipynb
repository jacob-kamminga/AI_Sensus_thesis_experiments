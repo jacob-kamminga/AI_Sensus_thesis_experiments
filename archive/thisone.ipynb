{
 "cells": [
  {
   "cell_type": "code",
   "execution_count": 2,
   "id": "indoor-roads",
   "metadata": {},
   "outputs": [],
   "source": [
    "from __future__ import print_function\n",
    "from matplotlib import pyplot as plt\n",
    "%matplotlib inline\n",
    "import numpy as np\n",
    "import pandas as pd\n",
    "import seaborn as sns\n",
    "from scipy import stats\n",
    "from IPython.display import display, HTML\n",
    "\n",
    "from sklearn import metrics\n",
    "from sklearn.metrics import classification_report\n",
    "from sklearn import preprocessing\n",
    "\n",
    "import keras\n",
    "from keras.models import Sequential\n",
    "from keras.layers import Dense, Dropout, Flatten, Reshape\n",
    "from keras.layers import Conv2D, MaxPooling2D\n",
    "from keras.utils import np_utils\n",
    "\n",
    "import glob\n",
    "import os"
   ]
  },
  {
   "cell_type": "code",
   "execution_count": null,
   "id": "freelance-drinking",
   "metadata": {},
   "outputs": [],
   "source": []
  },
  {
   "cell_type": "code",
   "execution_count": 3,
   "id": "hazardous-modeling",
   "metadata": {},
   "outputs": [],
   "source": [
    "# Set some standard parameters upfront\n",
    "pd.options.display.float_format = '{:.1f}'.format\n",
    "sns.set() # Default seaborn look and feel\n",
    "plt.style.use('ggplot')\n",
    "# Same labels will be reused throughout the program\n",
    "LABELS = ['running_rider', 'scared', 'standing', 'trotting_rider', 'unknown', 'walking_rider', 'head_shake', 'scratch_biting', 'walking_natural', 'grazing', 'running_natural', 'trotting_natural', 'eating', 'jumping', 'shaking', 'rolling', 'fighting', 'rubbing']\n",
    "# The number of steps within one time segment\n",
    "TIME_PERIODS = 100\n",
    "# The steps to take from one segment to the next; if this value is equal to\n",
    "# TIME_PERIODS, then there is no overlap between the segments\n",
    "STEP_DISTANCE = 50"
   ]
  },
  {
   "cell_type": "code",
   "execution_count": 4,
   "id": "editorial-there",
   "metadata": {},
   "outputs": [],
   "source": [
    "def read_data(file_path):\n",
    "\n",
    "    column_names = ['Ax',\n",
    "                    'Ay',\n",
    "                    'Az',\n",
    "                    'Gx',\n",
    "                    'Gy',\n",
    "                    'Gz',\n",
    "                    'Mx',\n",
    "                    'My',\n",
    "                    'Mz',\n",
    "                    'A3D',\n",
    "                    'G3D',\n",
    "                    'M3D',\n",
    "                    'datetime',\n",
    "                    'label',\n",
    "                    'segment',\n",
    "                    'subject']\n",
    "    df = pd.read_csv(file_path,\n",
    "                     header=None,\n",
    "                     names=column_names)\n",
    "    return df\n",
    " \n",
    "def show_basic_dataframe_info(dataframe):\n",
    "    # Shape and how many rows and columns\n",
    "    print('Number of columns in the dataframe: %i' % (dataframe.shape[1]))\n",
    "    print('Number of rows in the dataframe: %i\\n' % (dataframe.shape[0]))"
   ]
  },
  {
   "cell_type": "code",
   "execution_count": 5,
   "id": "developed-barcelona",
   "metadata": {},
   "outputs": [
    {
     "name": "stderr",
     "output_type": "stream",
     "text": [
      "/home/rosalie/.local/lib/python3.8/site-packages/pandas/core/reshape/concat.py:285: DtypeWarning: Columns (0,1,2,3,4,5,6,7,8,9,10,11,14) have mixed types.Specify dtype option on import or set low_memory=False.\n",
      "  op = _Concatenator(\n"
     ]
    }
   ],
   "source": [
    "#allfiles = glob.glob('Data/*.csv')\n",
    "#print(allfiles)\n",
    "#df = pd.concat((pd.read_data(f) for f in allfiles), ignore_index=True)\n",
    "\n",
    "df = pd.concat((read_data(f) for f in glob.glob('Data/*')), ignore_index=True)"
   ]
  },
  {
   "cell_type": "code",
   "execution_count": 6,
   "id": "ecological-trainer",
   "metadata": {},
   "outputs": [
    {
     "name": "stdout",
     "output_type": "stream",
     "text": [
      "Number of columns in the dataframe: 16\n",
      "Number of rows in the dataframe: 10763585\n",
      "\n"
     ]
    }
   ],
   "source": [
    "# Describe the data\n",
    "show_basic_dataframe_info(df)\n"
   ]
  },
  {
   "cell_type": "markdown",
   "id": "still-humidity",
   "metadata": {},
   "source": [
    "# PRE PROCESSING"
   ]
  },
  {
   "cell_type": "markdown",
   "id": "accepted-gravity",
   "metadata": {},
   "source": [
    "- Shuffle data frame\n",
    "- Split to test and train set\n",
    "- Normalize to a range\n",
    "- TODO segment\n",
    "- TODO balance"
   ]
  },
  {
   "cell_type": "code",
   "execution_count": 39,
   "id": "improving-strip",
   "metadata": {},
   "outputs": [
    {
     "data": {
      "text/plain": [
       "10763585"
      ]
     },
     "execution_count": 39,
     "metadata": {},
     "output_type": "execute_result"
    }
   ],
   "source": [
    "len(df)"
   ]
  },
  {
   "cell_type": "code",
   "execution_count": 7,
   "id": "partial-spotlight",
   "metadata": {},
   "outputs": [],
   "source": [
    "#shuffling the whole dataframe\n",
    "def shuffle(data_frame):\n",
    "    return data_frame.sample(frac=1).reset_index(drop=True)\n"
   ]
  },
  {
   "cell_type": "code",
   "execution_count": 8,
   "id": "worth-fence",
   "metadata": {},
   "outputs": [],
   "source": [
    "#splitting in to training and test data\n",
    "def split_test_train(data_frame, ratio):\n",
    "    ratio = len(data_frame) * ratio\n",
    "    ratio = int(ratio)\n",
    "    train = data_frame[:ratio]\n",
    "    test = data_frame[ratio:]\n",
    "    return train, test"
   ]
  },
  {
   "cell_type": "code",
   "execution_count": 9,
   "id": "specified-arcade",
   "metadata": {},
   "outputs": [],
   "source": [
    "#im guessing we need some sort of range to adapt the normalization but idk how for now\n",
    "\n",
    "#normalize the training set\n",
    "def normalize(train):\n",
    "    pd.options.mode.chained_assignment = None  # default='warn'\n",
    "    train['x-axis'] = train['x-axis'] / train['x-axis'].max()\n",
    "    train['y-axis'] = train['y-axis'] / train['y-axis'].max()\n",
    "    train['z-axis'] = train['z-axis'] / train['z-axis'].max()\n",
    "    return train"
   ]
  },
  {
   "cell_type": "code",
   "execution_count": 10,
   "id": "middle-community",
   "metadata": {},
   "outputs": [],
   "source": [
    "#segmenting the data\n",
    "def segment(data_frame, time_step, step, label_name):\n",
    "    feature_nr = 3\n",
    "    segments = []\n",
    "    lables = []\n",
    "    \n",
    "    for i in range(0, len(data_frame)):\n",
    "        xs = data_frame['x-axis'].values[i: i + time_step]\n",
    "        ys = data_frame['y-axis'].values[i: i + time_step]\n",
    "        zs = data_frame['z-axis'].values[i: i + time_step]\n",
    "        segments.append([xs,ys,zs])\n",
    "        \n",
    "        label = stats.mode(data_frame[label_name][i: i + time_step])[0][0]\n",
    "        labels.append(label)\n",
    "        \n",
    "    segments = np.asarray(segments, dtype= np.float32).reshape(-1, time_step, N_FEATURES)      \n",
    "    labels = np.asarray(labels)\n",
    "    return segments, labels"
   ]
  },
  {
   "cell_type": "code",
   "execution_count": 12,
   "id": "hired-retention",
   "metadata": {},
   "outputs": [],
   "source": [
    "#balancing the dataframe\n",
    "def balanced_data_frame(data_frame):\n",
    "    return -1\n",
    "    "
   ]
  },
  {
   "cell_type": "code",
   "execution_count": null,
   "id": "pointed-compromise",
   "metadata": {},
   "outputs": [],
   "source": []
  }
 ],
 "metadata": {
  "kernelspec": {
   "display_name": "Python 3",
   "language": "python",
   "name": "python3"
  },
  "language_info": {
   "codemirror_mode": {
    "name": "ipython",
    "version": 3
   },
   "file_extension": ".py",
   "mimetype": "text/x-python",
   "name": "python",
   "nbconvert_exporter": "python",
   "pygments_lexer": "ipython3",
   "version": "3.8.8"
  }
 },
 "nbformat": 4,
 "nbformat_minor": 5
}
