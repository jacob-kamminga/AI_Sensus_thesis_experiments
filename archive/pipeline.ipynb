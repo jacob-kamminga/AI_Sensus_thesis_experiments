{
 "cells": [
  {
   "cell_type": "code",
   "execution_count": 1,
   "id": "488f37e2",
   "metadata": {},
   "outputs": [],
   "source": [
    "#plotting and printing\n",
    "from __future__ import print_function\n",
    "from matplotlib import pyplot as plt\n",
    "\n",
    "#machine learning packages\n",
    "from sklearn import metrics\n",
    "from sklearn.metrics import classification_report\n",
    "from sklearn import preprocessing\n",
    "from sklearn.utils import shuffle\n",
    "\n",
    "#other packages\n",
    "import numpy as np\n",
    "import pandas as pd\n",
    "import seaborn as sns\n",
    "from scipy import stats\n",
    "from IPython.display import display, HTML\n",
    "\n",
    "import keras\n",
    "from keras.models import Sequential\n",
    "from keras.layers import Dense, Dropout, Flatten, Reshape\n",
    "from keras.layers import Conv2D, MaxPooling2D\n",
    "from keras.utils import np_utils\n",
    "\n",
    "import re\n",
    "from ast import literal_eval\n",
    "\n",
    "#file management\n",
    "import glob\n",
    "import os\n",
    "\n",
    "#database information\n",
    "from datetime import date\n",
    "from peewee import *\n",
    "import uuid"
   ]
  },
  {
   "cell_type": "markdown",
   "id": "fed49ce7",
   "metadata": {},
   "source": [
    "# Settings"
   ]
  },
  {
   "cell_type": "code",
   "execution_count": 2,
   "id": "0b2701c4",
   "metadata": {},
   "outputs": [],
   "source": [
    "#For now, you can log in to Maartje's username. Later, this should be changed to separate users.\n",
    "name = 'maartjehuveneers'\n",
    "pw = 'p4RwxJCchw7Ljqhv'\n",
    "\n",
    "#Settings for the experiment\n",
    "#Include the model description here, as this is NOT included in the parameters\n",
    "DESCRIPTION = \"Neural Network with 6 layers (Reshape, Dense x3, Flatten, Dense)\""
   ]
  },
  {
   "cell_type": "markdown",
   "id": "d7add7e0",
   "metadata": {},
   "source": [
    "# Database setup"
   ]
  },
  {
   "cell_type": "code",
   "execution_count": 3,
   "id": "e2bedca5",
   "metadata": {},
   "outputs": [
    {
     "data": {
      "text/plain": [
       "True"
      ]
     },
     "execution_count": 3,
     "metadata": {},
     "output_type": "execute_result"
    }
   ],
   "source": [
    "#Setting up database\n",
    "db = MySQLDatabase('HorsingAround', user=name, password=pw,\n",
    "                         host='www.jacobkamminga.nl', port=3306)\n",
    "\n",
    "class Experiment(Model):\n",
    "    key = UUIDField()\n",
    "    username = TextField()\n",
    "    test_horse = TextField()\n",
    "    date = DateField()\n",
    "    accuracy_experiment = FloatField()\n",
    "    balanced_accuracy_experiment = FloatField()\n",
    "    fscore = FloatField()\n",
    "    mcc = FloatField()\n",
    "    recall = FloatField()\n",
    "    confusion_matrix = BlobField()\n",
    "    parameters = TextField()\n",
    "    description = TextField()\n",
    "    class Meta:\n",
    "        database = db\n",
    "\n",
    "class Activity(Model):\n",
    "    key = UUIDField()\n",
    "    test_horse = TextField()\n",
    "    activity = TextField()\n",
    "    accuracy_activity = FloatField()\n",
    "    recall_activity = FloatField()\n",
    "    specificity = FloatField()\n",
    "    precision = FloatField()\n",
    "    TP = IntegerField()\n",
    "    TN = IntegerField()\n",
    "    FP = IntegerField()\n",
    "    FN = IntegerField()\n",
    "    class Meta:\n",
    "        database = db\n",
    "\n",
    "db.connect()"
   ]
  },
  {
   "cell_type": "code",
   "execution_count": 32,
   "id": "ccc7a3ef",
   "metadata": {},
   "outputs": [],
   "source": [
    "#The next lines are used to create a new table in the database, don't uncomment this unless needed. Otherwise we make a new table every time we run the program\n",
    "\n",
    "# db.drop_tables([Experiment, Activity])\n",
    "# db.create_tables([Experiment, Activity])"
   ]
  },
  {
   "cell_type": "markdown",
   "id": "08af8b19",
   "metadata": {},
   "source": [
    "# Labels and Settings"
   ]
  },
  {
   "cell_type": "code",
   "execution_count": 5,
   "id": "15cb02e2",
   "metadata": {},
   "outputs": [],
   "source": [
    "#Some styling\n",
    "pd.options.display.float_format = '{:.1f}'.format\n",
    "sns.set()\n",
    "plt.style.use('ggplot')\n",
    "\n",
    "#Label encoder used to get a numeric representation of a label\n",
    "le = preprocessing.LabelEncoder()\n",
    "\n",
    "#The activities\n",
    "LABELS = ['grazing', 'running', 'trotting', 'standing', 'walking-natural', 'walking-rider']\n",
    "\n",
    "#Sliding windows\n",
    "TIME_PERIODS = 200\n",
    "STEP_DISTANCE = 100\n",
    "\n",
    "#Datasets\n",
    "FILES = sorted(glob.glob('Data/*'))"
   ]
  },
  {
   "cell_type": "markdown",
   "id": "65a7c7ba",
   "metadata": {},
   "source": [
    "# Set up dataframe"
   ]
  },
  {
   "cell_type": "code",
   "execution_count": 6,
   "id": "fc1a478c",
   "metadata": {},
   "outputs": [],
   "source": [
    "REMOVE_COLUMNS = ['Mx', 'My', 'Mz','A3D','G3D','M3D'] #Add columns to drop from dataframe\n",
    "\n",
    "def loadDataFrame(files):\n",
    "    \"\"\"\n",
    "    Simple function to set up dataframe and initial clean-up of the data\n",
    "    files: path to files\n",
    "    returns: combined dataframe of all files\n",
    "    \"\"\"\n",
    "    df = pd.DataFrame()\n",
    "    for file in files:\n",
    "        csv = pd.read_csv(file)\n",
    "        csv['filename']=file\n",
    "        df = df.append(csv)\n",
    "        \n",
    "    df.drop(REMOVE_COLUMNS, axis=1, inplace=True)\n",
    "    df['ActivityEncoded'] = le.fit_transform(df['label'].values.ravel())\n",
    "\n",
    "    return df\n",
    "\n",
    "def convert_to_float(x):\n",
    "\n",
    "    try:\n",
    "        return np.float(x)\n",
    "    except:\n",
    "        return np.nan\n",
    "\n",
    "\n",
    "df = loadDataFrame(FILES)"
   ]
  },
  {
   "cell_type": "markdown",
   "id": "2de5cfa7",
   "metadata": {
    "tags": []
   },
   "source": [
    "# Plot data composition"
   ]
  },
  {
   "cell_type": "code",
   "execution_count": 7,
   "id": "f3873b6f",
   "metadata": {
    "tags": []
   },
   "outputs": [],
   "source": [
    "# def show_basic_dataframe_info(dataframe):\n",
    "\n",
    "#     # Shape and how many rows and columns\n",
    "#     print('Number of columns in the dataframe: %i' % (dataframe.shape[1]))\n",
    "#     print('Number of rows in the dataframe: %i\\n' % (dataframe.shape[0]))\n",
    "\n",
    "# show_basic_dataframe_info(df)\n",
    "# df.head(20)"
   ]
  },
  {
   "cell_type": "code",
   "execution_count": 8,
   "id": "4e12a0a1",
   "metadata": {},
   "outputs": [],
   "source": [
    "#Plotting activity data\n",
    "\n",
    "#Training examples per activity type\n",
    "# SECONDS = 10 #nr of seconds to display accelerometer data\n",
    "# SAMPLING_RATE = 20 #the sampling rate at which data was recorded\n",
    "\n",
    "# def plot_activity(activity, data):\n",
    "#     fig, ax = plt.subplots(nrows=2, ncols=1, figsize=(10, 4))\n",
    "#     l1, = ax[0].plot(data['datetime'], data['Ax'], label=\"X-axis\")\n",
    "#     l2, = ax[0].plot(data['datetime'], data['Ay'], label=\"Y-Axis\")\n",
    "#     l3, = ax[0].plot(data['datetime'], data['Az'], label=\"Z-Axis\")\n",
    "#     ax[0].set_ylabel('Acceleration (m/$s^2$)')\n",
    "#     ax[0].set_xlabel('Time')\n",
    "#     ax[0].legend(handles=[l1,l2,l3], loc='lower right')\n",
    "#     ax[0].xaxis.set_ticks([])\n",
    "#     ax[0].set_title(activity+\" accelerometer data over time\")\n",
    "#     ax[0].grid(False)\n",
    "    \n",
    "#     l1, = ax[1].plot(data['datetime'], data['Gx'], label=\"X-axis\")\n",
    "#     l2, = ax[1].plot(data['datetime'], data['Gy'], label=\"Y-Axis\")\n",
    "#     l3, = ax[1].plot(data['datetime'], data['Gz'], label=\"Z-Axis\")\n",
    "#     ax[1].set_ylabel('Angular velocity ($^\\circ$/s)')\n",
    "#     ax[1].set_xlabel('Time')\n",
    "#     ax[1].legend(handles=[l1,l2,l3], loc='lower right')\n",
    "#     ax[1].xaxis.set_ticks([])\n",
    "#     ax[1].set_title(activity+\" gyroscope data over time\")\n",
    "#     ax[1].grid(False)\n",
    "#     plt.tight_layout()\n",
    "#     if(activity == 'eating' or activity == 'running-natural' or activity == 'shaking'):\n",
    "#         plt.savefig(activity)\n",
    "#     plt.show()\n",
    "\n",
    "# #plot all 3 subplots for each activity\n",
    "# for activity in np.unique(df['label']):\n",
    "#     subset = df[df['label'] == activity][:SECONDS*SAMPLING_RATE] \n",
    "#     plot_activity(activity, subset)"
   ]
  },
  {
   "cell_type": "markdown",
   "id": "cb4f1b69",
   "metadata": {
    "tags": []
   },
   "source": [
    "# Get only relevant subjects"
   ]
  },
  {
   "cell_type": "code",
   "execution_count": 9,
   "id": "34a0e74b",
   "metadata": {
    "tags": []
   },
   "outputs": [],
   "source": [
    "#These are the indexes of the relevant subjects, see FILES\n",
    "indexes = [1,2,7,8,9,13,14,15,16,17]\n",
    "subjects = [FILES[x] for x in indexes]\n",
    "\n",
    "#new dataframe with only the horses in subjects\n",
    "df = df[df['filename'].isin(subjects)]\n",
    "\n",
    "#Might need to add Viva later on again?\n",
    "subject_names = ['Galoway', 'Patron', 'Happy', 'Driekus']"
   ]
  },
  {
   "cell_type": "markdown",
   "id": "c0d03eb2-6d9f-4a99-9885-065515261b62",
   "metadata": {},
   "source": [
    "# Get only relevant activities"
   ]
  },
  {
   "cell_type": "code",
   "execution_count": 10,
   "id": "26aa284d-08b4-4685-bb53-60fc071f0675",
   "metadata": {},
   "outputs": [
    {
     "data": {
      "image/png": "[encoded data removed]",
      "text/plain": [
       "<Figure size 432x288 with 1 Axes>"
      ]
     },
     "metadata": {},
     "output_type": "display_data"
    }
   ],
   "source": [
    "df['label'].value_counts().plot(kind='bar', title='Training Examples by Activity Type')\n",
    "plt.show()"
   ]
  },
  {
   "cell_type": "code",
   "execution_count": 12,
   "id": "a44fd8b2-5883-4479-98e2-2e9e76d79434",
   "metadata": {},
   "outputs": [],
   "source": [
    "df['label'] = df['label'].replace(to_replace=['trotting-natural'], value='trotting')\n",
    "df['label'] = df['label'].replace(to_replace=['trotting-rider'], value='trotting')\n",
    "df['label'] = df['label'].replace(to_replace=['running-natural'], value='running')\n",
    "df['label'] = df['label'].replace(to_replace=['running-rider'], value='running')\n",
    "\n",
    "#new dataframe with only the horses in subjects\n",
    "df = df[df['label'].isin(LABELS)]"
   ]
  },
  {
   "cell_type": "code",
   "execution_count": 13,
   "id": "b57de2cb-b4ed-44ee-9952-b745ddf92d22",
   "metadata": {},
   "outputs": [
    {
     "data": {
      "image/png": "[encoded data removed]",
      "text/plain": [
       "<Figure size 432x288 with 1 Axes>"
      ]
     },
     "metadata": {},
     "output_type": "display_data"
    }
   ],
   "source": [
    "df['label'].value_counts().plot(kind='bar', title='Training Examples by Activity Type')\n",
    "plt.show()"
   ]
  },
  {
   "cell_type": "markdown",
   "id": "417e2a0c",
   "metadata": {},
   "source": [
    "# Encoding the labels to integers"
   ]
  },
  {
   "cell_type": "code",
   "execution_count": 14,
   "id": "906b113f",
   "metadata": {},
   "outputs": [],
   "source": [
    "# Define column name of the label vector\n",
    "LABEL = 'ActivityEncoded'\n",
    "# Transform the labels from String to Integer via LabelEncoder\n",
    "le = preprocessing.LabelEncoder()\n",
    "# Add a new column to the existing DataFrame with the encoded values\n",
    "df[LABEL] = le.fit_transform(df['label'].values.ravel())"
   ]
  },
  {
   "cell_type": "markdown",
   "id": "36e54b59",
   "metadata": {
    "tags": []
   },
   "source": [
    "# Splitting in test and train"
   ]
  },
  {
   "cell_type": "code",
   "execution_count": 15,
   "id": "c61e7acf",
   "metadata": {
    "tags": []
   },
   "outputs": [],
   "source": [
    "'''\n",
    "  Function to split train and test data by subject\n",
    "  df = dataframe\n",
    "  name = subject to put in test subset\n",
    "  '''\n",
    "def splitBySubject(name):\n",
    "    print(name)\n",
    "    test = df[df['filename'].str.contains(name)]\n",
    "    train = df[~df['filename'].str.contains(name)]\n",
    "    return train, test"
   ]
  },
  {
   "cell_type": "markdown",
   "id": "c110982c",
   "metadata": {},
   "source": [
    "# Feature scaling"
   ]
  },
  {
   "cell_type": "code",
   "execution_count": 16,
   "id": "53ebb914",
   "metadata": {
    "tags": []
   },
   "outputs": [],
   "source": [
    "def featureScaling(data):\n",
    "    train_x_max = data['Ax'].max()\n",
    "    train_y_max = data['Ay'].max()\n",
    "    train_z_max = data['Az'].max()\n",
    "\n",
    "    train_gx_max = data['Gx'].max()\n",
    "    train_gy_max = data['Gy'].max()\n",
    "    train_gz_max = data['Gz'].max()\n",
    "\n",
    "    pd.options.mode.chained_assignment = None\n",
    "\n",
    "    #divide all 3 axis with the max value in the training set\n",
    "    data['Ax'] = data['Ax'] / train_x_max\n",
    "    data['Ay'] = data['Ay'] / train_y_max\n",
    "    data['Az'] = data['Az'] / train_z_max\n",
    "\n",
    "    data['Gx'] = data['Ax'] / train_gx_max\n",
    "    data['Gy'] = data['Ay'] / train_gy_max\n",
    "    data['Gz'] = data['Az'] / train_gz_max\n",
    "    return data"
   ]
  },
  {
   "cell_type": "markdown",
   "id": "61f3a3ab",
   "metadata": {},
   "source": [
    "# Windowing"
   ]
  },
  {
   "cell_type": "code",
   "execution_count": 17,
   "id": "c6452c6e",
   "metadata": {},
   "outputs": [],
   "source": [
    "def createWindows(df, time_steps, step, label_name):\n",
    "    N_FEATURES = 6\n",
    "    windows = []\n",
    "    labels = []\n",
    "    for i in range(0, len(df)-time_steps, step):\n",
    "        axs = df['Ax'].values[i: i + time_steps]\n",
    "        ays = df['Ay'].values[i: i + time_steps]\n",
    "        azs = df['Az'].values[i: i + time_steps]\n",
    "\n",
    "        gxs = df['Gx'].values[i: i + time_steps]\n",
    "        gys = df['Gy'].values[i: i + time_steps]\n",
    "        gzs = df['Gz'].values[i: i + time_steps]\n",
    "        # Retrieve the most often used label in this segment\n",
    "        label = stats.mode(df[label_name][i: i + time_steps])[0][0]\n",
    "        windows.append([axs, ays, azs, gxs, gys, gzs])\n",
    "        labels.append(label)\n",
    "    # Bring the segments into a better shape\n",
    "    reshaped_windows = np.asarray(windows, dtype= np.float32).reshape(-1, time_steps, N_FEATURES)\n",
    "    labels = np.asarray(labels)\n",
    "\n",
    "    return reshaped_windows, labels"
   ]
  },
  {
   "cell_type": "markdown",
   "id": "6588f1bf",
   "metadata": {},
   "source": [
    "# Reshaping data"
   ]
  },
  {
   "cell_type": "code",
   "execution_count": 18,
   "id": "72fb1830",
   "metadata": {
    "tags": []
   },
   "outputs": [],
   "source": [
    "# reshaping one dimentional xtrain into fitted data for the classifier\n",
    "def inputShape(data):\n",
    "    data = data.reshape(data.shape[0], input_shape)\n",
    "    return data"
   ]
  },
  {
   "cell_type": "markdown",
   "id": "c786cbf9",
   "metadata": {},
   "source": [
    "# OneHotCoding the labels"
   ]
  },
  {
   "cell_type": "code",
   "execution_count": 19,
   "id": "4901f0d7",
   "metadata": {},
   "outputs": [],
   "source": [
    "# Applying one hot coding to y_train\n",
    "def oneHotCoding(data):\n",
    "    y_train_hot = np_utils.to_categorical(data, num_classes)\n",
    "    return y_train_hot"
   ]
  },
  {
   "cell_type": "markdown",
   "id": "b42509bf",
   "metadata": {},
   "source": [
    "# Classifier"
   ]
  },
  {
   "cell_type": "code",
   "execution_count": 20,
   "id": "b3c9f06c",
   "metadata": {},
   "outputs": [],
   "source": [
    "def classifierModel():\n",
    "    model_m = Sequential()\n",
    "    # Remark: since coreml cannot accept vector shapes of complex shape like\n",
    "    # [80,3] this workaround is used in order to reshape the vector internally\n",
    "    # prior feeding it into the network\n",
    "    model_m.add(Reshape((TIME_PERIODS, 6), input_shape=(input_shape,)))\n",
    "    model_m.add(Dense(100, activation='relu'))\n",
    "    model_m.add(Dense(100, activation='relu'))\n",
    "    model_m.add(Dense(100, activation='relu'))\n",
    "    model_m.add(Flatten())\n",
    "    model_m.add(Dense(num_classes, activation='softmax'))\n",
    "    return model_m"
   ]
  },
  {
   "cell_type": "code",
   "execution_count": 21,
   "id": "5cea77ba",
   "metadata": {
    "tags": []
   },
   "outputs": [],
   "source": [
    "# Hyper-parameters\n",
    "BATCH_SIZE = 600\n",
    "EPOCHS = 2\n",
    "    \n",
    "# takes x_train and y_train_hot\n",
    "def classifier(xdata, ydata):\n",
    "    modelm = classifierModel()\n",
    "\n",
    "    callbacks_list = [\n",
    "        keras.callbacks.EarlyStopping(monitor='accuracy', patience=1)\n",
    "    ]\n",
    "\n",
    "    modelm.compile(loss='categorical_crossentropy',\n",
    "                    optimizer='adam', metrics=['accuracy'])\n",
    "\n",
    "    # Enable validation to use ModelCheckpoint and EarlyStopping callbacks.\n",
    "    history = modelm.fit(xdata,\n",
    "                          ydata,\n",
    "                          batch_size=BATCH_SIZE,\n",
    "                          epochs=EPOCHS,\n",
    "                          callbacks=callbacks_list,\n",
    "                          validation_split=0.2,\n",
    "                          verbose=1)\n",
    "    return history, modelm"
   ]
  },
  {
   "cell_type": "code",
   "execution_count": 22,
   "id": "b48e2486",
   "metadata": {
    "tags": []
   },
   "outputs": [],
   "source": [
    "#printing the evaluation results of the train dataset\n",
    "def printResults(history, modelm, x_train, y_train):\n",
    "    plt.figure(figsize=(6, 4))\n",
    "    plt.plot(history.history['accuracy'], 'r', label='Accuracy of training data')\n",
    "    plt.plot(history.history['val_accuracy'], 'b', label='Accuracy of validation data')\n",
    "    plt.plot(history.history['loss'], 'r--', label='Loss of training data')\n",
    "    plt.plot(history.history['val_loss'], 'b--', label='Loss of validation data')\n",
    "    plt.title('Model Accuracy and Loss')\n",
    "    plt.ylabel('Accuracy and Loss')\n",
    "    plt.xlabel('Training Epoch')\n",
    "    plt.ylim(0)\n",
    "    plt.legend()\n",
    "    plt.show()\n",
    "\n",
    "    # Print confusion matrix for training data\n",
    "    y_pred_train = modelm.predict(x_train)\n",
    "    # Take the class with the highest probability from the train predictions\n",
    "    max_y_pred_train = np.argmax(y_pred_train, axis=1)\n",
    "    print(classification_report(y_train, max_y_pred_train))"
   ]
  },
  {
   "cell_type": "code",
   "execution_count": 23,
   "id": "ed15644e",
   "metadata": {},
   "outputs": [],
   "source": [
    "#printing the evaluation results of the test dataset\n",
    "def testModel(test, modelm):\n",
    "    # Normalize features for training data set\n",
    "    test['Ax'] = test['Ax'] / test['Ax'].max()\n",
    "    test['Ay'] = test['Ay'] / test['Ay'].max()\n",
    "    test['Az'] = test['Az'] / test['Az'].max()\n",
    "\n",
    "    test['Gx'] = test['Gx'] / test['Gx'].max()\n",
    "    test['Gy'] = test['Gy'] / test['Gy'].max()\n",
    "    test['Gz'] = test['Gz'] / test['Gz'].max()\n",
    "\n",
    "    x_test, y_test = createWindows(test,\n",
    "                                   TIME_PERIODS,\n",
    "                                   STEP_DISTANCE,\n",
    "                                   LABEL)\n",
    "    \n",
    "    # Set input_shape / reshape for Keras\n",
    "    x_test = x_test.reshape(x_test.shape[0], input_shape)\n",
    "\n",
    "    x_test = x_test.astype('float32')\n",
    "    y_test = y_test.astype('float32')\n",
    "\n",
    "    y_test = np_utils.to_categorical(y_test, num_classes)\n",
    "    \n",
    "    return x_test, y_test"
   ]
  },
  {
   "cell_type": "code",
   "execution_count": 24,
   "id": "41c7e86a",
   "metadata": {
    "tags": []
   },
   "outputs": [],
   "source": [
    "def show_confusion_matrix(validations, predictions, model_m, test):\n",
    "    matrix = metrics.confusion_matrix(validations, predictions)\n",
    "    plt.figure(figsize=(6, 4))\n",
    "    sns.heatmap(matrix,\n",
    "                cmap='coolwarm',\n",
    "                linecolor='white',\n",
    "                linewidths=1,\n",
    "                xticklabels=LABELS,\n",
    "                yticklabels=LABELS,\n",
    "                annot=True,\n",
    "                fmt='d')\n",
    "    plt.title('Confusion Matrix')\n",
    "    plt.ylabel('True Label')\n",
    "    plt.xlabel('Predicted Label')\n",
    "    plt.show()\n",
    "\n",
    "    y_pred_test = model_m.predict(x_test)\n",
    "    # Take the class with the highest probability from the test predictions\n",
    "    max_y_pred_test = np.argmax(y_pred_test, axis=1)\n",
    "    max_y_test = np.argmax(y_test, axis=1)\n",
    "\n",
    "    \n",
    "    precision_per_class, recall_per_class, f_score_per_class, _ = metrics.precision_recall_fscore_support(max_y_test, max_y_pred_test, zero_division=0)\n",
    "    _, recall_avg, f_score_avg, _ = metrics.precision_recall_fscore_support(max_y_test, max_y_pred_test, pos_label=None, average=\"weighted\", zero_division=0)\n",
    "    mcc = metrics.matthews_corrcoef(max_y_test, max_y_pred_test)\n",
    "    balanced_accuracy = metrics.balanced_accuracy_score(max_y_test, max_y_pred_test)\n",
    "    accuracy = metrics.accuracy_score(max_y_test, max_y_pred_test)\n",
    "    \n",
    "    print('\\nAccuracy on test data: %0.2f' % accuracy)\n",
    "    \n",
    "    #print(classification_report(max_y_test, max_y_pred_test, output_dict=True))\n",
    "    return matrix, precision_per_class, recall_per_class, f_score_per_class, recall_avg, f_score_avg, mcc, balanced_accuracy, accuracy"
   ]
  },
  {
   "cell_type": "code",
   "execution_count": 25,
   "id": "c84030a3",
   "metadata": {},
   "outputs": [],
   "source": [
    "experiment_key = '5109de74-d829-490c-bc62-5713b442fd60'\n",
    "query = Experiment.select().where(Experiment.key == experiment_key).dicts()\n",
    "\n",
    "conf_matrix = []\n",
    "#query = Experiment.select().dicts()\n",
    "for q in query:\n",
    "    conf_matrix = q\n",
    "\n",
    "#query = Activity.select().dicts()\n",
    "#for q in query:\n",
    "#    print(q)"
   ]
  },
  {
   "cell_type": "markdown",
   "id": "50f72fc8",
   "metadata": {},
   "source": [
    "# Converting bytearray to confusion matrix"
   ]
  },
  {
   "cell_type": "code",
   "execution_count": 26,
   "id": "1341de80",
   "metadata": {},
   "outputs": [],
   "source": [
    "#The new_matrix needs to be copied in here from the database\n",
    "#This is not part of the classifier itself!\n",
    "if(len(conf_matrix)!=0):\n",
    "    m = conf_matrix.get('confusion_matrix')\n",
    "    m = m.decode()\n",
    "    m = m.replace(\"{'confusion_matrix': \", \"\")\n",
    "    m = m.replace(\"}\", \"\")\n",
    "    m = re.sub(\"\\s+\", \",\", m.strip())\n",
    "    m = m.replace(\"[,\", \"[\")\n",
    "    m = literal_eval(m)\n",
    "    plt.figure(figsize=(6, 4))\n",
    "    sns.heatmap(m,\n",
    "                cmap='coolwarm',\n",
    "                linecolor='white',\n",
    "                linewidths=1,\n",
    "                xticklabels=LABELS,\n",
    "                yticklabels=LABELS,\n",
    "                annot=True,\n",
    "                fmt='d')\n",
    "    plt.title('Confusion Matrix')\n",
    "    plt.ylabel('True Label')\n",
    "    plt.xlabel('Predicted Label')\n",
    "    plt.show()"
   ]
  },
  {
   "cell_type": "code",
   "execution_count": 34,
   "id": "e5bc1a7c",
   "metadata": {},
   "outputs": [
    {
     "data": {
      "text/html": [
       "<div>\n",
       "<style scoped>\n",
       "    .dataframe tbody tr th:only-of-type {\n",
       "        vertical-align: middle;\n",
       "    }\n",
       "\n",
       "    .dataframe tbody tr th {\n",
       "        vertical-align: top;\n",
       "    }\n",
       "\n",
       "    .dataframe thead th {\n",
       "        text-align: right;\n",
       "    }\n",
       "</style>\n",
       "<table border=\"1\" class=\"dataframe\">\n",
       "  <thead>\n",
       "    <tr style=\"text-align: right;\">\n",
       "      <th></th>\n",
       "      <th>id</th>\n",
       "      <th>key</th>\n",
       "      <th>username</th>\n",
       "      <th>test_horse</th>\n",
       "      <th>date</th>\n",
       "      <th>accuracy_experiment</th>\n",
       "      <th>balanced_accuracy_experiment</th>\n",
       "      <th>fscore</th>\n",
       "      <th>mcc</th>\n",
       "      <th>recall</th>\n",
       "      <th>confusion_matrix</th>\n",
       "      <th>parameters</th>\n",
       "      <th>description</th>\n",
       "    </tr>\n",
       "  </thead>\n",
       "  <tbody>\n",
       "    <tr>\n",
       "      <th>0</th>\n",
       "      <td>1</td>\n",
       "      <td>89c4f095-84f4-446a-9db9-4406fbb81ca9</td>\n",
       "      <td>suzannespink</td>\n",
       "      <td>Galoway</td>\n",
       "      <td>2021-05-17</td>\n",
       "      <td>0.73122</td>\n",
       "      <td>0.00000</td>\n",
       "      <td>0.70390</td>\n",
       "      <td>0.64406</td>\n",
       "      <td>0.73122</td>\n",
       "      <td>b'[[    0     0     0     0     0     0     0 ...</td>\n",
       "      <td>TIME_PERIOD: 200, STEP_DISTANCE: 100, BATCH_SI...</td>\n",
       "      <td>Neural Network with 6 layers (Reshape, Dense x...</td>\n",
       "    </tr>\n",
       "    <tr>\n",
       "      <th>1</th>\n",
       "      <td>2</td>\n",
       "      <td>f6fe1f8d-52e3-4015-af8f-c64e62f73ccb</td>\n",
       "      <td>maartjehuveneers</td>\n",
       "      <td>Galoway</td>\n",
       "      <td>2021-05-17</td>\n",
       "      <td>0.80462</td>\n",
       "      <td>0.61325</td>\n",
       "      <td>0.77483</td>\n",
       "      <td>0.73547</td>\n",
       "      <td>0.80462</td>\n",
       "      <td>b'[[ 4012     0   857     0    78    28]\\n [  ...</td>\n",
       "      <td>TIME_PERIOD: 200, STEP_DISTANCE: 100, BATCH_SI...</td>\n",
       "      <td>Neural Network with 6 layers (Reshape, Dense x...</td>\n",
       "    </tr>\n",
       "    <tr>\n",
       "      <th>2</th>\n",
       "      <td>3</td>\n",
       "      <td>89c4f095-84f4-446a-9db9-4406fbb81ca9</td>\n",
       "      <td>suzannespink</td>\n",
       "      <td>Patron</td>\n",
       "      <td>2021-05-17</td>\n",
       "      <td>0.85480</td>\n",
       "      <td>0.00000</td>\n",
       "      <td>0.81522</td>\n",
       "      <td>0.80256</td>\n",
       "      <td>0.85480</td>\n",
       "      <td>b'[[1746    0    0    0    0    0   86    0   ...</td>\n",
       "      <td>TIME_PERIOD: 200, STEP_DISTANCE: 100, BATCH_SI...</td>\n",
       "      <td>Neural Network with 6 layers (Reshape, Dense x...</td>\n",
       "    </tr>\n",
       "    <tr>\n",
       "      <th>3</th>\n",
       "      <td>4</td>\n",
       "      <td>f6fe1f8d-52e3-4015-af8f-c64e62f73ccb</td>\n",
       "      <td>maartjehuveneers</td>\n",
       "      <td>Patron</td>\n",
       "      <td>2021-05-17</td>\n",
       "      <td>0.90702</td>\n",
       "      <td>0.58222</td>\n",
       "      <td>0.88140</td>\n",
       "      <td>0.82867</td>\n",
       "      <td>0.90702</td>\n",
       "      <td>b'[[   0    0    0    0    0    0]\\n [   0    ...</td>\n",
       "      <td>TIME_PERIOD: 200, STEP_DISTANCE: 100, BATCH_SI...</td>\n",
       "      <td>Neural Network with 6 layers (Reshape, Dense x...</td>\n",
       "    </tr>\n",
       "    <tr>\n",
       "      <th>4</th>\n",
       "      <td>5</td>\n",
       "      <td>89c4f095-84f4-446a-9db9-4406fbb81ca9</td>\n",
       "      <td>suzannespink</td>\n",
       "      <td>Happy</td>\n",
       "      <td>2021-05-17</td>\n",
       "      <td>0.89129</td>\n",
       "      <td>0.00000</td>\n",
       "      <td>0.88627</td>\n",
       "      <td>0.85110</td>\n",
       "      <td>0.89129</td>\n",
       "      <td>b'[[   0    2    0    0    0    0    0    0   ...</td>\n",
       "      <td>TIME_PERIOD: 200, STEP_DISTANCE: 100, BATCH_SI...</td>\n",
       "      <td>Neural Network with 6 layers (Reshape, Dense x...</td>\n",
       "    </tr>\n",
       "    <tr>\n",
       "      <th>5</th>\n",
       "      <td>6</td>\n",
       "      <td>f6fe1f8d-52e3-4015-af8f-c64e62f73ccb</td>\n",
       "      <td>maartjehuveneers</td>\n",
       "      <td>Happy</td>\n",
       "      <td>2021-05-17</td>\n",
       "      <td>0.88825</td>\n",
       "      <td>0.60766</td>\n",
       "      <td>0.86307</td>\n",
       "      <td>0.84411</td>\n",
       "      <td>0.88825</td>\n",
       "      <td>b'[[5835    0    4    0   13    5]\\n [   0    ...</td>\n",
       "      <td>TIME_PERIOD: 200, STEP_DISTANCE: 100, BATCH_SI...</td>\n",
       "      <td>Neural Network with 6 layers (Reshape, Dense x...</td>\n",
       "    </tr>\n",
       "    <tr>\n",
       "      <th>6</th>\n",
       "      <td>7</td>\n",
       "      <td>89c4f095-84f4-446a-9db9-4406fbb81ca9</td>\n",
       "      <td>suzannespink</td>\n",
       "      <td>Driekus</td>\n",
       "      <td>2021-05-17</td>\n",
       "      <td>0.65024</td>\n",
       "      <td>0.00000</td>\n",
       "      <td>0.69070</td>\n",
       "      <td>0.62118</td>\n",
       "      <td>0.65024</td>\n",
       "      <td>b'[[   0    0   32    0    0    0    0    0   ...</td>\n",
       "      <td>TIME_PERIOD: 200, STEP_DISTANCE: 100, BATCH_SI...</td>\n",
       "      <td>Neural Network with 6 layers (Reshape, Dense x...</td>\n",
       "    </tr>\n",
       "    <tr>\n",
       "      <th>7</th>\n",
       "      <td>8</td>\n",
       "      <td>f6fe1f8d-52e3-4015-af8f-c64e62f73ccb</td>\n",
       "      <td>maartjehuveneers</td>\n",
       "      <td>Driekus</td>\n",
       "      <td>2021-05-17</td>\n",
       "      <td>0.80543</td>\n",
       "      <td>0.59315</td>\n",
       "      <td>0.80768</td>\n",
       "      <td>0.72839</td>\n",
       "      <td>0.80543</td>\n",
       "      <td>b'[[2872    0    0    0    0    1]\\n [   0   1...</td>\n",
       "      <td>TIME_PERIOD: 200, STEP_DISTANCE: 100, BATCH_SI...</td>\n",
       "      <td>Neural Network with 6 layers (Reshape, Dense x...</td>\n",
       "    </tr>\n",
       "  </tbody>\n",
       "</table>\n",
       "</div>"
      ],
      "text/plain": [
       "   id                                   key          username test_horse  \\\n",
       "0   1  89c4f095-84f4-446a-9db9-4406fbb81ca9      suzannespink    Galoway   \n",
       "1   2  f6fe1f8d-52e3-4015-af8f-c64e62f73ccb  maartjehuveneers    Galoway   \n",
       "2   3  89c4f095-84f4-446a-9db9-4406fbb81ca9      suzannespink     Patron   \n",
       "3   4  f6fe1f8d-52e3-4015-af8f-c64e62f73ccb  maartjehuveneers     Patron   \n",
       "4   5  89c4f095-84f4-446a-9db9-4406fbb81ca9      suzannespink      Happy   \n",
       "5   6  f6fe1f8d-52e3-4015-af8f-c64e62f73ccb  maartjehuveneers      Happy   \n",
       "6   7  89c4f095-84f4-446a-9db9-4406fbb81ca9      suzannespink    Driekus   \n",
       "7   8  f6fe1f8d-52e3-4015-af8f-c64e62f73ccb  maartjehuveneers    Driekus   \n",
       "\n",
       "         date  accuracy_experiment  balanced_accuracy_experiment  fscore  \\\n",
       "0  2021-05-17              0.73122                       0.00000 0.70390   \n",
       "1  2021-05-17              0.80462                       0.61325 0.77483   \n",
       "2  2021-05-17              0.85480                       0.00000 0.81522   \n",
       "3  2021-05-17              0.90702                       0.58222 0.88140   \n",
       "4  2021-05-17              0.89129                       0.00000 0.88627   \n",
       "5  2021-05-17              0.88825                       0.60766 0.86307   \n",
       "6  2021-05-17              0.65024                       0.00000 0.69070   \n",
       "7  2021-05-17              0.80543                       0.59315 0.80768   \n",
       "\n",
       "      mcc  recall                                   confusion_matrix  \\\n",
       "0 0.64406 0.73122  b'[[    0     0     0     0     0     0     0 ...   \n",
       "1 0.73547 0.80462  b'[[ 4012     0   857     0    78    28]\\n [  ...   \n",
       "2 0.80256 0.85480  b'[[1746    0    0    0    0    0   86    0   ...   \n",
       "3 0.82867 0.90702  b'[[   0    0    0    0    0    0]\\n [   0    ...   \n",
       "4 0.85110 0.89129  b'[[   0    2    0    0    0    0    0    0   ...   \n",
       "5 0.84411 0.88825  b'[[5835    0    4    0   13    5]\\n [   0    ...   \n",
       "6 0.62118 0.65024  b'[[   0    0   32    0    0    0    0    0   ...   \n",
       "7 0.72839 0.80543  b'[[2872    0    0    0    0    1]\\n [   0   1...   \n",
       "\n",
       "                                          parameters  \\\n",
       "0  TIME_PERIOD: 200, STEP_DISTANCE: 100, BATCH_SI...   \n",
       "1  TIME_PERIOD: 200, STEP_DISTANCE: 100, BATCH_SI...   \n",
       "2  TIME_PERIOD: 200, STEP_DISTANCE: 100, BATCH_SI...   \n",
       "3  TIME_PERIOD: 200, STEP_DISTANCE: 100, BATCH_SI...   \n",
       "4  TIME_PERIOD: 200, STEP_DISTANCE: 100, BATCH_SI...   \n",
       "5  TIME_PERIOD: 200, STEP_DISTANCE: 100, BATCH_SI...   \n",
       "6  TIME_PERIOD: 200, STEP_DISTANCE: 100, BATCH_SI...   \n",
       "7  TIME_PERIOD: 200, STEP_DISTANCE: 100, BATCH_SI...   \n",
       "\n",
       "                                         description  \n",
       "0  Neural Network with 6 layers (Reshape, Dense x...  \n",
       "1  Neural Network with 6 layers (Reshape, Dense x...  \n",
       "2  Neural Network with 6 layers (Reshape, Dense x...  \n",
       "3  Neural Network with 6 layers (Reshape, Dense x...  \n",
       "4  Neural Network with 6 layers (Reshape, Dense x...  \n",
       "5  Neural Network with 6 layers (Reshape, Dense x...  \n",
       "6  Neural Network with 6 layers (Reshape, Dense x...  \n",
       "7  Neural Network with 6 layers (Reshape, Dense x...  "
      ]
     },
     "metadata": {},
     "output_type": "display_data"
    },
    {
     "data": {
      "text/html": [
       "<div>\n",
       "<style scoped>\n",
       "    .dataframe tbody tr th:only-of-type {\n",
       "        vertical-align: middle;\n",
       "    }\n",
       "\n",
       "    .dataframe tbody tr th {\n",
       "        vertical-align: top;\n",
       "    }\n",
       "\n",
       "    .dataframe thead th {\n",
       "        text-align: right;\n",
       "    }\n",
       "</style>\n",
       "<table border=\"1\" class=\"dataframe\">\n",
       "  <thead>\n",
       "    <tr style=\"text-align: right;\">\n",
       "      <th></th>\n",
       "    </tr>\n",
       "  </thead>\n",
       "  <tbody>\n",
       "  </tbody>\n",
       "</table>\n",
       "</div>"
      ],
      "text/plain": [
       "Empty DataFrame\n",
       "Columns: []\n",
       "Index: []"
      ]
     },
     "metadata": {},
     "output_type": "display_data"
    }
   ],
   "source": [
    "#searching for an experiment and printing its results\n",
    "#insert experiment key below as variable\n",
    "experiment_key = \"4f788d5a-586c-401c-aab2-4778f04780c0\"\n",
    "\n",
    "# query = Experiment.select().where(Activity.key == experiment_key).dicts()\n",
    "# querydf = pd.DataFrame(query)\n",
    "# display(querydf)\n",
    "\n",
    "#query = Experiment.select().where(Experiment.key == experiment_key).dicts()\n",
    "query = Experiment.select().dicts()\n",
    "pd.options.display.float_format = '{:,.5f}'.format\n",
    "querydf = pd.DataFrame.from_dict(query)\n",
    "display(querydf)\n",
    "    \n",
    "query = Activity.select().where(Activity.key == experiment_key).dicts()\n",
    "pd.options.display.float_format = '{:,.5f}'.format\n",
    "querydf = pd.DataFrame.from_dict(query)\n",
    "display(querydf)\n",
    "    \n",
    "\n",
    "# #selecting queries based on date\n",
    "# query = Experiment.select().where(Experiment.date.day == 3, Experiment.date.month == 5).dicts()"
   ]
  },
  {
   "cell_type": "code",
   "execution_count": 28,
   "id": "a4c3957b",
   "metadata": {},
   "outputs": [],
   "source": [
    "#model description is NOT included in the parameters\n",
    "PARAMETERS = \"TIME_PERIOD: \" + str(TIME_PERIODS) + \", STEP_DISTANCE: \" + str(STEP_DISTANCE) + \", BATCH_SIZE: \" + str(BATCH_SIZE) + \", EPOCHS: \" + str(EPOCHS)"
   ]
  },
  {
   "cell_type": "markdown",
   "id": "211f5e57",
   "metadata": {},
   "source": [
    "# Loop of training with all subjects"
   ]
  },
  {
   "cell_type": "code",
   "execution_count": 33,
   "id": "918185ff",
   "metadata": {},
   "outputs": [
    {
     "name": "stdout",
     "output_type": "stream",
     "text": [
      "Galoway\n",
      "Epoch 1/2\n",
      "66/66 [==============================] - 6s 73ms/step - loss: 1.1833 - accuracy: 0.5863 - val_loss: 0.2956 - val_accuracy: 0.9208\n",
      "Epoch 2/2\n",
      "66/66 [==============================] - 4s 59ms/step - loss: 0.2628 - accuracy: 0.9271 - val_loss: 0.2309 - val_accuracy: 0.9328\n"
     ]
    },
    {
     "data": {
      "image/png": "[encoded data removed]",
      "text/plain": [
       "<Figure size 432x288 with 2 Axes>"
      ]
     },
     "metadata": {},
     "output_type": "display_data"
    },
    {
     "name": "stdout",
     "output_type": "stream",
     "text": [
      "\n",
      "Accuracy on test data: 0.80\n",
      "Patron\n",
      "Epoch 1/2\n",
      "98/98 [==============================] - 9s 67ms/step - loss: 1.0457 - accuracy: 0.6581 - val_loss: 0.2917 - val_accuracy: 0.9063\n",
      "Epoch 2/2\n",
      "98/98 [==============================] - 6s 59ms/step - loss: 0.2670 - accuracy: 0.9135 - val_loss: 0.2486 - val_accuracy: 0.9195\n"
     ]
    },
    {
     "data": {
      "image/png": "[encoded data removed]",
      "text/plain": [
       "<Figure size 432x288 with 2 Axes>"
      ]
     },
     "metadata": {},
     "output_type": "display_data"
    },
    {
     "name": "stderr",
     "output_type": "stream",
     "text": [
      "/usr/local/lib/python3.8/dist-packages/sklearn/metrics/_classification.py:1850: UserWarning: y_pred contains classes not in y_true\n",
      "  warnings.warn('y_pred contains classes not in y_true')\n"
     ]
    },
    {
     "name": "stdout",
     "output_type": "stream",
     "text": [
      "\n",
      "Accuracy on test data: 0.91\n",
      "Happy\n",
      "Epoch 1/2\n",
      "68/68 [==============================] - 6s 70ms/step - loss: 1.1710 - accuracy: 0.5696 - val_loss: 0.3837 - val_accuracy: 0.8727\n",
      "Epoch 2/2\n",
      "68/68 [==============================] - 4s 59ms/step - loss: 0.3090 - accuracy: 0.8984 - val_loss: 0.3003 - val_accuracy: 0.9033\n"
     ]
    },
    {
     "data": {
      "image/png": "[encoded data removed]",
      "text/plain": [
       "<Figure size 432x288 with 2 Axes>"
      ]
     },
     "metadata": {},
     "output_type": "display_data"
    },
    {
     "name": "stdout",
     "output_type": "stream",
     "text": [
      "\n",
      "Accuracy on test data: 0.89\n",
      "Driekus\n",
      "Epoch 1/2\n",
      "88/88 [==============================] - 8s 68ms/step - loss: 1.0577 - accuracy: 0.6391 - val_loss: 0.2623 - val_accuracy: 0.9134\n",
      "Epoch 2/2\n",
      "88/88 [==============================] - 5s 58ms/step - loss: 0.2647 - accuracy: 0.9143 - val_loss: 0.2479 - val_accuracy: 0.9189\n"
     ]
    },
    {
     "data": {
      "image/png": "[encoded data removed]",
      "text/plain": [
       "<Figure size 432x288 with 2 Axes>"
      ]
     },
     "metadata": {},
     "output_type": "display_data"
    },
    {
     "name": "stdout",
     "output_type": "stream",
     "text": [
      "\n",
      "Accuracy on test data: 0.81\n"
     ]
    }
   ],
   "source": [
    "uid = uuid.uuid4()\n",
    "\n",
    "for i in subject_names:\n",
    "    train, test = splitBySubject(i) #splitting the data into test and train datasets\n",
    "    train = featureScaling(train) #feature scaling the train dataset\n",
    "    x_train, y_train = createWindows(train, #windowing the train dataset. Returns the data (x_train) and labels (y_train).\n",
    "                                     TIME_PERIODS, \n",
    "                                     STEP_DISTANCE, \n",
    "                                     LABEL)\n",
    "    x_train, y_train = shuffle(np.array(x_train), np.array(y_train)) #shuffling the train data\n",
    "    num_time_periods, num_sensors = x_train.shape[1], x_train.shape[2]\n",
    "    num_classes = le.classes_.size\n",
    "    input_shape = (num_time_periods*num_sensors)\n",
    "    x_train = inputShape(x_train)\n",
    "    x_train = x_train.astype('float32')\n",
    "    y_train = y_train.astype('float32')\n",
    "    y_train_hot = oneHotCoding(y_train) #encode label Strings to integers\n",
    "    history, modelm = classifier(x_train, y_train_hot) #training the model\n",
    "    #printResults(history, modelm, x_train, y_train) #retrieving and printing the performance results of the training data\n",
    "    x_test, y_test = testModel(test, modelm)\n",
    "    y_pred_test = modelm.predict(x_test)\n",
    "    \n",
    "    # Take the class with the highest probability from the test predictions\n",
    "    max_y_pred_test = np.argmax(y_pred_test, axis=1)\n",
    "    max_y_test = np.argmax(y_test, axis=1)\n",
    "    \n",
    "    matrix, precision_per_class, recall_per_class, f_score_per_class, recall_avg, f_score_avg, mcc_score, balanced_acc, acc = show_confusion_matrix(max_y_test, max_y_pred_test, modelm, test) #print confusion matrix and get evaluation results of the test data\n",
    "    \n",
    "    for act in LABELS:\n",
    "        index = LABELS.index(act)\n",
    "        if(index >= len(matrix)): #activity contains no data\n",
    "            break\n",
    "        TP = matrix[index][index]\n",
    "        FN = matrix[index].sum() - TP\n",
    "        FP = 0\n",
    "        for j in range(0, len(matrix)):\n",
    "            FP += matrix[j][index]\n",
    "        FP = FP - TP\n",
    "        TN = matrix.sum() - TP - FN - FP\n",
    "        \n",
    "        specificity = TN/(TN+FP)\n",
    "        accuracy = (TP+TN)/(TP+TN+FP+FN)\n",
    "        #save results per activity per horse in the database\n",
    "        Activity.create(key=uid, test_horse=i, activity=act, accuracy_activity=accuracy, recall_activity=recall_per_class[index], specificity=specificity, precision=precision_per_class[index], TP=TP, TN=TN, FP=FP, FN=FN)\n",
    "        \n",
    "    Experiment.create(key=uid, username=name, test_horse=i, date=date.today(), accuracy_experiment=acc, balanced_accuracy_experiment=balanced_acc, fscore=f_score_avg, mcc=mcc_score, recall=recall_avg, confusion_matrix=matrix, parameters=PARAMETERS, description=DESCRIPTION) #save results per horse on database"
   ]
  },
  {
   "cell_type": "code",
   "execution_count": null,
   "id": "c17312f9",
   "metadata": {},
   "outputs": [],
   "source": []
  },
  {
   "cell_type": "code",
   "execution_count": null,
   "id": "7716a6cc",
   "metadata": {},
   "outputs": [],
   "source": []
  }
 ],
 "metadata": {
  "kernelspec": {
   "display_name": "Python",
   "language": "python",
   "name": "python3"
  },
  "language_info": {
   "codemirror_mode": {
    "name": "ipython",
    "version": 3
   },
   "file_extension": ".py",
   "mimetype": "text/x-python",
   "name": "python",
   "nbconvert_exporter": "python",
   "pygments_lexer": "ipython3",
   "version": "3.8.5"
  }
 },
 "nbformat": 4,
 "nbformat_minor": 5
}
