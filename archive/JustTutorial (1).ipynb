{
 "cells": [
  {
   "cell_type": "code",
   "execution_count": 1,
   "id": "2d6bc47f",
   "metadata": {},
   "outputs": [],
   "source": [
    "#plotting and printing\n",
    "from __future__ import print_function\n",
    "from matplotlib import pyplot as plt\n",
    "\n",
    "#machine learning packages\n",
    "from sklearn import metrics\n",
    "from sklearn.metrics import classification_report\n",
    "from sklearn import preprocessing\n",
    "from sklearn.utils import shuffle\n",
    "\n",
    "#other packages\n",
    "import numpy as np\n",
    "import pandas as pd\n",
    "import seaborn as sns\n",
    "from scipy import stats\n",
    "from IPython.display import display, HTML\n",
    "\n",
    "import keras\n",
    "from keras.models import Sequential\n",
    "from keras.layers import Dense, Dropout, Flatten, Reshape\n",
    "from keras.layers import Conv2D, MaxPooling2D\n",
    "from keras.utils import np_utils\n",
    "\n",
    "#file management\n",
    "import glob\n",
    "import os\n",
    "\n",
    "#database information\n",
    "from datetime import date\n",
    "from peewee import *\n",
    "import uuid"
   ]
  },
  {
   "cell_type": "markdown",
   "id": "fa269c09",
   "metadata": {},
   "source": [
    "# Settings"
   ]
  },
  {
   "cell_type": "code",
   "execution_count": 2,
   "id": "425df29d",
   "metadata": {},
   "outputs": [],
   "source": [
    "#For now, you can log in to Maartje's username. Later, this should be changed to separate users.\\n\",\n",
    "name = 'maartjehuveneers'\n",
    "pw = 'p4RwxJCchw7Ljqhv'\n",
    "\n",
    "#Settings for the experiment\n",
    "SETTINGS = \"First time running the experiment, Neural Network with ...\""
   ]
  },
  {
   "cell_type": "markdown",
   "id": "6b56e896",
   "metadata": {},
   "source": [
    "# Database setup"
   ]
  },
  {
   "cell_type": "code",
   "execution_count": 22,
   "id": "142052ce",
   "metadata": {},
   "outputs": [
    {
     "data": {
      "text/plain": [
       "True"
      ]
     },
     "execution_count": 22,
     "metadata": {},
     "output_type": "execute_result"
    }
   ],
   "source": [
    "#Setting up database\n",
    "db = MySQLDatabase('HorsingAround', user=name, password=pw,\n",
    "                         host='www.jacobkamminga.nl', port=3306)\n",
    "\n",
    "class Experiment(Model):\n",
    "    key = UUIDField()\n",
    "    username = TextField()\n",
    "    horse = TextField()\n",
    "    date = DateField()\n",
    "    accuracy_experiment = DoubleField()\n",
    "    fscore = DoubleField()\n",
    "    mcc = DoubleField()\n",
    "    recall = DoubleField()\n",
    "    settings = TextField()\n",
    "    class Meta:\n",
    "        database = db\n",
    "\n",
    "class Activity(Model):\n",
    "    key = UUIDField()\n",
    "    horse = TextField()\n",
    "    activity = TextField()\n",
    "    accuracy_activity = DoubleField()\n",
    "    recall = DoubleField()\n",
    "    specificity = DoubleField()\n",
    "    precision = DoubleField()\n",
    "    TP = IntegerField()\n",
    "    TN = IntegerField()\n",
    "    FP = IntegerField()\n",
    "    FN = IntegerField()\n",
    "    class Meta:\n",
    "        database = db\n",
    "\n",
    "db.connect()"
   ]
  },
  {
   "cell_type": "code",
   "execution_count": 4,
   "id": "7028d3aa",
   "metadata": {},
   "outputs": [],
   "source": [
    "#The next lines are used to create a new table in the database, don't uncomment this unless needed. Otherwise we make a new table every time we run the program\n",
    "\n",
    "# db.create_tables([Experiment, Activity])"
   ]
  },
  {
   "cell_type": "markdown",
   "id": "9c3927b6",
   "metadata": {},
   "source": [
    "# Labels and Settings"
   ]
  },
  {
   "cell_type": "code",
   "execution_count": 5,
   "id": "65ba7e14",
   "metadata": {},
   "outputs": [],
   "source": [
    "#Some styling\n",
    "pd.options.display.float_format = '{:.1f}'.format\n",
    "sns.set()\n",
    "plt.style.use('ggplot')\n",
    "\n",
    "#Label encoder used to get a numeric representation of a label\n",
    "le = preprocessing.LabelEncoder()\n",
    "\n",
    "#The activities\n",
    "LABELS = ['standing',\n",
    "          'walking-natural',\n",
    "          'walking-rider',\n",
    "          'trotting-natural',\n",
    "          'trotting-rider',\n",
    "          'running-natural',\n",
    "          'running-rider',\n",
    "          'jumping',\n",
    "          'grazing',\n",
    "          'eating',\n",
    "          'head shake',\n",
    "          'shaking',\n",
    "          'scratch-biting',\n",
    "          'rubbing',\n",
    "          'fighting',\n",
    "          'rolling',\n",
    "          'scared']\n",
    "\n",
    "#Sliding windows\n",
    "TIME_PERIODS = 200\n",
    "STEP_DISTANCE = 100\n",
    "\n",
    "#Datasets\n",
    "FILES = sorted(glob.glob('Data/*'))"
   ]
  },
  {
   "cell_type": "markdown",
   "id": "d41e34ea",
   "metadata": {},
   "source": [
    "# Set up dataframe"
   ]
  },
  {
   "cell_type": "code",
   "execution_count": 6,
   "id": "dd00d317",
   "metadata": {},
   "outputs": [],
   "source": [
    "REMOVE_COLUMNS = ['Mx', 'My', 'Mz','A3D','G3D','M3D'] #Add columns to drop from dataframe\n",
    "\n",
    "def loadDataFrame(files):\n",
    "    \"\"\"\n",
    "    Simple function to set up dataframe and initial clean-up of the data\n",
    "    files: path to files\n",
    "    returns: combined dataframe of all files\n",
    "    \"\"\"\n",
    "    df = pd.DataFrame()\n",
    "    for file in files:\n",
    "        csv = pd.read_csv(file)\n",
    "        csv['filename']=file\n",
    "        df = df.append(csv)\n",
    "        \n",
    "    df.drop(REMOVE_COLUMNS, axis=1, inplace=True)\n",
    "    df['ActivityEncoded'] = le.fit_transform(df['label'].values.ravel())\n",
    "\n",
    "    return df\n",
    "\n",
    "def convert_to_float(x):\n",
    "\n",
    "    try:\n",
    "        return np.float(x)\n",
    "    except:\n",
    "        return np.nan\n",
    "\n",
    "\n",
    "df = loadDataFrame(FILES)"
   ]
  },
  {
   "cell_type": "markdown",
   "id": "5eaaeb6d",
   "metadata": {
    "tags": []
   },
   "source": [
    "# Plot data composition"
   ]
  },
  {
   "cell_type": "code",
   "execution_count": 7,
   "id": "4e1e41d8",
   "metadata": {
    "tags": []
   },
   "outputs": [],
   "source": [
    "# def show_basic_dataframe_info(dataframe):\n",
    "\n",
    "#     # Shape and how many rows and columns\n",
    "#     print('Number of columns in the dataframe: %i' % (dataframe.shape[1]))\n",
    "#     print('Number of rows in the dataframe: %i\\n' % (dataframe.shape[0]))\n",
    "\n",
    "# show_basic_dataframe_info(df)\n",
    "# df.head(20)"
   ]
  },
  {
   "cell_type": "code",
   "execution_count": 8,
   "id": "f7280ce8",
   "metadata": {},
   "outputs": [],
   "source": [
    "#Plotting activity data\n",
    "\n",
    "#Training examples per activity type\n",
    "# SECONDS = 10 #nr of seconds to display accelerometer data\n",
    "# SAMPLING_RATE = 20 #the sampling rate at which data was recorded\n",
    "\n",
    "# def plot_activity(activity, data):\n",
    "#     fig, ax = plt.subplots(nrows=1, ncols=2, figsize=(20, 4))\n",
    "#     l1, = ax[0].plot(data['datetime'], data['Ax'], label=\"X-axis\")\n",
    "#     l2, = ax[0].plot(data['datetime'], data['Ay'], label=\"Y-Axis\")\n",
    "#     l3, = ax[0].plot(data['datetime'], data['Az'], label=\"Z-Axis\")\n",
    "#     ax[0].set_ylabel('Accelerometer measurement')\n",
    "#     ax[0].set_xlabel('Time')\n",
    "#     ax[0].legend(handles=[l1,l2,l3], loc='lower right')\n",
    "#     ax[0].xaxis.set_ticks([])\n",
    "#     ax[0].set_title(activity+\" accelerometer data\")\n",
    "#     ax[0].grid(False)\n",
    "    \n",
    "#     l1, = ax[1].plot(data['datetime'], data['Gx'], label=\"X-axis\")\n",
    "#     l2, = ax[1].plot(data['datetime'], data['Gy'], label=\"Y-Axis\")\n",
    "#     l3, = ax[1].plot(data['datetime'], data['Gz'], label=\"Z-Axis\")\n",
    "#     ax[1].set_ylabel('Gyroscope measurement')\n",
    "#     ax[1].set_xlabel('Time')\n",
    "#     ax[1].legend(handles=[l1,l2,l3], loc='lower right')\n",
    "#     ax[1].xaxis.set_ticks([])\n",
    "#     ax[1].set_title(activity+\" gyroscope data\")\n",
    "#     ax[1].grid(False)\n",
    "    \n",
    "#     plt.show()\n",
    "\n",
    "# #plot all 3 subplots for each activity\n",
    "# for activity in np.unique(df['label']):\n",
    "#     subset = df[df['label'] == activity][:SECONDS*SAMPLING_RATE] \n",
    "#     plot_activity(activity, subset)"
   ]
  },
  {
   "cell_type": "markdown",
   "id": "233291d6",
   "metadata": {},
   "source": [
    "# Encoding the labels to integers"
   ]
  },
  {
   "cell_type": "code",
   "execution_count": 9,
   "id": "cb99a637",
   "metadata": {},
   "outputs": [],
   "source": [
    "# Define column name of the label vector\n",
    "LABEL = 'ActivityEncoded'\n",
    "# Transform the labels from String to Integer via LabelEncoder\n",
    "le = preprocessing.LabelEncoder()\n",
    "# Add a new column to the existing DataFrame with the encoded values\n",
    "df[LABEL] = le.fit_transform(df['label'].values.ravel())"
   ]
  },
  {
   "cell_type": "markdown",
   "id": "b2e62a96",
   "metadata": {
    "tags": []
   },
   "source": [
    "# Get only relevant subjects"
   ]
  },
  {
   "cell_type": "code",
   "execution_count": 10,
   "id": "d016ff75",
   "metadata": {
    "tags": []
   },
   "outputs": [],
   "source": [
    "#These are the indexes of the relevant subjects, see FILES\n",
    "indexes = [0,1,2,7,8,9,13,14,15,16,17]\n",
    "subjects = [FILES[x] for x in indexes]\n",
    "\n",
    "#new dataframe with only the horses in subjects\n",
    "df = df[df['filename'].isin(subjects)]\n",
    "\n",
    "#Might need to add Viva later on again?\n",
    "subject_names = ['Galoway', 'Patron', 'Happy', 'Driekus']"
   ]
  },
  {
   "cell_type": "markdown",
   "id": "a8ad8141",
   "metadata": {
    "tags": []
   },
   "source": [
    "# Splitting in test and train"
   ]
  },
  {
   "cell_type": "code",
   "execution_count": 11,
   "id": "d951997e",
   "metadata": {
    "tags": []
   },
   "outputs": [],
   "source": [
    "'''\n",
    "  Function to split train and test data by subject\n",
    "  df = dataframe\n",
    "  name = subject to put in test subset\n",
    "  '''\n",
    "def splitBySubject(name):\n",
    "    print(name)\n",
    "    test = df[df['filename'].str.contains(name)]\n",
    "    train = df[~df['filename'].str.contains(name)]\n",
    "    return train, test"
   ]
  },
  {
   "cell_type": "markdown",
   "id": "3f7e3f03",
   "metadata": {},
   "source": [
    "# Feature scaling"
   ]
  },
  {
   "cell_type": "code",
   "execution_count": 12,
   "id": "4cd44257",
   "metadata": {
    "tags": []
   },
   "outputs": [],
   "source": [
    "def featureScaling(data):\n",
    "    train_x_max = data['Ax'].max()\n",
    "    train_y_max = data['Ay'].max()\n",
    "    train_z_max = data['Az'].max()\n",
    "\n",
    "    train_gx_max = data['Gx'].max()\n",
    "    train_gy_max = data['Gy'].max()\n",
    "    train_gz_max = data['Gz'].max()\n",
    "\n",
    "    pd.options.mode.chained_assignment = None\n",
    "\n",
    "    #divide all 3 axis with the max value in the training set\n",
    "    data['Ax'] = data['Ax'] / train_x_max\n",
    "    data['Ay'] = data['Ay'] / train_y_max\n",
    "    data['Az'] = data['Az'] / train_z_max\n",
    "\n",
    "    data['Gx'] = data['Ax'] / train_gx_max\n",
    "    data['Gy'] = data['Ay'] / train_gy_max\n",
    "    data['Gz'] = data['Az'] / train_gz_max\n",
    "\n",
    "    data = data.round({'Ax': 4, 'Ay': 4, 'Az': 4, 'Gx':4, 'Gy':4, 'Gz':4})\n",
    "    return data"
   ]
  },
  {
   "cell_type": "markdown",
   "id": "9c3b8019",
   "metadata": {},
   "source": [
    "# Windowing"
   ]
  },
  {
   "cell_type": "code",
   "execution_count": 13,
   "id": "bafd570a",
   "metadata": {},
   "outputs": [],
   "source": [
    "def createWindows(df, time_steps, step, label_name):\n",
    "    N_FEATURES = 6\n",
    "    windows = []\n",
    "    labels = []\n",
    "    for i in range(0, len(df)-time_steps, step):\n",
    "        axs = df['Ax'].values[i: i + time_steps]\n",
    "        ays = df['Ay'].values[i: i + time_steps]\n",
    "        azs = df['Az'].values[i: i + time_steps]\n",
    "\n",
    "        gxs = df['Gx'].values[i: i + time_steps]\n",
    "        gys = df['Gy'].values[i: i + time_steps]\n",
    "        gzs = df['Gz'].values[i: i + time_steps]\n",
    "        # Retrieve the most often used label in this segment\n",
    "        label = stats.mode(df[label_name][i: i + time_steps])[0][0]\n",
    "        windows.append([axs, ays, azs, gxs, gys, gzs])\n",
    "        labels.append(label)\n",
    "    # Bring the segments into a better shape\n",
    "    reshaped_windows = np.asarray(windows, dtype= np.float32).reshape(-1, time_steps, N_FEATURES)\n",
    "    labels = np.asarray(labels)\n",
    "\n",
    "    return reshaped_windows, labels"
   ]
  },
  {
   "cell_type": "markdown",
   "id": "b7da0754",
   "metadata": {},
   "source": [
    "# Reshaping data"
   ]
  },
  {
   "cell_type": "code",
   "execution_count": 14,
   "id": "27ccf284",
   "metadata": {
    "tags": []
   },
   "outputs": [],
   "source": [
    "# reshaping one dimentional xtrain into fitted data for the classifier\n",
    "def inputShape(data):\n",
    "    data = data.reshape(data.shape[0], input_shape)\n",
    "    return data"
   ]
  },
  {
   "cell_type": "markdown",
   "id": "0ba8aedc",
   "metadata": {},
   "source": [
    "# OneHotCoding the labels"
   ]
  },
  {
   "cell_type": "code",
   "execution_count": 15,
   "id": "3328cde5",
   "metadata": {},
   "outputs": [],
   "source": [
    "# Applying one hot coding to y_train\n",
    "def oneHotCoding(data):\n",
    "    y_train_hot = np_utils.to_categorical(data, num_classes)\n",
    "    return y_train_hot"
   ]
  },
  {
   "cell_type": "markdown",
   "id": "95b8e6d2",
   "metadata": {},
   "source": [
    "# Classifier"
   ]
  },
  {
   "cell_type": "code",
   "execution_count": 16,
   "id": "3f57d592",
   "metadata": {},
   "outputs": [],
   "source": [
    "def classifierModel():\n",
    "    model_m = Sequential()\n",
    "    # Remark: since coreml cannot accept vector shapes of complex shape like\n",
    "    # [80,3] this workaround is used in order to reshape the vector internally\n",
    "    # prior feeding it into the network\n",
    "    model_m.add(Reshape((TIME_PERIODS, 6), input_shape=(input_shape,)))\n",
    "    model_m.add(Dense(100, activation='relu'))\n",
    "    model_m.add(Dense(100, activation='relu'))\n",
    "    model_m.add(Dense(100, activation='relu'))\n",
    "    model_m.add(Flatten())\n",
    "    model_m.add(Dense(num_classes, activation='softmax'))\n",
    "    return model_m"
   ]
  },
  {
   "cell_type": "code",
   "execution_count": 17,
   "id": "5d0afcbc",
   "metadata": {
    "tags": []
   },
   "outputs": [],
   "source": [
    "# takes x_train and y_train_hot\n",
    "def classifier(xdata, ydata):\n",
    "    modelm = classifierModel()\n",
    "\n",
    "    callbacks_list = [\n",
    "        keras.callbacks.EarlyStopping(monitor='accuracy', patience=1)\n",
    "    ]\n",
    "\n",
    "    modelm.compile(loss='categorical_crossentropy',\n",
    "                    optimizer='adam', metrics=['accuracy'])\n",
    "\n",
    "    # Hyper-parameters\n",
    "    BATCH_SIZE = 600\n",
    "    EPOCHS = 2\n",
    "\n",
    "    # Enable validation to use ModelCheckpoint and EarlyStopping callbacks.\n",
    "    history = modelm.fit(xdata,\n",
    "                          ydata,\n",
    "                          batch_size=BATCH_SIZE,\n",
    "                          epochs=EPOCHS,\n",
    "                          callbacks=callbacks_list,\n",
    "                          validation_split=0.2,\n",
    "                          verbose=1)\n",
    "    return history, modelm"
   ]
  },
  {
   "cell_type": "code",
   "execution_count": 18,
   "id": "0cd2b2e6",
   "metadata": {
    "tags": []
   },
   "outputs": [],
   "source": [
    "#printing the evaluation results of the train dataset\n",
    "def printResults(history, modelm, x_train, y_train):\n",
    "    plt.figure(figsize=(6, 4))\n",
    "    plt.plot(history.history['accuracy'], 'r', label='Accuracy of training data')\n",
    "    plt.plot(history.history['val_accuracy'], 'b', label='Accuracy of validation data')\n",
    "    plt.plot(history.history['loss'], 'r--', label='Loss of training data')\n",
    "    plt.plot(history.history['val_loss'], 'b--', label='Loss of validation data')\n",
    "    plt.title('Model Accuracy and Loss')\n",
    "    plt.ylabel('Accuracy and Loss')\n",
    "    plt.xlabel('Training Epoch')\n",
    "    plt.ylim(0)\n",
    "    plt.legend()\n",
    "    plt.show()\n",
    "\n",
    "    # Print confusion matrix for training data\n",
    "    y_pred_train = modelm.predict(x_train)\n",
    "    # Take the class with the highest probability from the train predictions\n",
    "    max_y_pred_train = np.argmax(y_pred_train, axis=1)\n",
    "    print(classification_report(y_train, max_y_pred_train))"
   ]
  },
  {
   "cell_type": "code",
   "execution_count": 19,
   "id": "7f855074",
   "metadata": {},
   "outputs": [],
   "source": [
    "#printing the evaluation results of the test dataset\n",
    "def testValidation(test, modelm):\n",
    "    # Normalize features for training data set\n",
    "    test['Ax'] = test['Ax'] / test['Ax'].max()\n",
    "    test['Ay'] = test['Ay'] / test['Ay'].max()\n",
    "    test['Az'] = test['Az'] / test['Az'].max()\n",
    "\n",
    "    test['Gx'] = test['Gx'] / test['Gx'].max()\n",
    "    test['Gy'] = test['Gy'] / test['Gy'].max()\n",
    "    test['Gz'] = test['Gz'] / test['Gz'].max()\n",
    "\n",
    "    df_test = test.round({'Ax': 4, 'Ay': 4, 'Az': 4, 'Gx':4, 'Gy':4, 'Gz':4})\n",
    "\n",
    "    x_test, y_test = createWindows(df_test,\n",
    "                                   TIME_PERIODS,\n",
    "                                   STEP_DISTANCE,\n",
    "                                   LABEL)\n",
    "    \n",
    "    # Set input_shape / reshape for Keras\n",
    "    x_test = x_test.reshape(x_test.shape[0], input_shape)\n",
    "\n",
    "    x_test = x_test.astype('float32')\n",
    "    y_test = y_test.astype('float32')\n",
    "\n",
    "    y_test = np_utils.to_categorical(y_test, num_classes)\n",
    "    score = modelm.evaluate(x_test, y_test, verbose=1)\n",
    "    \n",
    "    print('\\nAccuracy on test data: %0.2f' % score[1])\n",
    "    return x_test, y_test, score[1]"
   ]
  },
  {
   "cell_type": "code",
   "execution_count": 26,
   "id": "f872440b",
   "metadata": {
    "tags": []
   },
   "outputs": [],
   "source": [
    "def show_confusion_matrix(validations, predictions, model_m):\n",
    "    matrix = metrics.confusion_matrix(validations, predictions)\n",
    "    plt.figure(figsize=(6, 4))\n",
    "    sns.heatmap(matrix,\n",
    "                cmap='coolwarm',\n",
    "                linecolor='white',\n",
    "                linewidths=1,\n",
    "                xticklabels=LABELS,\n",
    "                yticklabels=LABELS,\n",
    "                annot=True,\n",
    "                fmt='d')\n",
    "    plt.title('Confusion Matrix')\n",
    "    plt.ylabel('True Label')\n",
    "    plt.xlabel('Predicted Label')\n",
    "    plt.show()\n",
    "\n",
    "    y_pred_test = model_m.predict(x_test)\n",
    "    # Take the class with the highest probability from the test predictions\n",
    "    max_y_pred_test = np.argmax(y_pred_test, axis=1)\n",
    "    max_y_test = np.argmax(y_test, axis=1)\n",
    "\n",
    "    \n",
    "    precision_per_class, recall_per_class, f_score_per_class, _ = metrics.precision_recall_fscore_support(max_y_test, max_y_pred_test, zero_division=0)\n",
    "    _, recall_avg, f_score_avg, _ = metrics.precision_recall_fscore_support(max_y_test, max_y_pred_test, pos_label=None, average=\"weighted\", zero_division=0)\n",
    "    \n",
    "    mcc = metrics.matthews_corrcoef(max_y_test, max_y_pred_test)\n",
    "    \n",
    "    #print(classification_report(max_y_test, max_y_pred_test, output_dict=True))\n",
    "    return matrix, precision_per_class, recall_per_class, f_score_per_class, recall_avg, f_score_avg, mcc"
   ]
  },
  {
   "cell_type": "code",
   "execution_count": 23,
   "id": "04f74208",
   "metadata": {},
   "outputs": [
    {
     "name": "stdout",
     "output_type": "stream",
     "text": [
      "{'id': 1, 'key': UUID('616453bd-ee63-4c2c-8e70-96e8074dd9a5'), 'username': 'maartjehuveneers', 'horse': 'Galoway', 'date': datetime.date(2021, 5, 3), 'accuracy_experiment': 0.7930938005447388, 'fscore': 0.7901676450101861, 'mcc': 0.7275470824924013, 'recall': 0.7930937773882559, 'settings': 'First test with running the experiment'}\n",
      "{'id': 2, 'key': UUID('b4765c5c-7008-4db4-b4f7-a99c290dd20d'), 'username': 'maartjehuveneers', 'horse': 'Galoway', 'date': datetime.date(2021, 5, 3), 'accuracy_experiment': 0.7256792187690735, 'fscore': 0.7221669664764988, 'mcc': 0.6485635019518886, 'recall': 0.7256792287467134, 'settings': 'First time running the experiment, Neural Network with ...'}\n",
      "{'id': 3, 'key': UUID('b4765c5c-7008-4db4-b4f7-a99c290dd20d'), 'username': 'maartjehuveneers', 'horse': 'Patron', 'date': datetime.date(2021, 5, 3), 'accuracy_experiment': 0.8151192665100098, 'fscore': 0.8200997873075356, 'mcc': 0.7546106432806079, 'recall': 0.8151192561649373, 'settings': 'First time running the experiment, Neural Network with ...'}\n",
      "{'id': 4, 'key': UUID('b4765c5c-7008-4db4-b4f7-a99c290dd20d'), 'username': 'maartjehuveneers', 'horse': 'Happy', 'date': datetime.date(2021, 5, 3), 'accuracy_experiment': 0.8927189111709595, 'fscore': 0.8767408724963252, 'mcc': 0.8526661802960389, 'recall': 0.8927189074709706, 'settings': 'First time running the experiment, Neural Network with ...'}\n",
      "{'id': 5, 'key': UUID('b4765c5c-7008-4db4-b4f7-a99c290dd20d'), 'username': 'maartjehuveneers', 'horse': 'Driekus', 'date': datetime.date(2021, 5, 3), 'accuracy_experiment': 0.8137710094451904, 'fscore': 0.8378032298386249, 'mcc': 0.7533631799486723, 'recall': 0.8137709897898912, 'settings': 'First time running the experiment, Neural Network with ...'}\n",
      "{'id': 1, 'key': UUID('616453bd-ee63-4c2c-8e70-96e8074dd9a5'), 'horse': 'Galoway', 'activity': 'standing', 'accuracy_activity': 0.9993689745836986, 'recall': 0.0, 'specificity': 1.0, 'precision': 0.0, 'TP': 0, 'TN': 28507, 'FP': 0, 'FN': 18}\n",
      "{'id': 2, 'key': UUID('616453bd-ee63-4c2c-8e70-96e8074dd9a5'), 'horse': 'Galoway', 'activity': 'walking-natural', 'accuracy_activity': 0.9988781770376862, 'recall': 0.0, 'specificity': 1.0, 'precision': 0.0, 'TP': 0, 'TN': 28493, 'FP': 0, 'FN': 32}\n",
      "{'id': 3, 'key': UUID('616453bd-ee63-4c2c-8e70-96e8074dd9a5'), 'horse': 'Galoway', 'activity': 'walking-rider', 'accuracy_activity': 0.9590885188431201, 'recall': 0.828125, 'specificity': 0.9868695024008839, 'precision': 0.9304523970290345, 'TP': 4134, 'TN': 23224, 'FP': 309, 'FN': 858}\n",
      "{'id': 4, 'key': UUID('616453bd-ee63-4c2c-8e70-96e8074dd9a5'), 'horse': 'Galoway', 'activity': 'trotting-natural', 'accuracy_activity': 0.9951621384750219, 'recall': 0.0, 'specificity': 1.0, 'precision': 0.0, 'TP': 0, 'TN': 28387, 'FP': 0, 'FN': 138}\n",
      "{'id': 5, 'key': UUID('616453bd-ee63-4c2c-8e70-96e8074dd9a5'), 'horse': 'Galoway', 'activity': 'trotting-rider', 'accuracy_activity': 0.9440490797546012, 'recall': 0.3333333333333333, 'specificity': 0.9443703963521571, 'precision': 0.0031426775612822125, 'TP': 5, 'TN': 26924, 'FP': 1586, 'FN': 10}\n",
      "{'id': 6, 'key': UUID('616453bd-ee63-4c2c-8e70-96e8074dd9a5'), 'horse': 'Galoway', 'activity': 'running-natural', 'accuracy_activity': 0.9992287467134093, 'recall': 0.0, 'specificity': 0.9999298368707245, 'precision': 0.0, 'TP': 0, 'TN': 28503, 'FP': 2, 'FN': 20}\n",
      "{'id': 7, 'key': UUID('616453bd-ee63-4c2c-8e70-96e8074dd9a5'), 'horse': 'Galoway', 'activity': 'running-rider', 'accuracy_activity': 0.9588080631025416, 'recall': 0.0017064846416382253, 'specificity': 0.9998172046941834, 'precision': 0.2857142857142857, 'TP': 2, 'TN': 27348, 'FP': 5, 'FN': 1170}\n",
      "{'id': 8, 'key': UUID('616453bd-ee63-4c2c-8e70-96e8074dd9a5'), 'horse': 'Galoway', 'activity': 'jumping', 'accuracy_activity': 0.9927432077125329, 'recall': 0.0, 'specificity': 1.0, 'precision': 0.0, 'TP': 0, 'TN': 28318, 'FP': 0, 'FN': 207}\n",
      "{'id': 9, 'key': UUID('616453bd-ee63-4c2c-8e70-96e8074dd9a5'), 'horse': 'Galoway', 'activity': 'grazing', 'accuracy_activity': 0.999649430324277, 'recall': 0.0, 'specificity': 1.0, 'precision': 0.0, 'TP': 0, 'TN': 28515, 'FP': 0, 'FN': 10}\n",
      "{'id': 10, 'key': UUID('616453bd-ee63-4c2c-8e70-96e8074dd9a5'), 'horse': 'Galoway', 'activity': 'eating', 'accuracy_activity': 0.9688343558282209, 'recall': 0.944177093358999, 'specificity': 0.9707717321435323, 'precision': 0.7173674588665447, 'TP': 1962, 'TN': 25674, 'FP': 773, 'FN': 116}\n",
      "{'id': 11, 'key': UUID('616453bd-ee63-4c2c-8e70-96e8074dd9a5'), 'horse': 'Galoway', 'activity': 'head shake', 'accuracy_activity': 0.9972655565293602, 'recall': 0.0, 'specificity': 0.9998594074022003, 'precision': 0.0, 'TP': 0, 'TN': 28447, 'FP': 4, 'FN': 74}\n",
      "{'id': 12, 'key': UUID('616453bd-ee63-4c2c-8e70-96e8074dd9a5'), 'horse': 'Galoway', 'activity': 'shaking', 'accuracy_activity': 0.8998071866783524, 'recall': 0.7473275024295433, 'specificity': 0.9513178876278022, 'precision': 0.8383429372371904, 'TP': 5383, 'TN': 20284, 'FP': 1038, 'FN': 1820}\n",
      "{'id': 13, 'key': UUID('616453bd-ee63-4c2c-8e70-96e8074dd9a5'), 'horse': 'Galoway', 'activity': 'scratch-biting', 'accuracy_activity': 0.9312532865907099, 'recall': 0.41114369501466275, 'specificity': 0.9643176733780761, 'precision': 0.42279855247285886, 'TP': 701, 'TN': 25863, 'FP': 957, 'FN': 1004}\n",
      "{'id': 14, 'key': UUID('616453bd-ee63-4c2c-8e70-96e8074dd9a5'), 'horse': 'Galoway', 'activity': 'rubbing', 'accuracy_activity': 0.9420508326029798, 'recall': 0.9608691649019427, 'specificity': 0.9304800724637681, 'precision': 0.894718792866941, 'TP': 10436, 'TN': 16436, 'FP': 1228, 'FN': 425}\n",
      "{'id': 15, 'key': UUID('b4765c5c-7008-4db4-b4f7-a99c290dd20d'), 'horse': 'Galoway', 'activity': 'standing', 'accuracy_activity': 0.9993689745836986, 'recall': 0.0, 'specificity': 1.0, 'precision': 0.0, 'TP': 0, 'TN': 28507, 'FP': 0, 'FN': 18}\n",
      "{'id': 16, 'key': UUID('b4765c5c-7008-4db4-b4f7-a99c290dd20d'), 'horse': 'Galoway', 'activity': 'walking-natural', 'accuracy_activity': 0.9988781770376862, 'recall': 0.0, 'specificity': 1.0, 'precision': 0.0, 'TP': 0, 'TN': 28493, 'FP': 0, 'FN': 32}\n",
      "{'id': 17, 'key': UUID('b4765c5c-7008-4db4-b4f7-a99c290dd20d'), 'horse': 'Galoway', 'activity': 'walking-rider', 'accuracy_activity': 0.9573356704645049, 'recall': 0.8221153846153846, 'specificity': 0.9860196320061191, 'precision': 0.925783893525829, 'TP': 4104, 'TN': 23204, 'FP': 329, 'FN': 888}\n",
      "{'id': 18, 'key': UUID('b4765c5c-7008-4db4-b4f7-a99c290dd20d'), 'horse': 'Galoway', 'activity': 'trotting-natural', 'accuracy_activity': 0.9163540753724803, 'recall': 0.2391304347826087, 'specificity': 0.9196463169760806, 'precision': 0.014261019878997408, 'TP': 33, 'TN': 26106, 'FP': 2281, 'FN': 105}\n",
      "{'id': 19, 'key': UUID('b4765c5c-7008-4db4-b4f7-a99c290dd20d'), 'horse': 'Galoway', 'activity': 'trotting-rider', 'accuracy_activity': 0.9994741454864154, 'recall': 0.0, 'specificity': 1.0, 'precision': 0.0, 'TP': 0, 'TN': 28510, 'FP': 0, 'FN': 15}\n",
      "{'id': 20, 'key': UUID('b4765c5c-7008-4db4-b4f7-a99c290dd20d'), 'horse': 'Galoway', 'activity': 'running-natural', 'accuracy_activity': 0.9968098159509202, 'recall': 0.1, 'specificity': 0.9974390457814418, 'precision': 0.02666666666666667, 'TP': 2, 'TN': 28432, 'FP': 73, 'FN': 18}\n",
      "{'id': 21, 'key': UUID('b4765c5c-7008-4db4-b4f7-a99c290dd20d'), 'horse': 'Galoway', 'activity': 'running-rider', 'accuracy_activity': 0.9680631025416302, 'recall': 0.2551194539249147, 'specificity': 0.9986107556757943, 'precision': 0.887240356083086, 'TP': 299, 'TN': 27315, 'FP': 38, 'FN': 873}\n",
      "{'id': 22, 'key': UUID('b4765c5c-7008-4db4-b4f7-a99c290dd20d'), 'horse': 'Galoway', 'activity': 'jumping', 'accuracy_activity': 0.9927432077125329, 'recall': 0.0, 'specificity': 1.0, 'precision': 0.0, 'TP': 0, 'TN': 28318, 'FP': 0, 'FN': 207}\n",
      "{'id': 23, 'key': UUID('b4765c5c-7008-4db4-b4f7-a99c290dd20d'), 'horse': 'Galoway', 'activity': 'grazing', 'accuracy_activity': 0.999649430324277, 'recall': 0.0, 'specificity': 1.0, 'precision': 0.0, 'TP': 0, 'TN': 28515, 'FP': 0, 'FN': 10}\n",
      "{'id': 24, 'key': UUID('b4765c5c-7008-4db4-b4f7-a99c290dd20d'), 'horse': 'Galoway', 'activity': 'eating', 'accuracy_activity': 0.9651183172655565, 'recall': 0.9499518768046198, 'specificity': 0.9663099784474609, 'precision': 0.6890052356020943, 'TP': 1974, 'TN': 25556, 'FP': 891, 'FN': 104}\n",
      "{'id': 25, 'key': UUID('b4765c5c-7008-4db4-b4f7-a99c290dd20d'), 'horse': 'Galoway', 'activity': 'head shake', 'accuracy_activity': 0.9826117440841368, 'recall': 0.02702702702702703, 'specificity': 0.985097184633229, 'precision': 0.004694835680751174, 'TP': 2, 'TN': 28027, 'FP': 424, 'FN': 72}\n",
      "{'id': 26, 'key': UUID('b4765c5c-7008-4db4-b4f7-a99c290dd20d'), 'horse': 'Galoway', 'activity': 'shaking', 'accuracy_activity': 0.8486590709903593, 'recall': 0.450367902262946, 'specificity': 0.9832098302223056, 'precision': 0.9006107717934481, 'TP': 3244, 'TN': 20964, 'FP': 358, 'FN': 3959}\n",
      "{'id': 27, 'key': UUID('b4765c5c-7008-4db4-b4f7-a99c290dd20d'), 'horse': 'Galoway', 'activity': 'scratch-biting', 'accuracy_activity': 0.9388606485539001, 'recall': 0.12727272727272726, 'specificity': 0.9904548844146159, 'precision': 0.4587737843551797, 'TP': 217, 'TN': 26564, 'FP': 256, 'FN': 1488}\n",
      "{'id': 28, 'key': UUID('b4765c5c-7008-4db4-b4f7-a99c290dd20d'), 'horse': 'Galoway', 'activity': 'rubbing', 'accuracy_activity': 0.8874320771253287, 'recall': 0.9966853880858116, 'specificity': 0.8202558876811594, 'precision': 0.7732142857142857, 'TP': 10825, 'TN': 14489, 'FP': 3175, 'FN': 36}\n",
      "{'id': 29, 'key': UUID('b4765c5c-7008-4db4-b4f7-a99c290dd20d'), 'horse': 'Patron', 'activity': 'standing', 'accuracy_activity': 0.9997978709068859, 'recall': 0.0, 'specificity': 0.9997978709068859, 'precision': 0.0, 'TP': 0, 'TN': 14839, 'FP': 3, 'FN': 0}\n",
      "{'id': 30, 'key': UUID('b4765c5c-7008-4db4-b4f7-a99c290dd20d'), 'horse': 'Patron', 'activity': 'walking-natural', 'accuracy_activity': 0.953712437676863, 'recall': 0.8172138420585625, 'specificity': 0.9781537972672386, 'precision': 0.870099196976854, 'TP': 1842, 'TN': 12313, 'FP': 275, 'FN': 412}\n",
      "{'id': 31, 'key': UUID('b4765c5c-7008-4db4-b4f7-a99c290dd20d'), 'horse': 'Patron', 'activity': 'walking-rider', 'accuracy_activity': 0.9807303597897857, 'recall': 0.48484848484848486, 'specificity': 0.9840602319744963, 'precision': 0.1696113074204947, 'TP': 48, 'TN': 14508, 'FP': 235, 'FN': 51}\n",
      "{'id': 32, 'key': UUID('b4765c5c-7008-4db4-b4f7-a99c290dd20d'), 'horse': 'Patron', 'activity': 'trotting-natural', 'accuracy_activity': 0.997507074518259, 'recall': 0.0, 'specificity': 1.0, 'precision': 0.0, 'TP': 0, 'TN': 14805, 'FP': 0, 'FN': 37}\n",
      "{'id': 33, 'key': UUID('b4765c5c-7008-4db4-b4f7-a99c290dd20d'), 'horse': 'Patron', 'activity': 'trotting-rider', 'accuracy_activity': 0.9498719849076944, 'recall': 0.375, 'specificity': 0.9501820142914925, 'precision': 0.004043126684636119, 'TP': 3, 'TN': 14095, 'FP': 739, 'FN': 5}\n",
      "{'id': 34, 'key': UUID('b4765c5c-7008-4db4-b4f7-a99c290dd20d'), 'horse': 'Patron', 'activity': 'running-natural', 'accuracy_activity': 0.9471095539684679, 'recall': 0.06204379562043796, 'specificity': 0.9990014265335235, 'precision': 0.7846153846153846, 'TP': 51, 'TN': 14006, 'FP': 14, 'FN': 771}\n",
      "{'id': 35, 'key': UUID('b4765c5c-7008-4db4-b4f7-a99c290dd20d'), 'horse': 'Patron', 'activity': 'running-rider', 'accuracy_activity': 0.9997978709068859, 'recall': 0.0, 'specificity': 0.9997978709068859, 'precision': 0.0, 'TP': 0, 'TN': 14839, 'FP': 3, 'FN': 0}\n",
      "{'id': 36, 'key': UUID('b4765c5c-7008-4db4-b4f7-a99c290dd20d'), 'horse': 'Patron', 'activity': 'jumping', 'accuracy_activity': 0.9998652472712573, 'recall': 0.0, 'specificity': 1.0, 'precision': 0.0, 'TP': 0, 'TN': 14840, 'FP': 0, 'FN': 2}\n",
      "{'id': 37, 'key': UUID('b4765c5c-7008-4db4-b4f7-a99c290dd20d'), 'horse': 'Patron', 'activity': 'grazing', 'accuracy_activity': 0.9956205363158604, 'recall': 0.9916259595254711, 'specificity': 0.9960474308300395, 'precision': 0.9640434192672999, 'TP': 1421, 'TN': 13356, 'FP': 53, 'FN': 12}\n",
      "{'id': 38, 'key': UUID('b4765c5c-7008-4db4-b4f7-a99c290dd20d'), 'horse': 'Patron', 'activity': 'eating', 'accuracy_activity': 0.9794502088667295, 'recall': 0.14285714285714285, 'specificity': 0.9806355846434114, 'precision': 0.010344827586206896, 'TP': 3, 'TN': 14534, 'FP': 287, 'FN': 18}\n",
      "{'id': 39, 'key': UUID('b4765c5c-7008-4db4-b4f7-a99c290dd20d'), 'horse': 'Patron', 'activity': 'head shake', 'accuracy_activity': 0.9140951354264923, 'recall': 0.7723387723387724, 'specificity': 0.9639377105910208, 'precision': 0.8827708703374778, 'TP': 2982, 'TN': 10585, 'FP': 396, 'FN': 879}\n",
      "{'id': 40, 'key': UUID('b4765c5c-7008-4db4-b4f7-a99c290dd20d'), 'horse': 'Patron', 'activity': 'shaking', 'accuracy_activity': 0.9703543996765934, 'recall': 0.19912472647702406, 'specificity': 0.9948557525199861, 'precision': 0.5515151515151515, 'TP': 91, 'TN': 14311, 'FP': 74, 'FN': 366}\n",
      "{'id': 41, 'key': UUID('b4765c5c-7008-4db4-b4f7-a99c290dd20d'), 'horse': 'Patron', 'activity': 'scratch-biting', 'accuracy_activity': 0.9423258320981, 'recall': 0.9673392612859097, 'specificity': 0.926061818990438, 'precision': 0.8948117684277127, 'TP': 5657, 'TN': 8329, 'FP': 665, 'FN': 191}\n",
      "{'id': 42, 'key': UUID('b4765c5c-7008-4db4-b4f7-a99c290dd20d'), 'horse': 'Happy', 'activity': 'standing', 'accuracy_activity': 0.9998904549769956, 'recall': 0.0, 'specificity': 1.0, 'precision': 0.0, 'TP': 0, 'TN': 27383, 'FP': 0, 'FN': 3}\n",
      "{'id': 43, 'key': UUID('b4765c5c-7008-4db4-b4f7-a99c290dd20d'), 'horse': 'Happy', 'activity': 'walking-natural', 'accuracy_activity': 0.9999634849923319, 'recall': 0.0, 'specificity': 0.9999634849923319, 'precision': 0.0, 'TP': 0, 'TN': 27385, 'FP': 1, 'FN': 0}\n",
      "{'id': 44, 'key': UUID('b4765c5c-7008-4db4-b4f7-a99c290dd20d'), 'horse': 'Happy', 'activity': 'walking-rider', 'accuracy_activity': 0.9662236179069598, 'recall': 0.947008547008547, 'specificity': 0.9714431649331352, 'precision': 0.9000812347684809, 'TP': 5540, 'TN': 20921, 'FP': 615, 'FN': 310}\n",
      "{'id': 45, 'key': UUID('b4765c5c-7008-4db4-b4f7-a99c290dd20d'), 'horse': 'Happy', 'activity': 'trotting-natural', 'accuracy_activity': 0.9837508215876726, 'recall': 0.03260869565217391, 'specificity': 1.0, 'precision': 1.0, 'TP': 15, 'TN': 26926, 'FP': 0, 'FN': 445}\n",
      "{'id': 46, 'key': UUID('b4765c5c-7008-4db4-b4f7-a99c290dd20d'), 'horse': 'Happy', 'activity': 'trotting-rider', 'accuracy_activity': 0.9844811217410355, 'recall': 0.0, 'specificity': 0.9844811217410355, 'precision': 0.0, 'TP': 0, 'TN': 26961, 'FP': 425, 'FN': 0}\n",
      "{'id': 47, 'key': UUID('b4765c5c-7008-4db4-b4f7-a99c290dd20d'), 'horse': 'Happy', 'activity': 'running-natural', 'accuracy_activity': 0.9996348499233185, 'recall': 0.0, 'specificity': 0.9999634729882748, 'precision': 0.0, 'TP': 0, 'TN': 27376, 'FP': 1, 'FN': 9}\n",
      "{'id': 48, 'key': UUID('b4765c5c-7008-4db4-b4f7-a99c290dd20d'), 'horse': 'Happy', 'activity': 'running-rider', 'accuracy_activity': 0.9710070839114876, 'recall': 0.0, 'specificity': 1.0, 'precision': 0.0, 'TP': 0, 'TN': 26592, 'FP': 0, 'FN': 794}\n",
      "{'id': 49, 'key': UUID('b4765c5c-7008-4db4-b4f7-a99c290dd20d'), 'horse': 'Happy', 'activity': 'jumping', 'accuracy_activity': 0.9994887898926459, 'recall': 0.0, 'specificity': 1.0, 'precision': 0.0, 'TP': 0, 'TN': 27372, 'FP': 0, 'FN': 14}\n",
      "{'id': 50, 'key': UUID('b4765c5c-7008-4db4-b4f7-a99c290dd20d'), 'horse': 'Happy', 'activity': 'grazing', 'accuracy_activity': 0.9999634849923319, 'recall': 0.0, 'specificity': 0.9999634849923319, 'precision': 0.0, 'TP': 0, 'TN': 27385, 'FP': 1, 'FN': 0}\n",
      "{'id': 51, 'key': UUID('b4765c5c-7008-4db4-b4f7-a99c290dd20d'), 'horse': 'Happy', 'activity': 'eating', 'accuracy_activity': 0.9916380632439933, 'recall': 0.9115744069015097, 'specificity': 0.9959222927486056, 'precision': 0.9228529839883551, 'TP': 1268, 'TN': 25889, 'FP': 106, 'FN': 123}\n",
      "{'id': 52, 'key': UUID('b4765c5c-7008-4db4-b4f7-a99c290dd20d'), 'horse': 'Happy', 'activity': 'head shake', 'accuracy_activity': 0.9996348499233185, 'recall': 0.0, 'specificity': 1.0, 'precision': 0.0, 'TP': 0, 'TN': 27376, 'FP': 0, 'FN': 10}\n",
      "{'id': 53, 'key': UUID('b4765c5c-7008-4db4-b4f7-a99c290dd20d'), 'horse': 'Happy', 'activity': 'shaking', 'accuracy_activity': 0.9643613525158841, 'recall': 0.9706885660138976, 'specificity': 0.961789327718145, 'precision': 0.9117123531505874, 'TP': 7683, 'TN': 18727, 'FP': 744, 'FN': 232}\n",
      "{'id': 54, 'key': UUID('b4765c5c-7008-4db4-b4f7-a99c290dd20d'), 'horse': 'Happy', 'activity': 'scratch-biting', 'accuracy_activity': 0.9664427079529687, 'recall': 0.3755506607929515, 'specificity': 0.9867059445577461, 'precision': 0.49206349206349204, 'TP': 341, 'TN': 26126, 'FP': 352, 'FN': 567}\n",
      "{'id': 55, 'key': UUID('b4765c5c-7008-4db4-b4f7-a99c290dd20d'), 'horse': 'Happy', 'activity': 'rubbing', 'accuracy_activity': 0.9589571313809976, 'recall': 0.9570374800637959, 'specificity': 0.960066843379048, 'precision': 0.9326792306197785, 'TP': 9601, 'TN': 16661, 'FP': 693, 'FN': 431}\n",
      "{'id': 56, 'key': UUID('b4765c5c-7008-4db4-b4f7-a99c290dd20d'), 'horse': 'Driekus', 'activity': 'standing', 'accuracy_activity': 0.9969622816639946, 'recall': 0.0, 'specificity': 1.0, 'precision': 0.0, 'TP': 0, 'TN': 11815, 'FP': 0, 'FN': 36}\n",
      "{'id': 57, 'key': UUID('b4765c5c-7008-4db4-b4f7-a99c290dd20d'), 'horse': 'Driekus', 'activity': 'walking-natural', 'accuracy_activity': 0.9999156189351109, 'recall': 0.0, 'specificity': 0.9999156189351109, 'precision': 0.0, 'TP': 0, 'TN': 11850, 'FP': 1, 'FN': 0}\n",
      "{'id': 58, 'key': UUID('b4765c5c-7008-4db4-b4f7-a99c290dd20d'), 'horse': 'Driekus', 'activity': 'walking-rider', 'accuracy_activity': 0.947936882963463, 'recall': 0.877260083449235, 'specificity': 0.9705849582172702, 'precision': 0.9052744886975242, 'TP': 2523, 'TN': 8711, 'FP': 264, 'FN': 353}\n",
      "{'id': 59, 'key': UUID('b4765c5c-7008-4db4-b4f7-a99c290dd20d'), 'horse': 'Driekus', 'activity': 'trotting-natural', 'accuracy_activity': 0.9881022698506455, 'recall': 0.1342281879194631, 'specificity': 0.9989745342676466, 'precision': 0.625, 'TP': 20, 'TN': 11690, 'FP': 12, 'FN': 129}\n",
      "{'id': 60, 'key': UUID('b4765c5c-7008-4db4-b4f7-a99c290dd20d'), 'horse': 'Driekus', 'activity': 'trotting-rider', 'accuracy_activity': 0.997806092312885, 'recall': 0.0, 'specificity': 1.0, 'precision': 0.0, 'TP': 0, 'TN': 11825, 'FP': 0, 'FN': 26}\n",
      "{'id': 61, 'key': UUID('b4765c5c-7008-4db4-b4f7-a99c290dd20d'), 'horse': 'Driekus', 'activity': 'running-natural', 'accuracy_activity': 0.956543751582145, 'recall': 1.0, 'specificity': 0.9564813249957749, 'precision': 0.03195488721804511, 'TP': 17, 'TN': 11319, 'FP': 515, 'FN': 0}\n",
      "{'id': 62, 'key': UUID('b4765c5c-7008-4db4-b4f7-a99c290dd20d'), 'horse': 'Driekus', 'activity': 'running-rider', 'accuracy_activity': 0.9710572947430597, 'recall': 0.03651685393258427, 'specificity': 1.0, 'precision': 1.0, 'TP': 13, 'TN': 11495, 'FP': 0, 'FN': 343}\n",
      "{'id': 63, 'key': UUID('b4765c5c-7008-4db4-b4f7-a99c290dd20d'), 'horse': 'Driekus', 'activity': 'jumping', 'accuracy_activity': 0.9983967597671083, 'recall': 0.0, 'specificity': 1.0, 'precision': 0.0, 'TP': 0, 'TN': 11832, 'FP': 0, 'FN': 19}\n",
      "{'id': 64, 'key': UUID('b4765c5c-7008-4db4-b4f7-a99c290dd20d'), 'horse': 'Driekus', 'activity': 'grazing', 'accuracy_activity': 0.9993249514808877, 'recall': 0.0, 'specificity': 1.0, 'precision': 0.0, 'TP': 0, 'TN': 11843, 'FP': 0, 'FN': 8}\n",
      "{'id': 65, 'key': UUID('b4765c5c-7008-4db4-b4f7-a99c290dd20d'), 'horse': 'Driekus', 'activity': 'eating', 'accuracy_activity': 0.993502658003544, 'recall': 0.8407960199004975, 'specificity': 0.9988645296532448, 'precision': 0.9629629629629629, 'TP': 338, 'TN': 11436, 'FP': 13, 'FN': 64}\n",
      "{'id': 66, 'key': UUID('b4765c5c-7008-4db4-b4f7-a99c290dd20d'), 'horse': 'Driekus', 'activity': 'head shake', 'accuracy_activity': 0.9995780946755548, 'recall': 0.0, 'specificity': 1.0, 'precision': 0.0, 'TP': 0, 'TN': 11846, 'FP': 0, 'FN': 5}\n",
      "{'id': 67, 'key': UUID('b4765c5c-7008-4db4-b4f7-a99c290dd20d'), 'horse': 'Driekus', 'activity': 'shaking', 'accuracy_activity': 0.9488650746772425, 'recall': 0.8605960264900663, 'specificity': 0.9790510700939871, 'precision': 0.9335488505747126, 'TP': 2599, 'TN': 8646, 'FP': 185, 'FN': 421}\n",
      "{'id': 68, 'key': UUID('b4765c5c-7008-4db4-b4f7-a99c290dd20d'), 'horse': 'Driekus', 'activity': 'scratch-biting', 'accuracy_activity': 0.8984895789384862, 'recall': 0.39263803680981596, 'specificity': 0.9127982646420825, 'precision': 0.11297440423654016, 'TP': 128, 'TN': 10520, 'FP': 1005, 'FN': 198}\n",
      "{'id': 69, 'key': UUID('b4765c5c-7008-4db4-b4f7-a99c290dd20d'), 'horse': 'Driekus', 'activity': 'rubbing', 'accuracy_activity': 0.9310606699856552, 'recall': 0.8687920190847972, 'specificity': 0.9707182320441989, 'precision': 0.9497392128971076, 'TP': 4006, 'TN': 7028, 'FP': 212, 'FN': 605}\n"
     ]
    }
   ],
   "source": [
    "query = Experiment.select().dicts()\n",
    "for q in query:\n",
    "    print(q)\n",
    "\n",
    "query = Activity.select().dicts()\n",
    "for q in query:\n",
    "    print(q)"
   ]
  },
  {
   "cell_type": "code",
   "execution_count": 24,
   "id": "3f30a97a",
   "metadata": {},
   "outputs": [
    {
     "name": "stdout",
     "output_type": "stream",
     "text": [
      "{'id': 1, 'key': UUID('616453bd-ee63-4c2c-8e70-96e8074dd9a5'), 'username': 'maartjehuveneers', 'horse': 'Galoway', 'date': datetime.date(2021, 5, 3), 'accuracy_experiment': 0.7930938005447388, 'fscore': 0.7901676450101861, 'mcc': 0.7275470824924013, 'recall': 0.7930937773882559, 'settings': 'First test with running the experiment'}\n",
      "{'id': 1, 'key': UUID('616453bd-ee63-4c2c-8e70-96e8074dd9a5'), 'horse': 'Galoway', 'activity': 'standing', 'accuracy_activity': 0.9993689745836986, 'recall': 0.0, 'specificity': 1.0, 'precision': 0.0, 'TP': 0, 'TN': 28507, 'FP': 0, 'FN': 18}\n",
      "{'id': 2, 'key': UUID('616453bd-ee63-4c2c-8e70-96e8074dd9a5'), 'horse': 'Galoway', 'activity': 'walking-natural', 'accuracy_activity': 0.9988781770376862, 'recall': 0.0, 'specificity': 1.0, 'precision': 0.0, 'TP': 0, 'TN': 28493, 'FP': 0, 'FN': 32}\n",
      "{'id': 3, 'key': UUID('616453bd-ee63-4c2c-8e70-96e8074dd9a5'), 'horse': 'Galoway', 'activity': 'walking-rider', 'accuracy_activity': 0.9590885188431201, 'recall': 0.828125, 'specificity': 0.9868695024008839, 'precision': 0.9304523970290345, 'TP': 4134, 'TN': 23224, 'FP': 309, 'FN': 858}\n",
      "{'id': 4, 'key': UUID('616453bd-ee63-4c2c-8e70-96e8074dd9a5'), 'horse': 'Galoway', 'activity': 'trotting-natural', 'accuracy_activity': 0.9951621384750219, 'recall': 0.0, 'specificity': 1.0, 'precision': 0.0, 'TP': 0, 'TN': 28387, 'FP': 0, 'FN': 138}\n",
      "{'id': 5, 'key': UUID('616453bd-ee63-4c2c-8e70-96e8074dd9a5'), 'horse': 'Galoway', 'activity': 'trotting-rider', 'accuracy_activity': 0.9440490797546012, 'recall': 0.3333333333333333, 'specificity': 0.9443703963521571, 'precision': 0.0031426775612822125, 'TP': 5, 'TN': 26924, 'FP': 1586, 'FN': 10}\n",
      "{'id': 6, 'key': UUID('616453bd-ee63-4c2c-8e70-96e8074dd9a5'), 'horse': 'Galoway', 'activity': 'running-natural', 'accuracy_activity': 0.9992287467134093, 'recall': 0.0, 'specificity': 0.9999298368707245, 'precision': 0.0, 'TP': 0, 'TN': 28503, 'FP': 2, 'FN': 20}\n",
      "{'id': 7, 'key': UUID('616453bd-ee63-4c2c-8e70-96e8074dd9a5'), 'horse': 'Galoway', 'activity': 'running-rider', 'accuracy_activity': 0.9588080631025416, 'recall': 0.0017064846416382253, 'specificity': 0.9998172046941834, 'precision': 0.2857142857142857, 'TP': 2, 'TN': 27348, 'FP': 5, 'FN': 1170}\n",
      "{'id': 8, 'key': UUID('616453bd-ee63-4c2c-8e70-96e8074dd9a5'), 'horse': 'Galoway', 'activity': 'jumping', 'accuracy_activity': 0.9927432077125329, 'recall': 0.0, 'specificity': 1.0, 'precision': 0.0, 'TP': 0, 'TN': 28318, 'FP': 0, 'FN': 207}\n",
      "{'id': 9, 'key': UUID('616453bd-ee63-4c2c-8e70-96e8074dd9a5'), 'horse': 'Galoway', 'activity': 'grazing', 'accuracy_activity': 0.999649430324277, 'recall': 0.0, 'specificity': 1.0, 'precision': 0.0, 'TP': 0, 'TN': 28515, 'FP': 0, 'FN': 10}\n",
      "{'id': 10, 'key': UUID('616453bd-ee63-4c2c-8e70-96e8074dd9a5'), 'horse': 'Galoway', 'activity': 'eating', 'accuracy_activity': 0.9688343558282209, 'recall': 0.944177093358999, 'specificity': 0.9707717321435323, 'precision': 0.7173674588665447, 'TP': 1962, 'TN': 25674, 'FP': 773, 'FN': 116}\n",
      "{'id': 11, 'key': UUID('616453bd-ee63-4c2c-8e70-96e8074dd9a5'), 'horse': 'Galoway', 'activity': 'head shake', 'accuracy_activity': 0.9972655565293602, 'recall': 0.0, 'specificity': 0.9998594074022003, 'precision': 0.0, 'TP': 0, 'TN': 28447, 'FP': 4, 'FN': 74}\n",
      "{'id': 12, 'key': UUID('616453bd-ee63-4c2c-8e70-96e8074dd9a5'), 'horse': 'Galoway', 'activity': 'shaking', 'accuracy_activity': 0.8998071866783524, 'recall': 0.7473275024295433, 'specificity': 0.9513178876278022, 'precision': 0.8383429372371904, 'TP': 5383, 'TN': 20284, 'FP': 1038, 'FN': 1820}\n",
      "{'id': 13, 'key': UUID('616453bd-ee63-4c2c-8e70-96e8074dd9a5'), 'horse': 'Galoway', 'activity': 'scratch-biting', 'accuracy_activity': 0.9312532865907099, 'recall': 0.41114369501466275, 'specificity': 0.9643176733780761, 'precision': 0.42279855247285886, 'TP': 701, 'TN': 25863, 'FP': 957, 'FN': 1004}\n",
      "{'id': 14, 'key': UUID('616453bd-ee63-4c2c-8e70-96e8074dd9a5'), 'horse': 'Galoway', 'activity': 'rubbing', 'accuracy_activity': 0.9420508326029798, 'recall': 0.9608691649019427, 'specificity': 0.9304800724637681, 'precision': 0.894718792866941, 'TP': 10436, 'TN': 16436, 'FP': 1228, 'FN': 425}\n",
      "{'id': 1, 'key': UUID('616453bd-ee63-4c2c-8e70-96e8074dd9a5'), 'username': 'maartjehuveneers', 'horse': 'Galoway', 'date': datetime.date(2021, 5, 3), 'accuracy_experiment': 0.7930938005447388, 'fscore': 0.7901676450101861, 'mcc': 0.7275470824924013, 'recall': 0.7930937773882559, 'settings': 'First test with running the experiment'}\n",
      "{'id': 2, 'key': UUID('b4765c5c-7008-4db4-b4f7-a99c290dd20d'), 'username': 'maartjehuveneers', 'horse': 'Galoway', 'date': datetime.date(2021, 5, 3), 'accuracy_experiment': 0.7256792187690735, 'fscore': 0.7221669664764988, 'mcc': 0.6485635019518886, 'recall': 0.7256792287467134, 'settings': 'First time running the experiment, Neural Network with ...'}\n",
      "{'id': 3, 'key': UUID('b4765c5c-7008-4db4-b4f7-a99c290dd20d'), 'username': 'maartjehuveneers', 'horse': 'Patron', 'date': datetime.date(2021, 5, 3), 'accuracy_experiment': 0.8151192665100098, 'fscore': 0.8200997873075356, 'mcc': 0.7546106432806079, 'recall': 0.8151192561649373, 'settings': 'First time running the experiment, Neural Network with ...'}\n",
      "{'id': 4, 'key': UUID('b4765c5c-7008-4db4-b4f7-a99c290dd20d'), 'username': 'maartjehuveneers', 'horse': 'Happy', 'date': datetime.date(2021, 5, 3), 'accuracy_experiment': 0.8927189111709595, 'fscore': 0.8767408724963252, 'mcc': 0.8526661802960389, 'recall': 0.8927189074709706, 'settings': 'First time running the experiment, Neural Network with ...'}\n",
      "{'id': 5, 'key': UUID('b4765c5c-7008-4db4-b4f7-a99c290dd20d'), 'username': 'maartjehuveneers', 'horse': 'Driekus', 'date': datetime.date(2021, 5, 3), 'accuracy_experiment': 0.8137710094451904, 'fscore': 0.8378032298386249, 'mcc': 0.7533631799486723, 'recall': 0.8137709897898912, 'settings': 'First time running the experiment, Neural Network with ...'}\n"
     ]
    }
   ],
   "source": [
    "#searching for an experiment and printing its results\n",
    "#insert experiment key below as variable\n",
    "experiment_key = \"616453bd-ee63-4c2c-8e70-96e8074dd9a5\"\n",
    "\n",
    "query = Experiment.select().where(Experiment.key == experiment_key).dicts()\n",
    "for exp in query:\n",
    "    print(exp)\n",
    "    \n",
    "query = Activity.select().where(Activity.key == experiment_key).dicts()\n",
    "for exp in query:\n",
    "    print(exp)\n",
    "    \n",
    "\n",
    "#selecting queries based on date\n",
    "query = Experiment.select().where(Experiment.date.day == 3, Experiment.date.month == 5).dicts()\n",
    "for exp in query:\n",
    "    print(exp)"
   ]
  },
  {
   "cell_type": "markdown",
   "id": "8ac85234",
   "metadata": {},
   "source": [
    "# Loop of training with all subjects"
   ]
  },
  {
   "cell_type": "code",
   "execution_count": 27,
   "id": "250685e4",
   "metadata": {},
   "outputs": [
    {
     "name": "stdout",
     "output_type": "stream",
     "text": [
      "Galoway\n",
      "Epoch 1/2\n",
      "81/81 [==============================] - 6s 57ms/step - loss: 1.5054 - accuracy: 0.5507 - val_loss: 0.4178 - val_accuracy: 0.8884\n",
      "Epoch 2/2\n",
      "81/81 [==============================] - 4s 49ms/step - loss: 0.3585 - accuracy: 0.9015 - val_loss: 0.3108 - val_accuracy: 0.9194\n",
      "892/892 [==============================] - 8s 9ms/step - loss: 0.9927 - accuracy: 0.7295\n",
      "\n",
      "Accuracy on test data: 0.73\n"
     ]
    },
    {
     "data": {
      "image/png": "[encoded data removed]",
      "text/plain": [
       "<Figure size 432x288 with 2 Axes>"
      ]
     },
     "metadata": {},
     "output_type": "display_data"
    },
    {
     "name": "stdout",
     "output_type": "stream",
     "text": [
      "Patron\n",
      "Epoch 1/2\n",
      "99/99 [==============================] - 7s 55ms/step - loss: 1.4217 - accuracy: 0.5934 - val_loss: 0.4099 - val_accuracy: 0.8933\n",
      "Epoch 2/2\n",
      "99/99 [==============================] - 5s 49ms/step - loss: 0.3603 - accuracy: 0.8999 - val_loss: 0.3641 - val_accuracy: 0.8989\n",
      "377/464 [=======================>......] - ETA: 0s - loss: 0.7168 - accuracy: 0.8141"
     ]
    },
    {
     "ename": "KeyboardInterrupt",
     "evalue": "",
     "output_type": "error",
     "traceback": [
      "\u001b[0;31m---------------------------------------------------------------------------\u001b[0m",
      "\u001b[0;31mKeyboardInterrupt\u001b[0m                         Traceback (most recent call last)",
      "\u001b[0;32m<ipython-input-27-9ec811b0a70d>\u001b[0m in \u001b[0;36m<module>\u001b[0;34m\u001b[0m\n\u001b[1;32m     18\u001b[0m     \u001b[0mhistory\u001b[0m\u001b[0;34m,\u001b[0m \u001b[0mmodelm\u001b[0m \u001b[0;34m=\u001b[0m \u001b[0mclassifier\u001b[0m\u001b[0;34m(\u001b[0m\u001b[0mx_train\u001b[0m\u001b[0;34m,\u001b[0m \u001b[0my_train_hot\u001b[0m\u001b[0;34m)\u001b[0m \u001b[0;31m#training the model\u001b[0m\u001b[0;34m\u001b[0m\u001b[0;34m\u001b[0m\u001b[0m\n\u001b[1;32m     19\u001b[0m     \u001b[0;31m#printResults(history, modelm, x_train, y_train) #retrieving and printing the performance results of the training data\u001b[0m\u001b[0;34m\u001b[0m\u001b[0;34m\u001b[0m\u001b[0;34m\u001b[0m\u001b[0m\n\u001b[0;32m---> 20\u001b[0;31m     \u001b[0mx_test\u001b[0m\u001b[0;34m,\u001b[0m \u001b[0my_test\u001b[0m\u001b[0;34m,\u001b[0m \u001b[0macc\u001b[0m \u001b[0;34m=\u001b[0m \u001b[0mtestValidation\u001b[0m\u001b[0;34m(\u001b[0m\u001b[0mtest\u001b[0m\u001b[0;34m,\u001b[0m \u001b[0mmodelm\u001b[0m\u001b[0;34m)\u001b[0m\u001b[0;34m\u001b[0m\u001b[0;34m\u001b[0m\u001b[0m\n\u001b[0m\u001b[1;32m     21\u001b[0m     \u001b[0my_pred_test\u001b[0m \u001b[0;34m=\u001b[0m \u001b[0mmodelm\u001b[0m\u001b[0;34m.\u001b[0m\u001b[0mpredict\u001b[0m\u001b[0;34m(\u001b[0m\u001b[0mx_test\u001b[0m\u001b[0;34m)\u001b[0m\u001b[0;34m\u001b[0m\u001b[0;34m\u001b[0m\u001b[0m\n\u001b[1;32m     22\u001b[0m \u001b[0;34m\u001b[0m\u001b[0m\n",
      "\u001b[0;32m<ipython-input-19-2395888a859e>\u001b[0m in \u001b[0;36mtestValidation\u001b[0;34m(test, modelm)\u001b[0m\n\u001b[1;32m     24\u001b[0m \u001b[0;34m\u001b[0m\u001b[0m\n\u001b[1;32m     25\u001b[0m     \u001b[0my_test\u001b[0m \u001b[0;34m=\u001b[0m \u001b[0mnp_utils\u001b[0m\u001b[0;34m.\u001b[0m\u001b[0mto_categorical\u001b[0m\u001b[0;34m(\u001b[0m\u001b[0my_test\u001b[0m\u001b[0;34m,\u001b[0m \u001b[0mnum_classes\u001b[0m\u001b[0;34m)\u001b[0m\u001b[0;34m\u001b[0m\u001b[0;34m\u001b[0m\u001b[0m\n\u001b[0;32m---> 26\u001b[0;31m     \u001b[0mscore\u001b[0m \u001b[0;34m=\u001b[0m \u001b[0mmodelm\u001b[0m\u001b[0;34m.\u001b[0m\u001b[0mevaluate\u001b[0m\u001b[0;34m(\u001b[0m\u001b[0mx_test\u001b[0m\u001b[0;34m,\u001b[0m \u001b[0my_test\u001b[0m\u001b[0;34m,\u001b[0m \u001b[0mverbose\u001b[0m\u001b[0;34m=\u001b[0m\u001b[0;36m1\u001b[0m\u001b[0;34m)\u001b[0m\u001b[0;34m\u001b[0m\u001b[0;34m\u001b[0m\u001b[0m\n\u001b[0m\u001b[1;32m     27\u001b[0m \u001b[0;34m\u001b[0m\u001b[0m\n\u001b[1;32m     28\u001b[0m     \u001b[0mprint\u001b[0m\u001b[0;34m(\u001b[0m\u001b[0;34m'\\nAccuracy on test data: %0.2f'\u001b[0m \u001b[0;34m%\u001b[0m \u001b[0mscore\u001b[0m\u001b[0;34m[\u001b[0m\u001b[0;36m1\u001b[0m\u001b[0;34m]\u001b[0m\u001b[0;34m)\u001b[0m\u001b[0;34m\u001b[0m\u001b[0;34m\u001b[0m\u001b[0m\n",
      "\u001b[0;32m/usr/local/lib/python3.8/dist-packages/tensorflow/python/keras/engine/training.py\u001b[0m in \u001b[0;36mevaluate\u001b[0;34m(self, x, y, batch_size, verbose, sample_weight, steps, callbacks, max_queue_size, workers, use_multiprocessing, return_dict)\u001b[0m\n\u001b[1;32m   1392\u001b[0m               \u001b[0mlogs\u001b[0m \u001b[0;34m=\u001b[0m \u001b[0mtmp_logs\u001b[0m  \u001b[0;31m# No error, now safe to assign to logs.\u001b[0m\u001b[0;34m\u001b[0m\u001b[0;34m\u001b[0m\u001b[0m\n\u001b[1;32m   1393\u001b[0m               \u001b[0mend_step\u001b[0m \u001b[0;34m=\u001b[0m \u001b[0mstep\u001b[0m \u001b[0;34m+\u001b[0m \u001b[0mdata_handler\u001b[0m\u001b[0;34m.\u001b[0m\u001b[0mstep_increment\u001b[0m\u001b[0;34m\u001b[0m\u001b[0;34m\u001b[0m\u001b[0m\n\u001b[0;32m-> 1394\u001b[0;31m               \u001b[0mcallbacks\u001b[0m\u001b[0;34m.\u001b[0m\u001b[0mon_test_batch_end\u001b[0m\u001b[0;34m(\u001b[0m\u001b[0mend_step\u001b[0m\u001b[0;34m,\u001b[0m \u001b[0mlogs\u001b[0m\u001b[0;34m)\u001b[0m\u001b[0;34m\u001b[0m\u001b[0;34m\u001b[0m\u001b[0m\n\u001b[0m\u001b[1;32m   1395\u001b[0m       \u001b[0mlogs\u001b[0m \u001b[0;34m=\u001b[0m \u001b[0mtf_utils\u001b[0m\u001b[0;34m.\u001b[0m\u001b[0mto_numpy_or_python_type\u001b[0m\u001b[0;34m(\u001b[0m\u001b[0mlogs\u001b[0m\u001b[0;34m)\u001b[0m\u001b[0;34m\u001b[0m\u001b[0;34m\u001b[0m\u001b[0m\n\u001b[1;32m   1396\u001b[0m       \u001b[0mcallbacks\u001b[0m\u001b[0;34m.\u001b[0m\u001b[0mon_test_end\u001b[0m\u001b[0;34m(\u001b[0m\u001b[0mlogs\u001b[0m\u001b[0;34m=\u001b[0m\u001b[0mlogs\u001b[0m\u001b[0;34m)\u001b[0m\u001b[0;34m\u001b[0m\u001b[0;34m\u001b[0m\u001b[0m\n",
      "\u001b[0;32m/usr/local/lib/python3.8/dist-packages/tensorflow/python/keras/callbacks.py\u001b[0m in \u001b[0;36mon_test_batch_end\u001b[0;34m(self, batch, logs)\u001b[0m\n\u001b[1;32m    474\u001b[0m     \"\"\"\n\u001b[1;32m    475\u001b[0m     \u001b[0;32mif\u001b[0m \u001b[0mself\u001b[0m\u001b[0;34m.\u001b[0m\u001b[0m_should_call_test_batch_hooks\u001b[0m\u001b[0;34m:\u001b[0m\u001b[0;34m\u001b[0m\u001b[0;34m\u001b[0m\u001b[0m\n\u001b[0;32m--> 476\u001b[0;31m       \u001b[0mself\u001b[0m\u001b[0;34m.\u001b[0m\u001b[0m_call_batch_hook\u001b[0m\u001b[0;34m(\u001b[0m\u001b[0mModeKeys\u001b[0m\u001b[0;34m.\u001b[0m\u001b[0mTEST\u001b[0m\u001b[0;34m,\u001b[0m \u001b[0;34m'end'\u001b[0m\u001b[0;34m,\u001b[0m \u001b[0mbatch\u001b[0m\u001b[0;34m,\u001b[0m \u001b[0mlogs\u001b[0m\u001b[0;34m=\u001b[0m\u001b[0mlogs\u001b[0m\u001b[0;34m)\u001b[0m\u001b[0;34m\u001b[0m\u001b[0;34m\u001b[0m\u001b[0m\n\u001b[0m\u001b[1;32m    477\u001b[0m \u001b[0;34m\u001b[0m\u001b[0m\n\u001b[1;32m    478\u001b[0m   \u001b[0;32mdef\u001b[0m \u001b[0mon_predict_batch_begin\u001b[0m\u001b[0;34m(\u001b[0m\u001b[0mself\u001b[0m\u001b[0;34m,\u001b[0m \u001b[0mbatch\u001b[0m\u001b[0;34m,\u001b[0m \u001b[0mlogs\u001b[0m\u001b[0;34m=\u001b[0m\u001b[0;32mNone\u001b[0m\u001b[0;34m)\u001b[0m\u001b[0;34m:\u001b[0m\u001b[0;34m\u001b[0m\u001b[0;34m\u001b[0m\u001b[0m\n",
      "\u001b[0;32m/usr/local/lib/python3.8/dist-packages/tensorflow/python/keras/callbacks.py\u001b[0m in \u001b[0;36m_call_batch_hook\u001b[0;34m(self, mode, hook, batch, logs)\u001b[0m\n\u001b[1;32m    294\u001b[0m       \u001b[0mself\u001b[0m\u001b[0;34m.\u001b[0m\u001b[0m_call_batch_begin_hook\u001b[0m\u001b[0;34m(\u001b[0m\u001b[0mmode\u001b[0m\u001b[0;34m,\u001b[0m \u001b[0mbatch\u001b[0m\u001b[0;34m,\u001b[0m \u001b[0mlogs\u001b[0m\u001b[0;34m)\u001b[0m\u001b[0;34m\u001b[0m\u001b[0;34m\u001b[0m\u001b[0m\n\u001b[1;32m    295\u001b[0m     \u001b[0;32melif\u001b[0m \u001b[0mhook\u001b[0m \u001b[0;34m==\u001b[0m \u001b[0;34m'end'\u001b[0m\u001b[0;34m:\u001b[0m\u001b[0;34m\u001b[0m\u001b[0;34m\u001b[0m\u001b[0m\n\u001b[0;32m--> 296\u001b[0;31m       \u001b[0mself\u001b[0m\u001b[0;34m.\u001b[0m\u001b[0m_call_batch_end_hook\u001b[0m\u001b[0;34m(\u001b[0m\u001b[0mmode\u001b[0m\u001b[0;34m,\u001b[0m \u001b[0mbatch\u001b[0m\u001b[0;34m,\u001b[0m \u001b[0mlogs\u001b[0m\u001b[0;34m)\u001b[0m\u001b[0;34m\u001b[0m\u001b[0;34m\u001b[0m\u001b[0m\n\u001b[0m\u001b[1;32m    297\u001b[0m     \u001b[0;32melse\u001b[0m\u001b[0;34m:\u001b[0m\u001b[0;34m\u001b[0m\u001b[0;34m\u001b[0m\u001b[0m\n\u001b[1;32m    298\u001b[0m       \u001b[0;32mraise\u001b[0m \u001b[0mValueError\u001b[0m\u001b[0;34m(\u001b[0m\u001b[0;34m'Unrecognized hook: {}'\u001b[0m\u001b[0;34m.\u001b[0m\u001b[0mformat\u001b[0m\u001b[0;34m(\u001b[0m\u001b[0mhook\u001b[0m\u001b[0;34m)\u001b[0m\u001b[0;34m)\u001b[0m\u001b[0;34m\u001b[0m\u001b[0;34m\u001b[0m\u001b[0m\n",
      "\u001b[0;32m/usr/local/lib/python3.8/dist-packages/tensorflow/python/keras/callbacks.py\u001b[0m in \u001b[0;36m_call_batch_end_hook\u001b[0;34m(self, mode, batch, logs)\u001b[0m\n\u001b[1;32m    314\u001b[0m       \u001b[0mself\u001b[0m\u001b[0;34m.\u001b[0m\u001b[0m_batch_times\u001b[0m\u001b[0;34m.\u001b[0m\u001b[0mappend\u001b[0m\u001b[0;34m(\u001b[0m\u001b[0mbatch_time\u001b[0m\u001b[0;34m)\u001b[0m\u001b[0;34m\u001b[0m\u001b[0;34m\u001b[0m\u001b[0m\n\u001b[1;32m    315\u001b[0m \u001b[0;34m\u001b[0m\u001b[0m\n\u001b[0;32m--> 316\u001b[0;31m     \u001b[0mself\u001b[0m\u001b[0;34m.\u001b[0m\u001b[0m_call_batch_hook_helper\u001b[0m\u001b[0;34m(\u001b[0m\u001b[0mhook_name\u001b[0m\u001b[0;34m,\u001b[0m \u001b[0mbatch\u001b[0m\u001b[0;34m,\u001b[0m \u001b[0mlogs\u001b[0m\u001b[0;34m)\u001b[0m\u001b[0;34m\u001b[0m\u001b[0;34m\u001b[0m\u001b[0m\n\u001b[0m\u001b[1;32m    317\u001b[0m \u001b[0;34m\u001b[0m\u001b[0m\n\u001b[1;32m    318\u001b[0m     \u001b[0;32mif\u001b[0m \u001b[0mlen\u001b[0m\u001b[0;34m(\u001b[0m\u001b[0mself\u001b[0m\u001b[0;34m.\u001b[0m\u001b[0m_batch_times\u001b[0m\u001b[0;34m)\u001b[0m \u001b[0;34m>=\u001b[0m \u001b[0mself\u001b[0m\u001b[0;34m.\u001b[0m\u001b[0m_num_batches_for_timing_check\u001b[0m\u001b[0;34m:\u001b[0m\u001b[0;34m\u001b[0m\u001b[0;34m\u001b[0m\u001b[0m\n",
      "\u001b[0;32m/usr/local/lib/python3.8/dist-packages/tensorflow/python/keras/callbacks.py\u001b[0m in \u001b[0;36m_call_batch_hook_helper\u001b[0;34m(self, hook_name, batch, logs)\u001b[0m\n\u001b[1;32m    354\u001b[0m       \u001b[0mhook\u001b[0m \u001b[0;34m=\u001b[0m \u001b[0mgetattr\u001b[0m\u001b[0;34m(\u001b[0m\u001b[0mcallback\u001b[0m\u001b[0;34m,\u001b[0m \u001b[0mhook_name\u001b[0m\u001b[0;34m)\u001b[0m\u001b[0;34m\u001b[0m\u001b[0;34m\u001b[0m\u001b[0m\n\u001b[1;32m    355\u001b[0m       \u001b[0;32mif\u001b[0m \u001b[0mgetattr\u001b[0m\u001b[0;34m(\u001b[0m\u001b[0mcallback\u001b[0m\u001b[0;34m,\u001b[0m \u001b[0;34m'_supports_tf_logs'\u001b[0m\u001b[0;34m,\u001b[0m \u001b[0;32mFalse\u001b[0m\u001b[0;34m)\u001b[0m\u001b[0;34m:\u001b[0m\u001b[0;34m\u001b[0m\u001b[0;34m\u001b[0m\u001b[0m\n\u001b[0;32m--> 356\u001b[0;31m         \u001b[0mhook\u001b[0m\u001b[0;34m(\u001b[0m\u001b[0mbatch\u001b[0m\u001b[0;34m,\u001b[0m \u001b[0mlogs\u001b[0m\u001b[0;34m)\u001b[0m\u001b[0;34m\u001b[0m\u001b[0;34m\u001b[0m\u001b[0m\n\u001b[0m\u001b[1;32m    357\u001b[0m       \u001b[0;32melse\u001b[0m\u001b[0;34m:\u001b[0m\u001b[0;34m\u001b[0m\u001b[0;34m\u001b[0m\u001b[0m\n\u001b[1;32m    358\u001b[0m         \u001b[0;32mif\u001b[0m \u001b[0mnumpy_logs\u001b[0m \u001b[0;32mis\u001b[0m \u001b[0;32mNone\u001b[0m\u001b[0;34m:\u001b[0m  \u001b[0;31m# Only convert once.\u001b[0m\u001b[0;34m\u001b[0m\u001b[0;34m\u001b[0m\u001b[0m\n",
      "\u001b[0;32m/usr/local/lib/python3.8/dist-packages/tensorflow/python/keras/callbacks.py\u001b[0m in \u001b[0;36mon_test_batch_end\u001b[0;34m(self, batch, logs)\u001b[0m\n\u001b[1;32m   1022\u001b[0m   \u001b[0;32mdef\u001b[0m \u001b[0mon_test_batch_end\u001b[0m\u001b[0;34m(\u001b[0m\u001b[0mself\u001b[0m\u001b[0;34m,\u001b[0m \u001b[0mbatch\u001b[0m\u001b[0;34m,\u001b[0m \u001b[0mlogs\u001b[0m\u001b[0;34m=\u001b[0m\u001b[0;32mNone\u001b[0m\u001b[0;34m)\u001b[0m\u001b[0;34m:\u001b[0m\u001b[0;34m\u001b[0m\u001b[0;34m\u001b[0m\u001b[0m\n\u001b[1;32m   1023\u001b[0m     \u001b[0;32mif\u001b[0m \u001b[0;32mnot\u001b[0m \u001b[0mself\u001b[0m\u001b[0;34m.\u001b[0m\u001b[0m_called_in_fit\u001b[0m\u001b[0;34m:\u001b[0m\u001b[0;34m\u001b[0m\u001b[0;34m\u001b[0m\u001b[0m\n\u001b[0;32m-> 1024\u001b[0;31m       \u001b[0mself\u001b[0m\u001b[0;34m.\u001b[0m\u001b[0m_batch_update_progbar\u001b[0m\u001b[0;34m(\u001b[0m\u001b[0mbatch\u001b[0m\u001b[0;34m,\u001b[0m \u001b[0mlogs\u001b[0m\u001b[0;34m)\u001b[0m\u001b[0;34m\u001b[0m\u001b[0;34m\u001b[0m\u001b[0m\n\u001b[0m\u001b[1;32m   1025\u001b[0m \u001b[0;34m\u001b[0m\u001b[0m\n\u001b[1;32m   1026\u001b[0m   \u001b[0;32mdef\u001b[0m \u001b[0mon_predict_batch_end\u001b[0m\u001b[0;34m(\u001b[0m\u001b[0mself\u001b[0m\u001b[0;34m,\u001b[0m \u001b[0mbatch\u001b[0m\u001b[0;34m,\u001b[0m \u001b[0mlogs\u001b[0m\u001b[0;34m=\u001b[0m\u001b[0;32mNone\u001b[0m\u001b[0;34m)\u001b[0m\u001b[0;34m:\u001b[0m\u001b[0;34m\u001b[0m\u001b[0;34m\u001b[0m\u001b[0m\n",
      "\u001b[0;32m/usr/local/lib/python3.8/dist-packages/tensorflow/python/keras/callbacks.py\u001b[0m in \u001b[0;36m_batch_update_progbar\u001b[0;34m(self, batch, logs)\u001b[0m\n\u001b[1;32m   1083\u001b[0m       \u001b[0;31m# Only block async when verbose = 1.\u001b[0m\u001b[0;34m\u001b[0m\u001b[0;34m\u001b[0m\u001b[0;34m\u001b[0m\u001b[0m\n\u001b[1;32m   1084\u001b[0m       \u001b[0mlogs\u001b[0m \u001b[0;34m=\u001b[0m \u001b[0mtf_utils\u001b[0m\u001b[0;34m.\u001b[0m\u001b[0mto_numpy_or_python_type\u001b[0m\u001b[0;34m(\u001b[0m\u001b[0mlogs\u001b[0m\u001b[0;34m)\u001b[0m\u001b[0;34m\u001b[0m\u001b[0;34m\u001b[0m\u001b[0m\n\u001b[0;32m-> 1085\u001b[0;31m       \u001b[0mself\u001b[0m\u001b[0;34m.\u001b[0m\u001b[0mprogbar\u001b[0m\u001b[0;34m.\u001b[0m\u001b[0mupdate\u001b[0m\u001b[0;34m(\u001b[0m\u001b[0mself\u001b[0m\u001b[0;34m.\u001b[0m\u001b[0mseen\u001b[0m\u001b[0;34m,\u001b[0m \u001b[0mlist\u001b[0m\u001b[0;34m(\u001b[0m\u001b[0mlogs\u001b[0m\u001b[0;34m.\u001b[0m\u001b[0mitems\u001b[0m\u001b[0;34m(\u001b[0m\u001b[0;34m)\u001b[0m\u001b[0;34m)\u001b[0m\u001b[0;34m,\u001b[0m \u001b[0mfinalize\u001b[0m\u001b[0;34m=\u001b[0m\u001b[0;32mFalse\u001b[0m\u001b[0;34m)\u001b[0m\u001b[0;34m\u001b[0m\u001b[0;34m\u001b[0m\u001b[0m\n\u001b[0m\u001b[1;32m   1086\u001b[0m \u001b[0;34m\u001b[0m\u001b[0m\n\u001b[1;32m   1087\u001b[0m   \u001b[0;32mdef\u001b[0m \u001b[0m_finalize_progbar\u001b[0m\u001b[0;34m(\u001b[0m\u001b[0mself\u001b[0m\u001b[0;34m,\u001b[0m \u001b[0mlogs\u001b[0m\u001b[0;34m,\u001b[0m \u001b[0mcounter\u001b[0m\u001b[0;34m)\u001b[0m\u001b[0;34m:\u001b[0m\u001b[0;34m\u001b[0m\u001b[0;34m\u001b[0m\u001b[0m\n",
      "\u001b[0;32m/usr/local/lib/python3.8/dist-packages/tensorflow/python/keras/utils/generic_utils.py\u001b[0m in \u001b[0;36mupdate\u001b[0;34m(self, current, values, finalize)\u001b[0m\n\u001b[1;32m    639\u001b[0m \u001b[0;34m\u001b[0m\u001b[0m\n\u001b[1;32m    640\u001b[0m       \u001b[0msys\u001b[0m\u001b[0;34m.\u001b[0m\u001b[0mstdout\u001b[0m\u001b[0;34m.\u001b[0m\u001b[0mwrite\u001b[0m\u001b[0;34m(\u001b[0m\u001b[0minfo\u001b[0m\u001b[0;34m)\u001b[0m\u001b[0;34m\u001b[0m\u001b[0;34m\u001b[0m\u001b[0m\n\u001b[0;32m--> 641\u001b[0;31m       \u001b[0msys\u001b[0m\u001b[0;34m.\u001b[0m\u001b[0mstdout\u001b[0m\u001b[0;34m.\u001b[0m\u001b[0mflush\u001b[0m\u001b[0;34m(\u001b[0m\u001b[0;34m)\u001b[0m\u001b[0;34m\u001b[0m\u001b[0;34m\u001b[0m\u001b[0m\n\u001b[0m\u001b[1;32m    642\u001b[0m \u001b[0;34m\u001b[0m\u001b[0m\n\u001b[1;32m    643\u001b[0m     \u001b[0;32melif\u001b[0m \u001b[0mself\u001b[0m\u001b[0;34m.\u001b[0m\u001b[0mverbose\u001b[0m \u001b[0;34m==\u001b[0m \u001b[0;36m2\u001b[0m\u001b[0;34m:\u001b[0m\u001b[0;34m\u001b[0m\u001b[0;34m\u001b[0m\u001b[0m\n",
      "\u001b[0;32m/usr/local/lib/python3.8/dist-packages/ipykernel/iostream.py\u001b[0m in \u001b[0;36mflush\u001b[0;34m(self)\u001b[0m\n\u001b[1;32m    348\u001b[0m                 \u001b[0mself\u001b[0m\u001b[0;34m.\u001b[0m\u001b[0mpub_thread\u001b[0m\u001b[0;34m.\u001b[0m\u001b[0mschedule\u001b[0m\u001b[0;34m(\u001b[0m\u001b[0mevt\u001b[0m\u001b[0;34m.\u001b[0m\u001b[0mset\u001b[0m\u001b[0;34m)\u001b[0m\u001b[0;34m\u001b[0m\u001b[0;34m\u001b[0m\u001b[0m\n\u001b[1;32m    349\u001b[0m                 \u001b[0;31m# and give a timeout to avoid\u001b[0m\u001b[0;34m\u001b[0m\u001b[0;34m\u001b[0m\u001b[0;34m\u001b[0m\u001b[0m\n\u001b[0;32m--> 350\u001b[0;31m                 \u001b[0;32mif\u001b[0m \u001b[0;32mnot\u001b[0m \u001b[0mevt\u001b[0m\u001b[0;34m.\u001b[0m\u001b[0mwait\u001b[0m\u001b[0;34m(\u001b[0m\u001b[0mself\u001b[0m\u001b[0;34m.\u001b[0m\u001b[0mflush_timeout\u001b[0m\u001b[0;34m)\u001b[0m\u001b[0;34m:\u001b[0m\u001b[0;34m\u001b[0m\u001b[0;34m\u001b[0m\u001b[0m\n\u001b[0m\u001b[1;32m    351\u001b[0m                     \u001b[0;31m# write directly to __stderr__ instead of warning because\u001b[0m\u001b[0;34m\u001b[0m\u001b[0;34m\u001b[0m\u001b[0;34m\u001b[0m\u001b[0m\n\u001b[1;32m    352\u001b[0m                     \u001b[0;31m# if this is happening sys.stderr may be the problem.\u001b[0m\u001b[0;34m\u001b[0m\u001b[0;34m\u001b[0m\u001b[0;34m\u001b[0m\u001b[0m\n",
      "\u001b[0;32m/usr/lib/python3.8/threading.py\u001b[0m in \u001b[0;36mwait\u001b[0;34m(self, timeout)\u001b[0m\n\u001b[1;32m    556\u001b[0m             \u001b[0msignaled\u001b[0m \u001b[0;34m=\u001b[0m \u001b[0mself\u001b[0m\u001b[0;34m.\u001b[0m\u001b[0m_flag\u001b[0m\u001b[0;34m\u001b[0m\u001b[0;34m\u001b[0m\u001b[0m\n\u001b[1;32m    557\u001b[0m             \u001b[0;32mif\u001b[0m \u001b[0;32mnot\u001b[0m \u001b[0msignaled\u001b[0m\u001b[0;34m:\u001b[0m\u001b[0;34m\u001b[0m\u001b[0;34m\u001b[0m\u001b[0m\n\u001b[0;32m--> 558\u001b[0;31m                 \u001b[0msignaled\u001b[0m \u001b[0;34m=\u001b[0m \u001b[0mself\u001b[0m\u001b[0;34m.\u001b[0m\u001b[0m_cond\u001b[0m\u001b[0;34m.\u001b[0m\u001b[0mwait\u001b[0m\u001b[0;34m(\u001b[0m\u001b[0mtimeout\u001b[0m\u001b[0;34m)\u001b[0m\u001b[0;34m\u001b[0m\u001b[0;34m\u001b[0m\u001b[0m\n\u001b[0m\u001b[1;32m    559\u001b[0m             \u001b[0;32mreturn\u001b[0m \u001b[0msignaled\u001b[0m\u001b[0;34m\u001b[0m\u001b[0;34m\u001b[0m\u001b[0m\n\u001b[1;32m    560\u001b[0m \u001b[0;34m\u001b[0m\u001b[0m\n",
      "\u001b[0;32m/usr/lib/python3.8/threading.py\u001b[0m in \u001b[0;36mwait\u001b[0;34m(self, timeout)\u001b[0m\n\u001b[1;32m    304\u001b[0m             \u001b[0;32melse\u001b[0m\u001b[0;34m:\u001b[0m\u001b[0;34m\u001b[0m\u001b[0;34m\u001b[0m\u001b[0m\n\u001b[1;32m    305\u001b[0m                 \u001b[0;32mif\u001b[0m \u001b[0mtimeout\u001b[0m \u001b[0;34m>\u001b[0m \u001b[0;36m0\u001b[0m\u001b[0;34m:\u001b[0m\u001b[0;34m\u001b[0m\u001b[0;34m\u001b[0m\u001b[0m\n\u001b[0;32m--> 306\u001b[0;31m                     \u001b[0mgotit\u001b[0m \u001b[0;34m=\u001b[0m \u001b[0mwaiter\u001b[0m\u001b[0;34m.\u001b[0m\u001b[0macquire\u001b[0m\u001b[0;34m(\u001b[0m\u001b[0;32mTrue\u001b[0m\u001b[0;34m,\u001b[0m \u001b[0mtimeout\u001b[0m\u001b[0;34m)\u001b[0m\u001b[0;34m\u001b[0m\u001b[0;34m\u001b[0m\u001b[0m\n\u001b[0m\u001b[1;32m    307\u001b[0m                 \u001b[0;32melse\u001b[0m\u001b[0;34m:\u001b[0m\u001b[0;34m\u001b[0m\u001b[0;34m\u001b[0m\u001b[0m\n\u001b[1;32m    308\u001b[0m                     \u001b[0mgotit\u001b[0m \u001b[0;34m=\u001b[0m \u001b[0mwaiter\u001b[0m\u001b[0;34m.\u001b[0m\u001b[0macquire\u001b[0m\u001b[0;34m(\u001b[0m\u001b[0;32mFalse\u001b[0m\u001b[0;34m)\u001b[0m\u001b[0;34m\u001b[0m\u001b[0;34m\u001b[0m\u001b[0m\n",
      "\u001b[0;31mKeyboardInterrupt\u001b[0m: "
     ]
    }
   ],
   "source": [
    "uid = uuid.uuid4()\n",
    "\n",
    "for i in subject_names:\n",
    "    train, test = splitBySubject(i) #splitting the data into test and train datasets\n",
    "    train = featureScaling(train) #feature scaling the train dataset\n",
    "    x_train, y_train = createWindows(train, #windowing the train dataset. Returns the data (x_train) and labels (y_train).\n",
    "                                     TIME_PERIODS, \n",
    "                                     STEP_DISTANCE, \n",
    "                                     LABEL)\n",
    "    x_train, y_train = shuffle(np.array(x_train), np.array(y_train)) #shuffling the train data\n",
    "    num_time_periods, num_sensors = x_train.shape[1], x_train.shape[2]\n",
    "    num_classes = le.classes_.size\n",
    "    input_shape = (num_time_periods*num_sensors)\n",
    "    x_train = inputShape(x_train)\n",
    "    x_train = x_train.astype('float32')\n",
    "    y_train = y_train.astype('float32')\n",
    "    y_train_hot = oneHotCoding(y_train) #encode label Strings to integers\n",
    "    history, modelm = classifier(x_train, y_train_hot) #training the model\n",
    "    #printResults(history, modelm, x_train, y_train) #retrieving and printing the performance results of the training data\n",
    "    x_test, y_test, acc = testValidation(test, modelm)\n",
    "    y_pred_test = modelm.predict(x_test)\n",
    "    \n",
    "    # Take the class with the highest probability from the test predictions\n",
    "    max_y_pred_test = np.argmax(y_pred_test, axis=1)\n",
    "    max_y_test = np.argmax(y_test, axis=1)\n",
    "    \n",
    "    matrix, precision_per_class, recall_per_class, f_score_per_class, recall_avg, f_score_avg, mcc_score = show_confusion_matrix(max_y_test, max_y_pred_test, modelm) #print confusion matrix and get evaluation results of the test data\n",
    "    Experiment.create(key=uid, username=name, horse=i, date=date.today(), accuracy_experiment=acc, fscore=f_score_avg, mcc=mcc_score, recall=recall_avg, settings=SETTINGS) #save results per horse on database\n",
    "    \n",
    "    for act in LABELS:\n",
    "        index = LABELS.index(act)\n",
    "        if(index >= len(matrix)): #activity contains no data\n",
    "            break\n",
    "        TP = matrix[index][index]\n",
    "        FN = matrix[index].sum() - TP\n",
    "        FP = 0\n",
    "        for j in range(0, len(matrix)):\n",
    "            FP += matrix[j][index]\n",
    "        FP = FP - TP\n",
    "        TN = matrix.sum() - TP - FN - FP\n",
    "        accuracy = (TP+TN)/(TP+TN+FP+FN)\n",
    "        specificity = TN/(TN+FP)\n",
    "        #save results per activity per horse in the database\n",
    "        Activity.create(key=uid, horse=i, activity=act, accuracy_activity=accuracy, recall=recall_per_class[index], specificity=specificity, precision=precision_per_class[index], TP=TP, TN=TN, FP=FP, FN=FN)"
   ]
  },
  {
   "cell_type": "code",
   "execution_count": null,
   "id": "8e26f6e6",
   "metadata": {},
   "outputs": [],
   "source": []
  }
 ],
 "metadata": {
  "kernelspec": {
   "display_name": "Python",
   "language": "python",
   "name": "python3"
  },
  "language_info": {
   "codemirror_mode": {
    "name": "ipython",
    "version": 3
   },
   "file_extension": ".py",
   "mimetype": "text/x-python",
   "name": "python",
   "nbconvert_exporter": "python",
   "pygments_lexer": "ipython3",
   "version": "3.8.5"
  }
 },
 "nbformat": 4,
 "nbformat_minor": 5
}
