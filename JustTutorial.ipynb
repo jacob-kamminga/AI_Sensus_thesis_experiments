{
 "cells": [
  {
   "cell_type": "code",
   "execution_count": 1,
   "id": "streaming-cement",
   "metadata": {},
   "outputs": [],
   "source": [
    "from __future__ import print_function\n",
    "from matplotlib import pyplot as plt\n",
    "%matplotlib inline\n",
    "import numpy as np\n",
    "import pandas as pd\n",
    "import seaborn as sns\n",
    "from scipy import stats\n",
    "from IPython.display import display, HTML\n",
    "\n",
    "from sklearn import metrics\n",
    "from sklearn.metrics import classification_report\n",
    "from sklearn import preprocessing\n",
    "\n",
    "import keras\n",
    "from keras.models import Sequential\n",
    "from keras.layers import Dense, Dropout, Flatten, Reshape\n",
    "from keras.layers import Conv2D, MaxPooling2D\n",
    "from keras.utils import np_utils\n",
    "\n",
    "import glob\n",
    "import os"
   ]
  },
  {
   "cell_type": "code",
   "execution_count": 2,
   "id": "described-floating",
   "metadata": {},
   "outputs": [],
   "source": [
    "#Some styling\n",
    "pd.options.display.float_format = '{:.1f}'.format\n",
    "sns.set()\n",
    "plt.style.use('ggplot')\n",
    "\n",
    "#Label encoder used to get a numeric representation of a label\n",
    "le = preprocessing.LabelEncoder()\n",
    "\n",
    "#The activities\n",
    "LABELS = ['standing',\n",
    "          'walking-natural',\n",
    "          'walking-rider',\n",
    "          'trotting-natural',\n",
    "          'trotting-rider',\n",
    "          'running-natural',\n",
    "          'running-rider',\n",
    "          'jumping',\n",
    "          'grazing',\n",
    "          'eating',\n",
    "          'head shake',\n",
    "          'shaking',\n",
    "          'scratch-biting',\n",
    "          'rubbing',\n",
    "          'fighting',\n",
    "          'rolling',\n",
    "          'scared']\n",
    "\n",
    "#Sliding windows\n",
    "TIME_PERIODS = 200\n",
    "STEP_DISTANCE = 100\n",
    "\n",
    "#Datasets\n",
    "FILES = sorted(glob.glob('Data/*'))"
   ]
  },
  {
   "cell_type": "markdown",
   "id": "stable-sheep",
   "metadata": {},
   "source": [
    "# Set up dataframe"
   ]
  },
  {
   "cell_type": "code",
   "execution_count": 3,
   "id": "chemical-pension",
   "metadata": {},
   "outputs": [],
   "source": [
    "REMOVE_COLUMNS = ['Mx', 'My', 'Mz','A3D','G3D','M3D'] #Add columns to drop from dataframe\n",
    "\n",
    "def loadDataFrame(files):\n",
    "    \"\"\"\n",
    "    Simple function to set up dataframe and initial clean-up of the data\n",
    "    files: path to files\n",
    "    returns: combined dataframe of all files\n",
    "    \"\"\"\n",
    "    df = pd.DataFrame()\n",
    "    for file in files:\n",
    "        csv = pd.read_csv(file)\n",
    "        csv['filename']=file\n",
    "        df = df.append(csv)\n",
    "        \n",
    "    df.drop(REMOVE_COLUMNS, axis=1, inplace=True)\n",
    "    df['ActivityEncoded'] = le.fit_transform(df['label'].values.ravel())\n",
    "\n",
    "    return df\n",
    "\n",
    "def convert_to_float(x):\n",
    "\n",
    "    try:\n",
    "        return np.float(x)\n",
    "    except:\n",
    "        return np.nan\n",
    "\n",
    "\n",
    "df = loadDataFrame(FILES)\n",
    "\n"
   ]
  },
  {
   "cell_type": "markdown",
   "id": "recovered-patio",
   "metadata": {
    "tags": []
   },
   "source": [
    "# Plot data composition"
   ]
  },
  {
   "cell_type": "code",
   "execution_count": 4,
   "id": "constitutional-wayne",
   "metadata": {
    "tags": []
   },
   "outputs": [
    {
     "name": "stdout",
     "output_type": "stream",
     "text": [
      "Number of columns in the dataframe: 11\n",
      "Number of rows in the dataframe: 10763567\n",
      "\n"
     ]
    },
    {
     "data": {
      "text/html": [
       "<div>\n",
       "<style scoped>\n",
       "    .dataframe tbody tr th:only-of-type {\n",
       "        vertical-align: middle;\n",
       "    }\n",
       "\n",
       "    .dataframe tbody tr th {\n",
       "        vertical-align: top;\n",
       "    }\n",
       "\n",
       "    .dataframe thead th {\n",
       "        text-align: right;\n",
       "    }\n",
       "</style>\n",
       "<table border=\"1\" class=\"dataframe\">\n",
       "  <thead>\n",
       "    <tr style=\"text-align: right;\">\n",
       "      <th></th>\n",
       "      <th>Ax</th>\n",
       "      <th>Ay</th>\n",
       "      <th>Az</th>\n",
       "      <th>Gx</th>\n",
       "      <th>Gy</th>\n",
       "      <th>Gz</th>\n",
       "      <th>datetime</th>\n",
       "      <th>label</th>\n",
       "      <th>segment</th>\n",
       "      <th>filename</th>\n",
       "      <th>ActivityEncoded</th>\n",
       "    </tr>\n",
       "  </thead>\n",
       "  <tbody>\n",
       "    <tr>\n",
       "      <th>0</th>\n",
       "      <td>6.5</td>\n",
       "      <td>-1.2</td>\n",
       "      <td>3.3</td>\n",
       "      <td>-12.8</td>\n",
       "      <td>54.2</td>\n",
       "      <td>-3.4</td>\n",
       "      <td>2018-06-14 20:06:48.0988</td>\n",
       "      <td>walking-natural</td>\n",
       "      <td>13935</td>\n",
       "      <td>Data/subject_11_Patron_part_1.csv</td>\n",
       "      <td>16</td>\n",
       "    </tr>\n",
       "    <tr>\n",
       "      <th>1</th>\n",
       "      <td>6.6</td>\n",
       "      <td>-0.5</td>\n",
       "      <td>3.2</td>\n",
       "      <td>1.7</td>\n",
       "      <td>58.2</td>\n",
       "      <td>-6.8</td>\n",
       "      <td>2018-06-14 20:06:48.1088</td>\n",
       "      <td>walking-natural</td>\n",
       "      <td>13935</td>\n",
       "      <td>Data/subject_11_Patron_part_1.csv</td>\n",
       "      <td>16</td>\n",
       "    </tr>\n",
       "    <tr>\n",
       "      <th>2</th>\n",
       "      <td>6.7</td>\n",
       "      <td>0.8</td>\n",
       "      <td>3.5</td>\n",
       "      <td>26.2</td>\n",
       "      <td>60.6</td>\n",
       "      <td>-8.1</td>\n",
       "      <td>2018-06-14 20:06:48.1188</td>\n",
       "      <td>walking-natural</td>\n",
       "      <td>13935</td>\n",
       "      <td>Data/subject_11_Patron_part_1.csv</td>\n",
       "      <td>16</td>\n",
       "    </tr>\n",
       "    <tr>\n",
       "      <th>3</th>\n",
       "      <td>6.8</td>\n",
       "      <td>2.1</td>\n",
       "      <td>3.8</td>\n",
       "      <td>48.7</td>\n",
       "      <td>58.9</td>\n",
       "      <td>-8.8</td>\n",
       "      <td>2018-06-14 20:06:48.1288</td>\n",
       "      <td>walking-natural</td>\n",
       "      <td>13935</td>\n",
       "      <td>Data/subject_11_Patron_part_1.csv</td>\n",
       "      <td>16</td>\n",
       "    </tr>\n",
       "    <tr>\n",
       "      <th>4</th>\n",
       "      <td>6.8</td>\n",
       "      <td>3.2</td>\n",
       "      <td>4.2</td>\n",
       "      <td>60.0</td>\n",
       "      <td>55.4</td>\n",
       "      <td>-9.1</td>\n",
       "      <td>2018-06-14 20:06:48.1388</td>\n",
       "      <td>walking-natural</td>\n",
       "      <td>13935</td>\n",
       "      <td>Data/subject_11_Patron_part_1.csv</td>\n",
       "      <td>16</td>\n",
       "    </tr>\n",
       "    <tr>\n",
       "      <th>5</th>\n",
       "      <td>6.8</td>\n",
       "      <td>3.9</td>\n",
       "      <td>4.7</td>\n",
       "      <td>60.2</td>\n",
       "      <td>50.0</td>\n",
       "      <td>-8.2</td>\n",
       "      <td>2018-06-14 20:06:48.1488</td>\n",
       "      <td>walking-natural</td>\n",
       "      <td>13935</td>\n",
       "      <td>Data/subject_11_Patron_part_1.csv</td>\n",
       "      <td>16</td>\n",
       "    </tr>\n",
       "    <tr>\n",
       "      <th>6</th>\n",
       "      <td>6.7</td>\n",
       "      <td>3.5</td>\n",
       "      <td>5.3</td>\n",
       "      <td>50.8</td>\n",
       "      <td>44.5</td>\n",
       "      <td>-6.9</td>\n",
       "      <td>2018-06-14 20:06:48.1588</td>\n",
       "      <td>walking-natural</td>\n",
       "      <td>13935</td>\n",
       "      <td>Data/subject_11_Patron_part_1.csv</td>\n",
       "      <td>16</td>\n",
       "    </tr>\n",
       "    <tr>\n",
       "      <th>7</th>\n",
       "      <td>7.2</td>\n",
       "      <td>2.6</td>\n",
       "      <td>5.1</td>\n",
       "      <td>31.4</td>\n",
       "      <td>42.3</td>\n",
       "      <td>-4.8</td>\n",
       "      <td>2018-06-14 20:06:48.1688</td>\n",
       "      <td>walking-natural</td>\n",
       "      <td>13935</td>\n",
       "      <td>Data/subject_11_Patron_part_1.csv</td>\n",
       "      <td>16</td>\n",
       "    </tr>\n",
       "    <tr>\n",
       "      <th>8</th>\n",
       "      <td>7.6</td>\n",
       "      <td>1.6</td>\n",
       "      <td>4.3</td>\n",
       "      <td>2.9</td>\n",
       "      <td>43.5</td>\n",
       "      <td>-2.3</td>\n",
       "      <td>2018-06-14 20:06:48.1788</td>\n",
       "      <td>walking-natural</td>\n",
       "      <td>13935</td>\n",
       "      <td>Data/subject_11_Patron_part_1.csv</td>\n",
       "      <td>16</td>\n",
       "    </tr>\n",
       "    <tr>\n",
       "      <th>9</th>\n",
       "      <td>7.7</td>\n",
       "      <td>0.8</td>\n",
       "      <td>4.0</td>\n",
       "      <td>-18.1</td>\n",
       "      <td>48.6</td>\n",
       "      <td>1.5</td>\n",
       "      <td>2018-06-14 20:06:48.1888</td>\n",
       "      <td>walking-natural</td>\n",
       "      <td>13935</td>\n",
       "      <td>Data/subject_11_Patron_part_1.csv</td>\n",
       "      <td>16</td>\n",
       "    </tr>\n",
       "    <tr>\n",
       "      <th>10</th>\n",
       "      <td>7.7</td>\n",
       "      <td>0.2</td>\n",
       "      <td>3.7</td>\n",
       "      <td>-19.5</td>\n",
       "      <td>52.1</td>\n",
       "      <td>7.0</td>\n",
       "      <td>2018-06-14 20:06:48.1988</td>\n",
       "      <td>walking-natural</td>\n",
       "      <td>13935</td>\n",
       "      <td>Data/subject_11_Patron_part_1.csv</td>\n",
       "      <td>16</td>\n",
       "    </tr>\n",
       "    <tr>\n",
       "      <th>11</th>\n",
       "      <td>7.8</td>\n",
       "      <td>0.0</td>\n",
       "      <td>3.3</td>\n",
       "      <td>-9.0</td>\n",
       "      <td>51.7</td>\n",
       "      <td>11.8</td>\n",
       "      <td>2018-06-14 20:06:48.2088</td>\n",
       "      <td>walking-natural</td>\n",
       "      <td>13935</td>\n",
       "      <td>Data/subject_11_Patron_part_1.csv</td>\n",
       "      <td>16</td>\n",
       "    </tr>\n",
       "    <tr>\n",
       "      <th>12</th>\n",
       "      <td>8.1</td>\n",
       "      <td>0.3</td>\n",
       "      <td>3.5</td>\n",
       "      <td>6.5</td>\n",
       "      <td>47.7</td>\n",
       "      <td>13.8</td>\n",
       "      <td>2018-06-14 20:06:48.2188</td>\n",
       "      <td>walking-natural</td>\n",
       "      <td>13935</td>\n",
       "      <td>Data/subject_11_Patron_part_1.csv</td>\n",
       "      <td>16</td>\n",
       "    </tr>\n",
       "    <tr>\n",
       "      <th>13</th>\n",
       "      <td>8.4</td>\n",
       "      <td>0.7</td>\n",
       "      <td>4.0</td>\n",
       "      <td>25.6</td>\n",
       "      <td>41.0</td>\n",
       "      <td>11.8</td>\n",
       "      <td>2018-06-14 20:06:48.2288</td>\n",
       "      <td>walking-natural</td>\n",
       "      <td>13935</td>\n",
       "      <td>Data/subject_11_Patron_part_1.csv</td>\n",
       "      <td>16</td>\n",
       "    </tr>\n",
       "    <tr>\n",
       "      <th>14</th>\n",
       "      <td>9.1</td>\n",
       "      <td>1.3</td>\n",
       "      <td>4.9</td>\n",
       "      <td>41.9</td>\n",
       "      <td>33.4</td>\n",
       "      <td>8.8</td>\n",
       "      <td>2018-06-14 20:06:48.2388</td>\n",
       "      <td>walking-natural</td>\n",
       "      <td>13935</td>\n",
       "      <td>Data/subject_11_Patron_part_1.csv</td>\n",
       "      <td>16</td>\n",
       "    </tr>\n",
       "    <tr>\n",
       "      <th>15</th>\n",
       "      <td>9.4</td>\n",
       "      <td>1.7</td>\n",
       "      <td>5.5</td>\n",
       "      <td>50.5</td>\n",
       "      <td>26.4</td>\n",
       "      <td>5.2</td>\n",
       "      <td>2018-06-14 20:06:48.2488</td>\n",
       "      <td>walking-natural</td>\n",
       "      <td>13935</td>\n",
       "      <td>Data/subject_11_Patron_part_1.csv</td>\n",
       "      <td>16</td>\n",
       "    </tr>\n",
       "    <tr>\n",
       "      <th>16</th>\n",
       "      <td>9.9</td>\n",
       "      <td>2.1</td>\n",
       "      <td>5.5</td>\n",
       "      <td>52.3</td>\n",
       "      <td>19.7</td>\n",
       "      <td>2.1</td>\n",
       "      <td>2018-06-14 20:06:48.2588</td>\n",
       "      <td>walking-natural</td>\n",
       "      <td>13935</td>\n",
       "      <td>Data/subject_11_Patron_part_1.csv</td>\n",
       "      <td>16</td>\n",
       "    </tr>\n",
       "    <tr>\n",
       "      <th>17</th>\n",
       "      <td>10.3</td>\n",
       "      <td>2.8</td>\n",
       "      <td>5.4</td>\n",
       "      <td>49.0</td>\n",
       "      <td>13.5</td>\n",
       "      <td>0.7</td>\n",
       "      <td>2018-06-14 20:06:48.2688</td>\n",
       "      <td>walking-natural</td>\n",
       "      <td>13935</td>\n",
       "      <td>Data/subject_11_Patron_part_1.csv</td>\n",
       "      <td>16</td>\n",
       "    </tr>\n",
       "    <tr>\n",
       "      <th>18</th>\n",
       "      <td>10.5</td>\n",
       "      <td>3.2</td>\n",
       "      <td>5.4</td>\n",
       "      <td>43.3</td>\n",
       "      <td>9.5</td>\n",
       "      <td>0.4</td>\n",
       "      <td>2018-06-14 20:06:48.2788</td>\n",
       "      <td>walking-natural</td>\n",
       "      <td>13935</td>\n",
       "      <td>Data/subject_11_Patron_part_1.csv</td>\n",
       "      <td>16</td>\n",
       "    </tr>\n",
       "    <tr>\n",
       "      <th>19</th>\n",
       "      <td>10.8</td>\n",
       "      <td>3.5</td>\n",
       "      <td>5.0</td>\n",
       "      <td>36.3</td>\n",
       "      <td>8.7</td>\n",
       "      <td>0.5</td>\n",
       "      <td>2018-06-14 20:06:48.2888</td>\n",
       "      <td>walking-natural</td>\n",
       "      <td>13935</td>\n",
       "      <td>Data/subject_11_Patron_part_1.csv</td>\n",
       "      <td>16</td>\n",
       "    </tr>\n",
       "  </tbody>\n",
       "</table>\n",
       "</div>"
      ],
      "text/plain": [
       "     Ax   Ay  Az    Gx   Gy   Gz                  datetime            label  \\\n",
       "0   6.5 -1.2 3.3 -12.8 54.2 -3.4  2018-06-14 20:06:48.0988  walking-natural   \n",
       "1   6.6 -0.5 3.2   1.7 58.2 -6.8  2018-06-14 20:06:48.1088  walking-natural   \n",
       "2   6.7  0.8 3.5  26.2 60.6 -8.1  2018-06-14 20:06:48.1188  walking-natural   \n",
       "3   6.8  2.1 3.8  48.7 58.9 -8.8  2018-06-14 20:06:48.1288  walking-natural   \n",
       "4   6.8  3.2 4.2  60.0 55.4 -9.1  2018-06-14 20:06:48.1388  walking-natural   \n",
       "5   6.8  3.9 4.7  60.2 50.0 -8.2  2018-06-14 20:06:48.1488  walking-natural   \n",
       "6   6.7  3.5 5.3  50.8 44.5 -6.9  2018-06-14 20:06:48.1588  walking-natural   \n",
       "7   7.2  2.6 5.1  31.4 42.3 -4.8  2018-06-14 20:06:48.1688  walking-natural   \n",
       "8   7.6  1.6 4.3   2.9 43.5 -2.3  2018-06-14 20:06:48.1788  walking-natural   \n",
       "9   7.7  0.8 4.0 -18.1 48.6  1.5  2018-06-14 20:06:48.1888  walking-natural   \n",
       "10  7.7  0.2 3.7 -19.5 52.1  7.0  2018-06-14 20:06:48.1988  walking-natural   \n",
       "11  7.8  0.0 3.3  -9.0 51.7 11.8  2018-06-14 20:06:48.2088  walking-natural   \n",
       "12  8.1  0.3 3.5   6.5 47.7 13.8  2018-06-14 20:06:48.2188  walking-natural   \n",
       "13  8.4  0.7 4.0  25.6 41.0 11.8  2018-06-14 20:06:48.2288  walking-natural   \n",
       "14  9.1  1.3 4.9  41.9 33.4  8.8  2018-06-14 20:06:48.2388  walking-natural   \n",
       "15  9.4  1.7 5.5  50.5 26.4  5.2  2018-06-14 20:06:48.2488  walking-natural   \n",
       "16  9.9  2.1 5.5  52.3 19.7  2.1  2018-06-14 20:06:48.2588  walking-natural   \n",
       "17 10.3  2.8 5.4  49.0 13.5  0.7  2018-06-14 20:06:48.2688  walking-natural   \n",
       "18 10.5  3.2 5.4  43.3  9.5  0.4  2018-06-14 20:06:48.2788  walking-natural   \n",
       "19 10.8  3.5 5.0  36.3  8.7  0.5  2018-06-14 20:06:48.2888  walking-natural   \n",
       "\n",
       "    segment                           filename  ActivityEncoded  \n",
       "0     13935  Data/subject_11_Patron_part_1.csv               16  \n",
       "1     13935  Data/subject_11_Patron_part_1.csv               16  \n",
       "2     13935  Data/subject_11_Patron_part_1.csv               16  \n",
       "3     13935  Data/subject_11_Patron_part_1.csv               16  \n",
       "4     13935  Data/subject_11_Patron_part_1.csv               16  \n",
       "5     13935  Data/subject_11_Patron_part_1.csv               16  \n",
       "6     13935  Data/subject_11_Patron_part_1.csv               16  \n",
       "7     13935  Data/subject_11_Patron_part_1.csv               16  \n",
       "8     13935  Data/subject_11_Patron_part_1.csv               16  \n",
       "9     13935  Data/subject_11_Patron_part_1.csv               16  \n",
       "10    13935  Data/subject_11_Patron_part_1.csv               16  \n",
       "11    13935  Data/subject_11_Patron_part_1.csv               16  \n",
       "12    13935  Data/subject_11_Patron_part_1.csv               16  \n",
       "13    13935  Data/subject_11_Patron_part_1.csv               16  \n",
       "14    13935  Data/subject_11_Patron_part_1.csv               16  \n",
       "15    13935  Data/subject_11_Patron_part_1.csv               16  \n",
       "16    13935  Data/subject_11_Patron_part_1.csv               16  \n",
       "17    13935  Data/subject_11_Patron_part_1.csv               16  \n",
       "18    13935  Data/subject_11_Patron_part_1.csv               16  \n",
       "19    13935  Data/subject_11_Patron_part_1.csv               16  "
      ]
     },
     "execution_count": 4,
     "metadata": {},
     "output_type": "execute_result"
    }
   ],
   "source": [
    "def show_basic_dataframe_info(dataframe):\n",
    "\n",
    "    # Shape and how many rows and columns\n",
    "    print('Number of columns in the dataframe: %i' % (dataframe.shape[1]))\n",
    "    print('Number of rows in the dataframe: %i\\n' % (dataframe.shape[0]))\n",
    "\n",
    "show_basic_dataframe_info(df)\n",
    "df.head(20)"
   ]
  },
  {
   "cell_type": "code",
   "execution_count": 4,
   "id": "dominican-formation",
   "metadata": {
    "tags": []
   },
   "outputs": [],
   "source": [
    "\n",
    "# #Training examples per activity type\n",
    "# df['label'].value_counts().plot(kind='bar', title='Training Examples of subject Viva by Activity Type')\n",
    "# plt.show()\n",
    "\n",
    "# SECONDS = 10 #nr of seconds to display accelerometer data\n",
    "# SAMPLING_RATE = 20 #the sampling rate at which data was recorded\n",
    "\n",
    "# def plot_activity(activity, data):\n",
    "\n",
    "#     fig, (ax0, ax1, ax2) = plt.subplots(nrows=3, figsize=(15, 10), sharex=True)\n",
    "#     plot_axis(ax0, data['datetime'], data['Ax'], 'X-Axis')\n",
    "#     plot_axis(ax1, data['datetime'], data['Ay'], 'Y-Axis')\n",
    "#     plot_axis(ax2, data['datetime'], data['Az'], 'Z-Axis')\n",
    "#     plt.subplots_adjust(hspace=0.2)\n",
    "#     fig.suptitle(activity)\n",
    "#     plt.subplots_adjust(top=0.90)\n",
    "#     plt.show()\n",
    "\n",
    "# def plot_axis(ax, x, y, title):\n",
    "\n",
    "#     ax.plot(x, y, 'r')\n",
    "#     ax.set_title(title)\n",
    "#     ax.xaxis.set_visible(False)\n",
    "#     ax.set_ylim([min(y) - np.std(y), max(y) + np.std(y)])\n",
    "#     ax.set_xlim([min(x), max(x)])\n",
    "#     ax.grid(True)\n",
    "\n",
    "# #plot all 3 subplots for each activity\n",
    "# for activity in np.unique(df['label']):\n",
    "#     subset = df[df['label'] == activity][:SECONDS*SAMPLING_RATE] \n",
    "#     plot_activity(activity, subset)"
   ]
  },
  {
   "cell_type": "code",
   "execution_count": 5,
   "id": "purple-interface",
   "metadata": {},
   "outputs": [],
   "source": [
    "# Define column name of the label vector\n",
    "LABEL = 'ActivityEncoded'\n",
    "# Transform the labels from String to Integer via LabelEncoder\n",
    "le = preprocessing.LabelEncoder()\n",
    "# Add a new column to the existing DataFrame with the encoded values\n",
    "df[LABEL] = le.fit_transform(df['label'].values.ravel())"
   ]
  },
  {
   "cell_type": "markdown",
   "id": "optical-monitoring",
   "metadata": {
    "tags": []
   },
   "source": [
    "# Get only relevant subjects"
   ]
  },
  {
   "cell_type": "code",
   "execution_count": 6,
   "id": "familiar-improvement",
   "metadata": {
    "tags": []
   },
   "outputs": [],
   "source": [
    "#These are the indexes of the relevant subjects, see FILES\n",
    "indexes = [0,1,2,7,8,9,13,14,15,16,17]\n",
    "subjects = [FILES[x] for x in indexes]\n",
    "\n",
    "#new dataframe with only the horses in subjects\n",
    "df = df[df['filename'].isin(subjects)]  \n"
   ]
  },
  {
   "cell_type": "markdown",
   "id": "permanent-currency",
   "metadata": {
    "tags": []
   },
   "source": [
    "# Splitting in test and train"
   ]
  },
  {
   "cell_type": "code",
   "execution_count": 7,
   "id": "adopted-trailer",
   "metadata": {
    "tags": []
   },
   "outputs": [
    {
     "name": "stdout",
     "output_type": "stream",
     "text": [
      "8\n",
      "3\n"
     ]
    }
   ],
   "source": [
    "# Splittingin test and train data\n",
    "def splitBySubject(data, name):\n",
    "  '''\n",
    "  Function to split train and test data by subject\n",
    "  data = dataframe\n",
    "  name = subject to put in test subset\n",
    "  '''\n",
    "  test = data[data['filename'].str.contains(name)]\n",
    "  train = data[~data['filename'].str.contains(name)]\n",
    "  return train, test\n",
    "\n",
    "\n",
    "train, test = splitBySubject(df, 'Galoway')\n",
    "\n",
    "print(len(train['filename'].unique()))\n",
    "print(len(test['filename']. unique()))\n"
   ]
  },
  {
   "cell_type": "markdown",
   "id": "civil-introduction",
   "metadata": {},
   "source": [
    "# Feature scaling"
   ]
  },
  {
   "cell_type": "code",
   "execution_count": 8,
   "id": "retained-employer",
   "metadata": {
    "tags": []
   },
   "outputs": [],
   "source": [
    "train_x_max = train['Ax'].max()\n",
    "train_y_max = train['Ay'].max()\n",
    "train_z_max = train['Az'].max()\n",
    "\n",
    "train_gx_max = train['Gx'].max()\n",
    "train_gy_max = train['Gy'].max()\n",
    "train_gz_max = train['Gz'].max()\n",
    "\n",
    "pd.options.mode.chained_assignment = None \n",
    "\n",
    "#divide all 3 axis with the max value in the training set\n",
    "train['Ax'] = train['Ax'] / train_x_max\n",
    "train['Ay'] = train['Ay'] / train_y_max\n",
    "train['Az'] = train['Az'] / train_z_max\n",
    "\n",
    "train['Gx'] = train['Ax'] / train_gx_max\n",
    "train['Gy'] = train['Ay'] / train_gy_max\n",
    "train['Gz'] = train['Az'] / train_gz_max\n",
    "\n",
    "train = train.round({'Ax': 4, 'Ay': 4, 'Az': 4, 'Gx':4, 'Gy':4, 'Gz':4})\n"
   ]
  },
  {
   "cell_type": "markdown",
   "id": "narrative-sphere",
   "metadata": {},
   "source": [
    "# Windowing"
   ]
  },
  {
   "cell_type": "code",
   "execution_count": 9,
   "id": "macro-quarterly",
   "metadata": {},
   "outputs": [],
   "source": [
    "def createWindows(df, time_steps, step, label_name):\n",
    "    N_FEATURES = 6\n",
    "    windows = []\n",
    "    labels = []\n",
    "    for i in range(0, len(df)-time_steps, step):\n",
    "        axs = df['Ax'].values[i: i + time_steps]\n",
    "        ays = df['Ay'].values[i: i + time_steps]\n",
    "        azs = df['Az'].values[i: i + time_steps]\n",
    "        \n",
    "        gxs = df['Gx'].values[i: i + time_steps]\n",
    "        gys = df['Gy'].values[i: i + time_steps]\n",
    "        gzs = df['Gz'].values[i: i + time_steps]\n",
    "        # Retrieve the most often used label in this segment\n",
    "        label = stats.mode(df[label_name][i: i + time_steps])[0][0]\n",
    "        windows.append([axs, ays, azs, gxs, gys, gzs])\n",
    "        labels.append(label)\n",
    "    # Bring the segments into a better shape\n",
    "    reshaped_windows = np.asarray(windows, dtype= np.float32).reshape(-1, time_steps, N_FEATURES)\n",
    "    labels = np.asarray(labels)\n",
    "\n",
    "    return reshaped_windows, labels\n",
    "\n",
    "\n",
    "x_train, y_train = createWindows(train, \n",
    "                                 TIME_PERIODS, \n",
    "                                 STEP_DISTANCE, \n",
    "                                 LABEL)"
   ]
  },
  {
   "cell_type": "markdown",
   "id": "labeled-support",
   "metadata": {},
   "source": [
    "# Store dimensions"
   ]
  },
  {
   "cell_type": "code",
   "execution_count": 10,
   "id": "floating-sheffield",
   "metadata": {},
   "outputs": [
    {
     "name": "stdout",
     "output_type": "stream",
     "text": [
      "x_train shape:  (60330, 200, 6)\n",
      "60330 training samples\n",
      "y_train shape:  (60330,)\n"
     ]
    }
   ],
   "source": [
    "# checking the shape of one dimentional xtrain\n",
    "print('x_train shape: ', x_train.shape)\n",
    "print(x_train.shape[0], 'training samples')\n",
    "print('y_train shape: ', y_train.shape)\n"
   ]
  },
  {
   "cell_type": "code",
   "execution_count": 11,
   "id": "willing-release",
   "metadata": {
    "tags": []
   },
   "outputs": [],
   "source": [
    "# initial values\n",
    "num_time_periods, num_sensors = x_train.shape[1], x_train.shape[2]\n",
    "num_classes = le.classes_.size\n"
   ]
  },
  {
   "cell_type": "code",
   "execution_count": 12,
   "id": "painful-services",
   "metadata": {
    "tags": []
   },
   "outputs": [
    {
     "name": "stdout",
     "output_type": "stream",
     "text": [
      "x_train shape: (60330, 1200)\n",
      "input_shape: 1200\n"
     ]
    }
   ],
   "source": [
    "# reshaping one dimentional xtrain into fitted data for the classifier\n",
    "input_shape = (num_time_periods*num_sensors)\n",
    "x_train = x_train.reshape(x_train.shape[0], input_shape)\n",
    "print('x_train shape:', x_train.shape)\n",
    "print('input_shape:', input_shape)"
   ]
  },
  {
   "cell_type": "code",
   "execution_count": 13,
   "id": "allied-radius",
   "metadata": {},
   "outputs": [],
   "source": [
    "x_train = x_train.astype('float32')\n",
    "y_train = y_train.astype('float32')"
   ]
  },
  {
   "cell_type": "markdown",
   "id": "opened-murray",
   "metadata": {},
   "source": [
    "# Only run this once:"
   ]
  },
  {
   "cell_type": "code",
   "execution_count": 14,
   "id": "literary-melissa",
   "metadata": {},
   "outputs": [
    {
     "name": "stdout",
     "output_type": "stream",
     "text": [
      "New y_train shape:  (60330, 18)\n"
     ]
    }
   ],
   "source": [
    "# Applying one hot coding to y_train\n",
    "y_train_hot = np_utils.to_categorical(y_train, num_classes)\n",
    "print('New y_train shape: ', y_train_hot.shape)"
   ]
  },
  {
   "cell_type": "markdown",
   "id": "bibliographic-asian",
   "metadata": {},
   "source": [
    "# Classifier"
   ]
  },
  {
   "cell_type": "code",
   "execution_count": 15,
   "id": "colored-canberra",
   "metadata": {},
   "outputs": [
    {
     "name": "stdout",
     "output_type": "stream",
     "text": [
      "Model: \"sequential\"\n",
      "_________________________________________________________________\n",
      "Layer (type)                 Output Shape              Param #   \n",
      "=================================================================\n",
      "reshape (Reshape)            (None, 200, 6)            0         \n",
      "_________________________________________________________________\n",
      "dense (Dense)                (None, 200, 100)          700       \n",
      "_________________________________________________________________\n",
      "dense_1 (Dense)              (None, 200, 100)          10100     \n",
      "_________________________________________________________________\n",
      "dense_2 (Dense)              (None, 200, 100)          10100     \n",
      "_________________________________________________________________\n",
      "flatten (Flatten)            (None, 20000)             0         \n",
      "_________________________________________________________________\n",
      "dense_3 (Dense)              (None, 18)                360018    \n",
      "=================================================================\n",
      "Total params: 380,918\n",
      "Trainable params: 380,918\n",
      "Non-trainable params: 0\n",
      "_________________________________________________________________\n",
      "None\n"
     ]
    }
   ],
   "source": [
    "model_m = Sequential()\n",
    "# Remark: since coreml cannot accept vector shapes of complex shape like\n",
    "# [80,3] this workaround is used in order to reshape the vector internally\n",
    "# prior feeding it into the network\n",
    "model_m.add(Reshape((TIME_PERIODS, 6), input_shape=(input_shape,)))\n",
    "model_m.add(Dense(100, activation='relu'))\n",
    "model_m.add(Dense(100, activation='relu'))\n",
    "model_m.add(Dense(100, activation='relu'))\n",
    "model_m.add(Flatten())\n",
    "model_m.add(Dense(num_classes, activation='softmax'))\n",
    "print(model_m.summary())"
   ]
  },
  {
   "cell_type": "code",
   "execution_count": 16,
   "id": "structured-fiber",
   "metadata": {
    "tags": []
   },
   "outputs": [
    {
     "name": "stdout",
     "output_type": "stream",
     "text": [
      "Epoch 1/20\n",
      "121/121 [==============================] - 24s 193ms/step - loss: 1.3420 - accuracy: 0.5834 - val_loss: 0.4647 - val_accuracy: 0.8969\n",
      "Epoch 2/20\n",
      "121/121 [==============================] - 23s 189ms/step - loss: 0.3028 - accuracy: 0.9175 - val_loss: 0.4445 - val_accuracy: 0.8512\n",
      "Epoch 3/20\n",
      "121/121 [==============================] - 23s 191ms/step - loss: 0.2569 - accuracy: 0.9273 - val_loss: 0.4541 - val_accuracy: 0.8526\n",
      "Epoch 4/20\n",
      "121/121 [==============================] - 23s 187ms/step - loss: 0.2315 - accuracy: 0.9346 - val_loss: 0.6139 - val_accuracy: 0.7678\n",
      "Epoch 5/20\n",
      "121/121 [==============================] - 24s 200ms/step - loss: 0.2256 - accuracy: 0.9346 - val_loss: 0.5320 - val_accuracy: 0.8104\n",
      "Epoch 6/20\n",
      "121/121 [==============================] - 24s 194ms/step - loss: 0.1998 - accuracy: 0.9414 - val_loss: 0.7725 - val_accuracy: 0.7084\n",
      "Epoch 7/20\n",
      "121/121 [==============================] - 24s 199ms/step - loss: 0.1945 - accuracy: 0.9420 - val_loss: 0.6313 - val_accuracy: 0.7664\n",
      "Epoch 8/20\n",
      "121/121 [==============================] - 24s 196ms/step - loss: 0.1820 - accuracy: 0.9467 - val_loss: 0.6277 - val_accuracy: 0.7816\n",
      "Epoch 9/20\n",
      "121/121 [==============================] - 23s 191ms/step - loss: 0.1692 - accuracy: 0.9486 - val_loss: 0.8625 - val_accuracy: 0.7142\n",
      "Epoch 10/20\n",
      "121/121 [==============================] - 25s 205ms/step - loss: 0.1677 - accuracy: 0.9494 - val_loss: 0.7916 - val_accuracy: 0.7291\n",
      "Epoch 11/20\n",
      "121/121 [==============================] - 24s 197ms/step - loss: 0.1666 - accuracy: 0.9495 - val_loss: 0.6934 - val_accuracy: 0.7973\n"
     ]
    }
   ],
   "source": [
    "callbacks_list = [\n",
    "    keras.callbacks.ModelCheckpoint(\n",
    "        filepath='best_model.{epoch:02d}-{val_loss:.2f}.h5',\n",
    "        monitor='val_loss', save_best_only=True),\n",
    "    keras.callbacks.EarlyStopping(monitor='accuracy', patience=1)\n",
    "]\n",
    "\n",
    "model_m.compile(loss='categorical_crossentropy',\n",
    "                optimizer='adam', metrics=['accuracy'])\n",
    "\n",
    "# Hyper-parameters\n",
    "BATCH_SIZE = 400\n",
    "EPOCHS = 20\n",
    "\n",
    "# Enable validation to use ModelCheckpoint and EarlyStopping callbacks.\n",
    "history = model_m.fit(x_train,\n",
    "                      y_train_hot,\n",
    "                      batch_size=BATCH_SIZE,\n",
    "                      epochs=EPOCHS,\n",
    "                      callbacks=callbacks_list,\n",
    "                      validation_split=0.2,\n",
    "                      verbose=1)\n",
    "\n"
   ]
  },
  {
   "cell_type": "code",
   "execution_count": 17,
   "id": "round-dependence",
   "metadata": {
    "tags": []
   },
   "outputs": [
    {
     "data": {
      "image/png": "[encoded data removed]",
      "text/plain": [
       "<Figure size 432x288 with 1 Axes>"
      ]
     },
     "metadata": {},
     "output_type": "display_data"
    },
    {
     "name": "stdout",
     "output_type": "stream",
     "text": [
      "              precision    recall  f1-score   support\n",
      "\n",
      "         0.0       1.00      0.03      0.05        39\n",
      "         3.0       0.94      0.86      0.90     12268\n",
      "         4.0       0.87      0.79      0.83       707\n",
      "         6.0       0.94      0.46      0.62        63\n",
      "         7.0       1.00      0.50      0.67         8\n",
      "         8.0       0.78      0.74      0.76        81\n",
      "         9.0       0.85      0.95      0.90      2299\n",
      "        11.0       0.05      0.18      0.08        62\n",
      "        12.0       0.55      0.34      0.42        32\n",
      "        13.0       0.98      0.95      0.97      3528\n",
      "        14.0       0.46      0.81      0.59        37\n",
      "        15.0       0.99      0.96      0.97     17048\n",
      "        16.0       0.31      0.37      0.34      2136\n",
      "        17.0       0.94      0.98      0.96     22022\n",
      "\n",
      "    accuracy                           0.92     60330\n",
      "   macro avg       0.76      0.64      0.65     60330\n",
      "weighted avg       0.93      0.92      0.92     60330\n",
      "\n"
     ]
    }
   ],
   "source": [
    "plt.figure(figsize=(6, 4))\n",
    "plt.plot(history.history['accuracy'], 'r', label='Accuracy of training data')\n",
    "plt.plot(history.history['val_accuracy'], 'b', label='Accuracy of validation data')\n",
    "plt.plot(history.history['loss'], 'r--', label='Loss of training data')\n",
    "plt.plot(history.history['val_loss'], 'b--', label='Loss of validation data')\n",
    "plt.title('Model Accuracy and Loss')\n",
    "plt.ylabel('Accuracy and Loss')\n",
    "plt.xlabel('Training Epoch')\n",
    "plt.ylim(0)\n",
    "plt.legend()\n",
    "plt.show()\n",
    "\n",
    "# Print confusion matrix for training data\n",
    "y_pred_train = model_m.predict(x_train)\n",
    "# Take the class with the highest probability from the train predictions\n",
    "max_y_pred_train = np.argmax(y_pred_train, axis=1)\n",
    "print(classification_report(y_train, max_y_pred_train))\n"
   ]
  },
  {
   "cell_type": "code",
   "execution_count": 18,
   "id": "later-terror",
   "metadata": {},
   "outputs": [
    {
     "name": "stdout",
     "output_type": "stream",
     "text": [
      "892/892 [==============================] - 5s 6ms/step - loss: 1.4809 - accuracy: 0.7090\n",
      "\n",
      "Accuracy on test data: 0.71\n",
      "\n",
      "Loss on test data: 1.48\n"
     ]
    }
   ],
   "source": [
    "# Normalize features for training data set\n",
    "test['Ax'] = test['Ax'] / test['Ax'].max()\n",
    "test['Ay'] = test['Ay'] / test['Ay'].max()\n",
    "test['Az'] = test['Az'] / test['Az'].max()\n",
    "\n",
    "test['Gx'] = test['Gx'] / test['Gx'].max()\n",
    "test['Gy'] = test['Gy'] / test['Gy'].max()\n",
    "test['Gz'] = test['Gz'] / test['Gz'].max()\n",
    "\n",
    "df_test = test.round({'Ax': 4, 'Ay': 4, 'Az': 4, 'Gx':4, 'Gy':4, 'Gz':4})\n",
    "\n",
    "x_test, y_test = createWindows(df_test,\n",
    "                               TIME_PERIODS,\n",
    "                               STEP_DISTANCE,\n",
    "                               LABEL)\n",
    "\n",
    "# Set input_shape / reshape for Keras\n",
    "x_test = x_test.reshape(x_test.shape[0], input_shape)\n",
    "\n",
    "x_test = x_test.astype('float32')\n",
    "y_test = y_test.astype('float32')\n",
    "\n",
    "y_test = np_utils.to_categorical(y_test, num_classes)\n",
    "\n",
    "score = model_m.evaluate(x_test, y_test, verbose=1)\n",
    "\n",
    "print('\\nAccuracy on test data: %0.2f' % score[1])\n",
    "print('\\nLoss on test data: %0.2f' % score[0])"
   ]
  },
  {
   "cell_type": "code",
   "execution_count": 19,
   "id": "opponent-synthesis",
   "metadata": {
    "tags": []
   },
   "outputs": [
    {
     "data": {
      "image/png": "[encoded data removed]",
      "text/plain": [
       "<Figure size 432x288 with 2 Axes>"
      ]
     },
     "metadata": {},
     "output_type": "display_data"
    },
    {
     "name": "stdout",
     "output_type": "stream",
     "text": [
      "              precision    recall  f1-score   support\n",
      "\n",
      "           0       0.00      0.00      0.00        18\n",
      "           1       0.00      0.00      0.00        32\n",
      "           3       0.88      0.81      0.84      4992\n",
      "           4       0.14      0.04      0.06       138\n",
      "           6       0.00      0.00      0.00        15\n",
      "           8       0.50      0.05      0.09        20\n",
      "           9       0.83      0.05      0.09      1172\n",
      "          11       0.00      0.00      0.00       207\n",
      "          12       0.00      0.00      0.00        10\n",
      "          13       0.59      0.95      0.73      2078\n",
      "          14       0.01      0.26      0.02        74\n",
      "          15       0.90      0.66      0.76      7203\n",
      "          16       0.21      0.52      0.29      1705\n",
      "          17       0.92      0.78      0.84     10861\n",
      "\n",
      "    accuracy                           0.71     28525\n",
      "   macro avg       0.35      0.29      0.27     28525\n",
      "weighted avg       0.82      0.71      0.74     28525\n",
      "\n"
     ]
    },
    {
     "name": "stderr",
     "output_type": "stream",
     "text": [
      "/home/rosalie/.local/lib/python3.8/site-packages/sklearn/metrics/_classification.py:1245: UndefinedMetricWarning: Precision and F-score are ill-defined and being set to 0.0 in labels with no predicted samples. Use `zero_division` parameter to control this behavior.\n",
      "  _warn_prf(average, modifier, msg_start, len(result))\n",
      "/home/rosalie/.local/lib/python3.8/site-packages/sklearn/metrics/_classification.py:1245: UndefinedMetricWarning: Precision and F-score are ill-defined and being set to 0.0 in labels with no predicted samples. Use `zero_division` parameter to control this behavior.\n",
      "  _warn_prf(average, modifier, msg_start, len(result))\n",
      "/home/rosalie/.local/lib/python3.8/site-packages/sklearn/metrics/_classification.py:1245: UndefinedMetricWarning: Precision and F-score are ill-defined and being set to 0.0 in labels with no predicted samples. Use `zero_division` parameter to control this behavior.\n",
      "  _warn_prf(average, modifier, msg_start, len(result))\n"
     ]
    }
   ],
   "source": [
    "def show_confusion_matrix(validations, predictions):\n",
    "\n",
    "    matrix = metrics.confusion_matrix(validations, predictions)\n",
    "    plt.figure(figsize=(6, 4))\n",
    "    sns.heatmap(matrix,\n",
    "                cmap='coolwarm',\n",
    "                linecolor='white',\n",
    "                linewidths=1,\n",
    "                xticklabels=LABELS,\n",
    "                yticklabels=LABELS,\n",
    "                annot=True,\n",
    "                fmt='d')\n",
    "    plt.title('Confusion Matrix')\n",
    "    plt.ylabel('True Label')\n",
    "    plt.xlabel('Predicted Label')\n",
    "    plt.show()\n",
    "\n",
    "y_pred_test = model_m.predict(x_test)\n",
    "# Take the class with the highest probability from the test predictions\n",
    "max_y_pred_test = np.argmax(y_pred_test, axis=1)\n",
    "max_y_test = np.argmax(y_test, axis=1)\n",
    "\n",
    "show_confusion_matrix(max_y_test, max_y_pred_test)\n",
    "\n",
    "print(classification_report(max_y_test, max_y_pred_test))"
   ]
  },
  {
   "cell_type": "code",
   "execution_count": null,
   "id": "organized-tactics",
   "metadata": {},
   "outputs": [],
   "source": []
  }
 ],
 "metadata": {
  "kernelspec": {
   "display_name": "Python 3",
   "language": "python",
   "name": "python3"
  },
  "language_info": {
   "codemirror_mode": {
    "name": "ipython",
    "version": 3
   },
   "file_extension": ".py",
   "mimetype": "text/x-python",
   "name": "python",
   "nbconvert_exporter": "python",
   "pygments_lexer": "ipython3",
   "version": "3.8.8"
  }
 },
 "nbformat": 4,
 "nbformat_minor": 5
}
