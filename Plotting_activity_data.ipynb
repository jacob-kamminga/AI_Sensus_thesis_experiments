SECONDS = 10 #nr of seconds to display accelerometer data
SAMPLING_RATE = 20 #the sampling rate at which data was recorded

def plot_activity(activity, data):
    fig, ax = plt.subplots()
    l1, = ax.plot(data['datetime'], data['Ax'], label="X-axis")
    l2, = ax.plot(data['datetime'], data['Ay'], label="Y-Axis")
    l3, = ax.plot(data['datetime'], data['Az'], label="Z-Axis")
    ax.xaxis.set_ticks([])
    ax.set_title(activity)
    ax.set_ylabel('Accelerometer measurement')
    ax.set_xlabel('Time')
    ax.grid(False)
    ax.legend(handles=[l1,l2,l3], loc='lower right')
    plt.show()

#plot all 3 subplots for each activity
for activity in np.unique(df['label']):
    subset = df[df['label'] == activity][:SECONDS*SAMPLING_RATE] 
    plot_activity(activity, subset)
