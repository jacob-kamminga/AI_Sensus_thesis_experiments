#Training examples per activity type
#df['label'].value_counts().plot(kind='bar', title='Training Examples by Activity Type')
#plt.show()

SECONDS = 10 #nr of seconds to display accelerometer data
SAMPLING_RATE = 20 #the sampling rate at which data was recorded

def plot_activity(activity, data):
    fig, ax = plt.subplots(nrows=1, ncols=2, figsize=(20, 4))
    l1, = ax[0].plot(data['datetime'], data['Ax'], label="X-axis")
    l2, = ax[0].plot(data['datetime'], data['Ay'], label="Y-Axis")
    l3, = ax[0].plot(data['datetime'], data['Az'], label="Z-Axis")
    ax[0].set_ylabel('Accelerometer measurement')
    ax[0].set_xlabel('Time')
    ax[0].legend(handles=[l1,l2,l3], loc='lower right')
    ax[0].xaxis.set_ticks([])
    ax[0].set_title(activity+" accelerometer data")
    ax[0].grid(False)
    
    l1, = ax[1].plot(data['datetime'], data['Gx'], label="X-axis")
    l2, = ax[1].plot(data['datetime'], data['Gy'], label="Y-Axis")
    l3, = ax[1].plot(data['datetime'], data['Gz'], label="Z-Axis")
    ax[1].set_ylabel('Gyroscope measurement')
    ax[1].set_xlabel('Time')
    ax[1].legend(handles=[l1,l2,l3], loc='lower right')
    ax[1].xaxis.set_ticks([])
    ax[1].set_title(activity+" gyroscope data")
    ax[1].grid(False)
    
    plt.show()

#plot all 3 subplots for each activity
for activity in np.unique(df['label']):
    subset = df[df['label'] == activity][:SECONDS*SAMPLING_RATE] 
    plot_activity(activity, subset)
